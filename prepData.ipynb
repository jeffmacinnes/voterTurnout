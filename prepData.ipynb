{
 "cells": [
  {
   "cell_type": "markdown",
   "metadata": {},
   "source": [
    "# Prep Data\n",
    "\n",
    "Create a data table showing voter turnout rate by county for the 2016 Presidential election"
   ]
  },
  {
   "cell_type": "code",
   "execution_count": 1,
   "metadata": {},
   "outputs": [],
   "source": [
    "import os\n",
    "import sys\n",
    "\n",
    "import pandas as pd\n",
    "import numpy as np\n",
    "import matplotlib.pyplot as plt"
   ]
  },
  {
   "cell_type": "markdown",
   "metadata": {},
   "source": [
    "## Total Votes by county\n",
    "\n",
    "The data was scraped from https://www.townhall.com/election/2016/president/  \n",
    "\n",
    "Found a github repo where much of this scraping has been done already: https://github.com/tonmcg/US_County_Level_Election_Results_08-16"
   ]
  },
  {
   "cell_type": "code",
   "execution_count": 2,
   "metadata": {},
   "outputs": [],
   "source": [
    "file_url = 'https://raw.githubusercontent.com/tonmcg/US_County_Level_Election_Results_08-16/master/2016_US_County_Level_Presidential_Results.csv'\n",
    "votes_df = pd.read_csv(file_url)"
   ]
  },
  {
   "cell_type": "code",
   "execution_count": 3,
   "metadata": {},
   "outputs": [
    {
     "data": {
      "text/html": [
       "<div>\n",
       "<style scoped>\n",
       "    .dataframe tbody tr th:only-of-type {\n",
       "        vertical-align: middle;\n",
       "    }\n",
       "\n",
       "    .dataframe tbody tr th {\n",
       "        vertical-align: top;\n",
       "    }\n",
       "\n",
       "    .dataframe thead th {\n",
       "        text-align: right;\n",
       "    }\n",
       "</style>\n",
       "<table border=\"1\" class=\"dataframe\">\n",
       "  <thead>\n",
       "    <tr style=\"text-align: right;\">\n",
       "      <th></th>\n",
       "      <th>Unnamed: 0</th>\n",
       "      <th>votes_dem</th>\n",
       "      <th>votes_gop</th>\n",
       "      <th>total_votes</th>\n",
       "      <th>per_dem</th>\n",
       "      <th>per_gop</th>\n",
       "      <th>diff</th>\n",
       "      <th>per_point_diff</th>\n",
       "      <th>state_abbr</th>\n",
       "      <th>county_name</th>\n",
       "      <th>combined_fips</th>\n",
       "    </tr>\n",
       "  </thead>\n",
       "  <tbody>\n",
       "    <tr>\n",
       "      <th>0</th>\n",
       "      <td>0</td>\n",
       "      <td>93003.0</td>\n",
       "      <td>130413.0</td>\n",
       "      <td>246588.0</td>\n",
       "      <td>0.377159</td>\n",
       "      <td>0.52887</td>\n",
       "      <td>37,410</td>\n",
       "      <td>15.17%</td>\n",
       "      <td>AK</td>\n",
       "      <td>Alaska</td>\n",
       "      <td>2013</td>\n",
       "    </tr>\n",
       "    <tr>\n",
       "      <th>1</th>\n",
       "      <td>1</td>\n",
       "      <td>93003.0</td>\n",
       "      <td>130413.0</td>\n",
       "      <td>246588.0</td>\n",
       "      <td>0.377159</td>\n",
       "      <td>0.52887</td>\n",
       "      <td>37,410</td>\n",
       "      <td>15.17%</td>\n",
       "      <td>AK</td>\n",
       "      <td>Alaska</td>\n",
       "      <td>2016</td>\n",
       "    </tr>\n",
       "    <tr>\n",
       "      <th>2</th>\n",
       "      <td>2</td>\n",
       "      <td>93003.0</td>\n",
       "      <td>130413.0</td>\n",
       "      <td>246588.0</td>\n",
       "      <td>0.377159</td>\n",
       "      <td>0.52887</td>\n",
       "      <td>37,410</td>\n",
       "      <td>15.17%</td>\n",
       "      <td>AK</td>\n",
       "      <td>Alaska</td>\n",
       "      <td>2020</td>\n",
       "    </tr>\n",
       "    <tr>\n",
       "      <th>3</th>\n",
       "      <td>3</td>\n",
       "      <td>93003.0</td>\n",
       "      <td>130413.0</td>\n",
       "      <td>246588.0</td>\n",
       "      <td>0.377159</td>\n",
       "      <td>0.52887</td>\n",
       "      <td>37,410</td>\n",
       "      <td>15.17%</td>\n",
       "      <td>AK</td>\n",
       "      <td>Alaska</td>\n",
       "      <td>2050</td>\n",
       "    </tr>\n",
       "    <tr>\n",
       "      <th>4</th>\n",
       "      <td>4</td>\n",
       "      <td>93003.0</td>\n",
       "      <td>130413.0</td>\n",
       "      <td>246588.0</td>\n",
       "      <td>0.377159</td>\n",
       "      <td>0.52887</td>\n",
       "      <td>37,410</td>\n",
       "      <td>15.17%</td>\n",
       "      <td>AK</td>\n",
       "      <td>Alaska</td>\n",
       "      <td>2060</td>\n",
       "    </tr>\n",
       "  </tbody>\n",
       "</table>\n",
       "</div>"
      ],
      "text/plain": [
       "   Unnamed: 0  votes_dem  votes_gop  total_votes   per_dem  per_gop    diff  \\\n",
       "0           0    93003.0   130413.0     246588.0  0.377159  0.52887  37,410   \n",
       "1           1    93003.0   130413.0     246588.0  0.377159  0.52887  37,410   \n",
       "2           2    93003.0   130413.0     246588.0  0.377159  0.52887  37,410   \n",
       "3           3    93003.0   130413.0     246588.0  0.377159  0.52887  37,410   \n",
       "4           4    93003.0   130413.0     246588.0  0.377159  0.52887  37,410   \n",
       "\n",
       "  per_point_diff state_abbr county_name  combined_fips  \n",
       "0         15.17%         AK      Alaska           2013  \n",
       "1         15.17%         AK      Alaska           2016  \n",
       "2         15.17%         AK      Alaska           2020  \n",
       "3         15.17%         AK      Alaska           2050  \n",
       "4         15.17%         AK      Alaska           2060  "
      ]
     },
     "execution_count": 3,
     "metadata": {},
     "output_type": "execute_result"
    }
   ],
   "source": [
    "votes_df.head()"
   ]
  },
  {
   "cell_type": "code",
   "execution_count": 4,
   "metadata": {},
   "outputs": [],
   "source": [
    "votes_df = votes_df[['total_votes', 'state_abbr', 'county_name', 'combined_fips']]"
   ]
  },
  {
   "cell_type": "code",
   "execution_count": 5,
   "metadata": {},
   "outputs": [],
   "source": [
    "votes_df.rename(columns={'total_votes': 'totalVotes', 'combined_fips': 'FIPS'}, inplace=True)"
   ]
  },
  {
   "cell_type": "code",
   "execution_count": 6,
   "metadata": {},
   "outputs": [],
   "source": [
    "votes_df['FIPS'] = votes_df['FIPS'].apply(lambda x: str(x).zfill(5))"
   ]
  },
  {
   "cell_type": "code",
   "execution_count": 7,
   "metadata": {},
   "outputs": [
    {
     "data": {
      "text/html": [
       "<div>\n",
       "<style scoped>\n",
       "    .dataframe tbody tr th:only-of-type {\n",
       "        vertical-align: middle;\n",
       "    }\n",
       "\n",
       "    .dataframe tbody tr th {\n",
       "        vertical-align: top;\n",
       "    }\n",
       "\n",
       "    .dataframe thead th {\n",
       "        text-align: right;\n",
       "    }\n",
       "</style>\n",
       "<table border=\"1\" class=\"dataframe\">\n",
       "  <thead>\n",
       "    <tr style=\"text-align: right;\">\n",
       "      <th></th>\n",
       "      <th>totalVotes</th>\n",
       "      <th>state_abbr</th>\n",
       "      <th>county_name</th>\n",
       "      <th>FIPS</th>\n",
       "    </tr>\n",
       "  </thead>\n",
       "  <tbody>\n",
       "    <tr>\n",
       "      <th>3136</th>\n",
       "      <td>16661.0</td>\n",
       "      <td>WY</td>\n",
       "      <td>Sweetwater County</td>\n",
       "      <td>56037</td>\n",
       "    </tr>\n",
       "    <tr>\n",
       "      <th>3137</th>\n",
       "      <td>12176.0</td>\n",
       "      <td>WY</td>\n",
       "      <td>Teton County</td>\n",
       "      <td>56039</td>\n",
       "    </tr>\n",
       "    <tr>\n",
       "      <th>3138</th>\n",
       "      <td>8053.0</td>\n",
       "      <td>WY</td>\n",
       "      <td>Uinta County</td>\n",
       "      <td>56041</td>\n",
       "    </tr>\n",
       "    <tr>\n",
       "      <th>3139</th>\n",
       "      <td>3715.0</td>\n",
       "      <td>WY</td>\n",
       "      <td>Washakie County</td>\n",
       "      <td>56043</td>\n",
       "    </tr>\n",
       "    <tr>\n",
       "      <th>3140</th>\n",
       "      <td>3334.0</td>\n",
       "      <td>WY</td>\n",
       "      <td>Weston County</td>\n",
       "      <td>56045</td>\n",
       "    </tr>\n",
       "  </tbody>\n",
       "</table>\n",
       "</div>"
      ],
      "text/plain": [
       "      totalVotes state_abbr        county_name   FIPS\n",
       "3136     16661.0         WY  Sweetwater County  56037\n",
       "3137     12176.0         WY       Teton County  56039\n",
       "3138      8053.0         WY       Uinta County  56041\n",
       "3139      3715.0         WY    Washakie County  56043\n",
       "3140      3334.0         WY      Weston County  56045"
      ]
     },
     "execution_count": 7,
     "metadata": {},
     "output_type": "execute_result"
    }
   ],
   "source": [
    "votes_df.tail()"
   ]
  },
  {
   "cell_type": "code",
   "execution_count": 8,
   "metadata": {},
   "outputs": [
    {
     "data": {
      "text/plain": [
       "(3141, 4)"
      ]
     },
     "execution_count": 8,
     "metadata": {},
     "output_type": "execute_result"
    }
   ],
   "source": [
    "votes_df.shape"
   ]
  },
  {
   "cell_type": "markdown",
   "metadata": {},
   "source": [
    "# Voting Age Population by county\n",
    "\n",
    "County level data from US Census, 2012-2016 American Community Survey 5 year estimates https://www.census.gov/programs-surveys/decennial-census/about/voting-rights/cvap.2016.html\n",
    "\n",
    "**Note:** had to download, and resave the County.csv file with encoding as utf-8 "
   ]
  },
  {
   "cell_type": "code",
   "execution_count": 9,
   "metadata": {},
   "outputs": [
    {
     "name": "stdout",
     "output_type": "stream",
     "text": [
      "ACS_CVAP_County.csv  usCounties.csv\n"
     ]
    }
   ],
   "source": [
    "ls data/raw"
   ]
  },
  {
   "cell_type": "code",
   "execution_count": 10,
   "metadata": {},
   "outputs": [],
   "source": [
    "vap_df = pd.read_csv('data/raw/ACS_CVAP_County.csv')"
   ]
  },
  {
   "cell_type": "code",
   "execution_count": 11,
   "metadata": {},
   "outputs": [
    {
     "data": {
      "text/html": [
       "<div>\n",
       "<style scoped>\n",
       "    .dataframe tbody tr th:only-of-type {\n",
       "        vertical-align: middle;\n",
       "    }\n",
       "\n",
       "    .dataframe tbody tr th {\n",
       "        vertical-align: top;\n",
       "    }\n",
       "\n",
       "    .dataframe thead th {\n",
       "        text-align: right;\n",
       "    }\n",
       "</style>\n",
       "<table border=\"1\" class=\"dataframe\">\n",
       "  <thead>\n",
       "    <tr style=\"text-align: right;\">\n",
       "      <th></th>\n",
       "      <th>GEONAME</th>\n",
       "      <th>LNTITLE</th>\n",
       "      <th>GEOID</th>\n",
       "      <th>LNNUMBER</th>\n",
       "      <th>TOT_EST</th>\n",
       "      <th>TOT_MOE</th>\n",
       "      <th>ADU_EST</th>\n",
       "      <th>ADU_MOE</th>\n",
       "      <th>CIT_EST</th>\n",
       "      <th>CIT_MOE</th>\n",
       "      <th>CVAP_EST</th>\n",
       "      <th>CVAP_MOE</th>\n",
       "    </tr>\n",
       "  </thead>\n",
       "  <tbody>\n",
       "    <tr>\n",
       "      <th>0</th>\n",
       "      <td>Autauga County, Alabama</td>\n",
       "      <td>Total</td>\n",
       "      <td>05000US01001</td>\n",
       "      <td>1</td>\n",
       "      <td>55050</td>\n",
       "      <td>NaN</td>\n",
       "      <td>41195</td>\n",
       "      <td>34.0</td>\n",
       "      <td>54510</td>\n",
       "      <td>263</td>\n",
       "      <td>40690</td>\n",
       "      <td>236</td>\n",
       "    </tr>\n",
       "    <tr>\n",
       "      <th>1</th>\n",
       "      <td>Autauga County, Alabama</td>\n",
       "      <td>Not Hispanic or Latino</td>\n",
       "      <td>05000US01001</td>\n",
       "      <td>2</td>\n",
       "      <td>53635</td>\n",
       "      <td>NaN</td>\n",
       "      <td>40290</td>\n",
       "      <td>35.0</td>\n",
       "      <td>53325</td>\n",
       "      <td>220</td>\n",
       "      <td>40015</td>\n",
       "      <td>184</td>\n",
       "    </tr>\n",
       "    <tr>\n",
       "      <th>2</th>\n",
       "      <td>Autauga County, Alabama</td>\n",
       "      <td>American Indian or Alaska Native Alone</td>\n",
       "      <td>05000US01001</td>\n",
       "      <td>3</td>\n",
       "      <td>225</td>\n",
       "      <td>74.0</td>\n",
       "      <td>125</td>\n",
       "      <td>55.0</td>\n",
       "      <td>225</td>\n",
       "      <td>74</td>\n",
       "      <td>125</td>\n",
       "      <td>55</td>\n",
       "    </tr>\n",
       "    <tr>\n",
       "      <th>3</th>\n",
       "      <td>Autauga County, Alabama</td>\n",
       "      <td>Asian Alone</td>\n",
       "      <td>05000US01001</td>\n",
       "      <td>4</td>\n",
       "      <td>485</td>\n",
       "      <td>165.0</td>\n",
       "      <td>390</td>\n",
       "      <td>106.0</td>\n",
       "      <td>340</td>\n",
       "      <td>200</td>\n",
       "      <td>245</td>\n",
       "      <td>161</td>\n",
       "    </tr>\n",
       "    <tr>\n",
       "      <th>4</th>\n",
       "      <td>Autauga County, Alabama</td>\n",
       "      <td>Black or African American Alone</td>\n",
       "      <td>05000US01001</td>\n",
       "      <td>5</td>\n",
       "      <td>10115</td>\n",
       "      <td>242.0</td>\n",
       "      <td>7470</td>\n",
       "      <td>75.0</td>\n",
       "      <td>10115</td>\n",
       "      <td>242</td>\n",
       "      <td>7470</td>\n",
       "      <td>75</td>\n",
       "    </tr>\n",
       "  </tbody>\n",
       "</table>\n",
       "</div>"
      ],
      "text/plain": [
       "                   GEONAME                                 LNTITLE  \\\n",
       "0  Autauga County, Alabama                                   Total   \n",
       "1  Autauga County, Alabama                  Not Hispanic or Latino   \n",
       "2  Autauga County, Alabama  American Indian or Alaska Native Alone   \n",
       "3  Autauga County, Alabama                             Asian Alone   \n",
       "4  Autauga County, Alabama         Black or African American Alone   \n",
       "\n",
       "          GEOID  LNNUMBER  TOT_EST  TOT_MOE  ADU_EST  ADU_MOE  CIT_EST  \\\n",
       "0  05000US01001         1    55050      NaN    41195     34.0    54510   \n",
       "1  05000US01001         2    53635      NaN    40290     35.0    53325   \n",
       "2  05000US01001         3      225     74.0      125     55.0      225   \n",
       "3  05000US01001         4      485    165.0      390    106.0      340   \n",
       "4  05000US01001         5    10115    242.0     7470     75.0    10115   \n",
       "\n",
       "   CIT_MOE  CVAP_EST  CVAP_MOE  \n",
       "0      263     40690       236  \n",
       "1      220     40015       184  \n",
       "2       74       125        55  \n",
       "3      200       245       161  \n",
       "4      242      7470        75  "
      ]
     },
     "execution_count": 11,
     "metadata": {},
     "output_type": "execute_result"
    }
   ],
   "source": [
    "vap_df.head()"
   ]
  },
  {
   "cell_type": "markdown",
   "metadata": {},
   "source": [
    "We want only the **TOTAL** rows"
   ]
  },
  {
   "cell_type": "code",
   "execution_count": 12,
   "metadata": {},
   "outputs": [],
   "source": [
    "vap_df = vap_df[vap_df['LNNUMBER'] == 1]  # LNNUMBER = 1 is code for LNTITLE = Total"
   ]
  },
  {
   "cell_type": "code",
   "execution_count": 13,
   "metadata": {},
   "outputs": [
    {
     "data": {
      "text/plain": [
       "(3220, 12)"
      ]
     },
     "execution_count": 13,
     "metadata": {},
     "output_type": "execute_result"
    }
   ],
   "source": [
    "vap_df.shape"
   ]
  },
  {
   "cell_type": "code",
   "execution_count": 14,
   "metadata": {},
   "outputs": [],
   "source": [
    "vap_df = vap_df[['GEONAME', 'GEOID', 'CVAP_EST', 'CVAP_MOE']]"
   ]
  },
  {
   "cell_type": "code",
   "execution_count": 15,
   "metadata": {},
   "outputs": [],
   "source": [
    "vap_df.rename(\n",
    "    columns = {\n",
    "        'GEOID': 'FIPS',\n",
    "        'CVAP_EST': 'VAP', \n",
    "        'CVAP_MOE':'VAP_MOE'}, \n",
    "    inplace=True)\n"
   ]
  },
  {
   "cell_type": "code",
   "execution_count": 16,
   "metadata": {},
   "outputs": [],
   "source": [
    "vap_df['FIPS'] = vap_df['FIPS'].apply(lambda x: x[-5:])"
   ]
  },
  {
   "cell_type": "code",
   "execution_count": 17,
   "metadata": {},
   "outputs": [
    {
     "data": {
      "text/html": [
       "<div>\n",
       "<style scoped>\n",
       "    .dataframe tbody tr th:only-of-type {\n",
       "        vertical-align: middle;\n",
       "    }\n",
       "\n",
       "    .dataframe tbody tr th {\n",
       "        vertical-align: top;\n",
       "    }\n",
       "\n",
       "    .dataframe thead th {\n",
       "        text-align: right;\n",
       "    }\n",
       "</style>\n",
       "<table border=\"1\" class=\"dataframe\">\n",
       "  <thead>\n",
       "    <tr style=\"text-align: right;\">\n",
       "      <th></th>\n",
       "      <th>GEONAME</th>\n",
       "      <th>FIPS</th>\n",
       "      <th>VAP</th>\n",
       "      <th>VAP_MOE</th>\n",
       "    </tr>\n",
       "  </thead>\n",
       "  <tbody>\n",
       "    <tr>\n",
       "      <th>0</th>\n",
       "      <td>Autauga County, Alabama</td>\n",
       "      <td>01001</td>\n",
       "      <td>40690</td>\n",
       "      <td>236</td>\n",
       "    </tr>\n",
       "    <tr>\n",
       "      <th>13</th>\n",
       "      <td>Baldwin County, Alabama</td>\n",
       "      <td>01003</td>\n",
       "      <td>151770</td>\n",
       "      <td>680</td>\n",
       "    </tr>\n",
       "    <tr>\n",
       "      <th>26</th>\n",
       "      <td>Barbour County, Alabama</td>\n",
       "      <td>01005</td>\n",
       "      <td>20375</td>\n",
       "      <td>113</td>\n",
       "    </tr>\n",
       "    <tr>\n",
       "      <th>39</th>\n",
       "      <td>Bibb County, Alabama</td>\n",
       "      <td>01007</td>\n",
       "      <td>17590</td>\n",
       "      <td>81</td>\n",
       "    </tr>\n",
       "    <tr>\n",
       "      <th>52</th>\n",
       "      <td>Blount County, Alabama</td>\n",
       "      <td>01009</td>\n",
       "      <td>42430</td>\n",
       "      <td>314</td>\n",
       "    </tr>\n",
       "    <tr>\n",
       "      <th>...</th>\n",
       "      <td>...</td>\n",
       "      <td>...</td>\n",
       "      <td>...</td>\n",
       "      <td>...</td>\n",
       "    </tr>\n",
       "    <tr>\n",
       "      <th>41795</th>\n",
       "      <td>Vega Baja Municipio, Puerto Rico</td>\n",
       "      <td>72145</td>\n",
       "      <td>43335</td>\n",
       "      <td>90</td>\n",
       "    </tr>\n",
       "    <tr>\n",
       "      <th>41808</th>\n",
       "      <td>Vieques Municipio, Puerto Rico</td>\n",
       "      <td>72147</td>\n",
       "      <td>7075</td>\n",
       "      <td>16</td>\n",
       "    </tr>\n",
       "    <tr>\n",
       "      <th>41821</th>\n",
       "      <td>Villalba Municipio, Puerto Rico</td>\n",
       "      <td>72149</td>\n",
       "      <td>18270</td>\n",
       "      <td>52</td>\n",
       "    </tr>\n",
       "    <tr>\n",
       "      <th>41834</th>\n",
       "      <td>Yabucoa Municipio, Puerto Rico</td>\n",
       "      <td>72151</td>\n",
       "      <td>27785</td>\n",
       "      <td>44</td>\n",
       "    </tr>\n",
       "    <tr>\n",
       "      <th>41847</th>\n",
       "      <td>Yauco Municipio, Puerto Rico</td>\n",
       "      <td>72153</td>\n",
       "      <td>30220</td>\n",
       "      <td>34</td>\n",
       "    </tr>\n",
       "  </tbody>\n",
       "</table>\n",
       "<p>3220 rows × 4 columns</p>\n",
       "</div>"
      ],
      "text/plain": [
       "                                GEONAME   FIPS     VAP  VAP_MOE\n",
       "0               Autauga County, Alabama  01001   40690      236\n",
       "13              Baldwin County, Alabama  01003  151770      680\n",
       "26              Barbour County, Alabama  01005   20375      113\n",
       "39                 Bibb County, Alabama  01007   17590       81\n",
       "52               Blount County, Alabama  01009   42430      314\n",
       "...                                 ...    ...     ...      ...\n",
       "41795  Vega Baja Municipio, Puerto Rico  72145   43335       90\n",
       "41808    Vieques Municipio, Puerto Rico  72147    7075       16\n",
       "41821   Villalba Municipio, Puerto Rico  72149   18270       52\n",
       "41834    Yabucoa Municipio, Puerto Rico  72151   27785       44\n",
       "41847      Yauco Municipio, Puerto Rico  72153   30220       34\n",
       "\n",
       "[3220 rows x 4 columns]"
      ]
     },
     "execution_count": 17,
     "metadata": {},
     "output_type": "execute_result"
    }
   ],
   "source": [
    "vap_df"
   ]
  },
  {
   "cell_type": "markdown",
   "metadata": {},
   "source": [
    "# Master list of all Counties"
   ]
  },
  {
   "cell_type": "code",
   "execution_count": 18,
   "metadata": {},
   "outputs": [],
   "source": [
    "counties_df = pd.read_csv('data/raw/usCounties.csv')"
   ]
  },
  {
   "cell_type": "code",
   "execution_count": 19,
   "metadata": {},
   "outputs": [
    {
     "data": {
      "text/html": [
       "<div>\n",
       "<style scoped>\n",
       "    .dataframe tbody tr th:only-of-type {\n",
       "        vertical-align: middle;\n",
       "    }\n",
       "\n",
       "    .dataframe tbody tr th {\n",
       "        vertical-align: top;\n",
       "    }\n",
       "\n",
       "    .dataframe thead th {\n",
       "        text-align: right;\n",
       "    }\n",
       "</style>\n",
       "<table border=\"1\" class=\"dataframe\">\n",
       "  <thead>\n",
       "    <tr style=\"text-align: right;\">\n",
       "      <th></th>\n",
       "      <th>stateAbbrev</th>\n",
       "      <th>stateFIPS</th>\n",
       "      <th>countyFIPS</th>\n",
       "      <th>countyName</th>\n",
       "      <th>huh</th>\n",
       "    </tr>\n",
       "  </thead>\n",
       "  <tbody>\n",
       "    <tr>\n",
       "      <th>0</th>\n",
       "      <td>AL</td>\n",
       "      <td>1</td>\n",
       "      <td>1</td>\n",
       "      <td>Autauga County</td>\n",
       "      <td>H1</td>\n",
       "    </tr>\n",
       "    <tr>\n",
       "      <th>1</th>\n",
       "      <td>AL</td>\n",
       "      <td>1</td>\n",
       "      <td>3</td>\n",
       "      <td>Baldwin County</td>\n",
       "      <td>H1</td>\n",
       "    </tr>\n",
       "    <tr>\n",
       "      <th>2</th>\n",
       "      <td>AL</td>\n",
       "      <td>1</td>\n",
       "      <td>5</td>\n",
       "      <td>Barbour County</td>\n",
       "      <td>H1</td>\n",
       "    </tr>\n",
       "    <tr>\n",
       "      <th>3</th>\n",
       "      <td>AL</td>\n",
       "      <td>1</td>\n",
       "      <td>7</td>\n",
       "      <td>Bibb County</td>\n",
       "      <td>H1</td>\n",
       "    </tr>\n",
       "    <tr>\n",
       "      <th>4</th>\n",
       "      <td>AL</td>\n",
       "      <td>1</td>\n",
       "      <td>9</td>\n",
       "      <td>Blount County</td>\n",
       "      <td>H1</td>\n",
       "    </tr>\n",
       "  </tbody>\n",
       "</table>\n",
       "</div>"
      ],
      "text/plain": [
       "  stateAbbrev  stateFIPS  countyFIPS      countyName huh\n",
       "0          AL          1           1  Autauga County  H1\n",
       "1          AL          1           3  Baldwin County  H1\n",
       "2          AL          1           5  Barbour County  H1\n",
       "3          AL          1           7     Bibb County  H1\n",
       "4          AL          1           9   Blount County  H1"
      ]
     },
     "execution_count": 19,
     "metadata": {},
     "output_type": "execute_result"
    }
   ],
   "source": [
    "counties_df.head()"
   ]
  },
  {
   "cell_type": "code",
   "execution_count": 20,
   "metadata": {},
   "outputs": [],
   "source": [
    "def combineFIPS(row):\n",
    "    state = str(row['stateFIPS']).zfill(2)\n",
    "    county = str(row['countyFIPS']).zfill(3)\n",
    "    \n",
    "    return '{}{}'.format(state,county)"
   ]
  },
  {
   "cell_type": "code",
   "execution_count": 21,
   "metadata": {},
   "outputs": [],
   "source": [
    "counties_df['FIPS'] = counties_df.apply(combineFIPS, axis=1)"
   ]
  },
  {
   "cell_type": "code",
   "execution_count": 22,
   "metadata": {},
   "outputs": [],
   "source": [
    "counties_df = counties_df[['stateAbbrev', 'countyName', 'FIPS']]"
   ]
  },
  {
   "cell_type": "code",
   "execution_count": 23,
   "metadata": {},
   "outputs": [
    {
     "data": {
      "text/html": [
       "<div>\n",
       "<style scoped>\n",
       "    .dataframe tbody tr th:only-of-type {\n",
       "        vertical-align: middle;\n",
       "    }\n",
       "\n",
       "    .dataframe tbody tr th {\n",
       "        vertical-align: top;\n",
       "    }\n",
       "\n",
       "    .dataframe thead th {\n",
       "        text-align: right;\n",
       "    }\n",
       "</style>\n",
       "<table border=\"1\" class=\"dataframe\">\n",
       "  <thead>\n",
       "    <tr style=\"text-align: right;\">\n",
       "      <th></th>\n",
       "      <th>stateAbbrev</th>\n",
       "      <th>countyName</th>\n",
       "      <th>FIPS</th>\n",
       "    </tr>\n",
       "  </thead>\n",
       "  <tbody>\n",
       "    <tr>\n",
       "      <th>0</th>\n",
       "      <td>AL</td>\n",
       "      <td>Autauga County</td>\n",
       "      <td>01001</td>\n",
       "    </tr>\n",
       "    <tr>\n",
       "      <th>1</th>\n",
       "      <td>AL</td>\n",
       "      <td>Baldwin County</td>\n",
       "      <td>01003</td>\n",
       "    </tr>\n",
       "    <tr>\n",
       "      <th>2</th>\n",
       "      <td>AL</td>\n",
       "      <td>Barbour County</td>\n",
       "      <td>01005</td>\n",
       "    </tr>\n",
       "    <tr>\n",
       "      <th>3</th>\n",
       "      <td>AL</td>\n",
       "      <td>Bibb County</td>\n",
       "      <td>01007</td>\n",
       "    </tr>\n",
       "    <tr>\n",
       "      <th>4</th>\n",
       "      <td>AL</td>\n",
       "      <td>Blount County</td>\n",
       "      <td>01009</td>\n",
       "    </tr>\n",
       "  </tbody>\n",
       "</table>\n",
       "</div>"
      ],
      "text/plain": [
       "  stateAbbrev      countyName   FIPS\n",
       "0          AL  Autauga County  01001\n",
       "1          AL  Baldwin County  01003\n",
       "2          AL  Barbour County  01005\n",
       "3          AL     Bibb County  01007\n",
       "4          AL   Blount County  01009"
      ]
     },
     "execution_count": 23,
     "metadata": {},
     "output_type": "execute_result"
    }
   ],
   "source": [
    "counties_df.head()"
   ]
  },
  {
   "cell_type": "code",
   "execution_count": 24,
   "metadata": {},
   "outputs": [
    {
     "data": {
      "text/plain": [
       "(3235, 3)"
      ]
     },
     "execution_count": 24,
     "metadata": {},
     "output_type": "execute_result"
    }
   ],
   "source": [
    "counties_df.shape"
   ]
  },
  {
   "cell_type": "markdown",
   "metadata": {},
   "source": [
    "# Combine\n",
    "\n",
    "combined the vote tallies and vap for each county in the master county list"
   ]
  },
  {
   "cell_type": "markdown",
   "metadata": {},
   "source": [
    "### total votes"
   ]
  },
  {
   "cell_type": "code",
   "execution_count": 25,
   "metadata": {},
   "outputs": [],
   "source": [
    "df = counties_df.merge(votes_df[['totalVotes', 'FIPS']], how='left', on='FIPS')"
   ]
  },
  {
   "cell_type": "code",
   "execution_count": 26,
   "metadata": {},
   "outputs": [
    {
     "data": {
      "text/html": [
       "<div>\n",
       "<style scoped>\n",
       "    .dataframe tbody tr th:only-of-type {\n",
       "        vertical-align: middle;\n",
       "    }\n",
       "\n",
       "    .dataframe tbody tr th {\n",
       "        vertical-align: top;\n",
       "    }\n",
       "\n",
       "    .dataframe thead th {\n",
       "        text-align: right;\n",
       "    }\n",
       "</style>\n",
       "<table border=\"1\" class=\"dataframe\">\n",
       "  <thead>\n",
       "    <tr style=\"text-align: right;\">\n",
       "      <th></th>\n",
       "      <th>stateAbbrev</th>\n",
       "      <th>countyName</th>\n",
       "      <th>FIPS</th>\n",
       "      <th>totalVotes</th>\n",
       "    </tr>\n",
       "  </thead>\n",
       "  <tbody>\n",
       "    <tr>\n",
       "      <th>0</th>\n",
       "      <td>AL</td>\n",
       "      <td>Autauga County</td>\n",
       "      <td>01001</td>\n",
       "      <td>24661.0</td>\n",
       "    </tr>\n",
       "    <tr>\n",
       "      <th>1</th>\n",
       "      <td>AL</td>\n",
       "      <td>Baldwin County</td>\n",
       "      <td>01003</td>\n",
       "      <td>94090.0</td>\n",
       "    </tr>\n",
       "    <tr>\n",
       "      <th>2</th>\n",
       "      <td>AL</td>\n",
       "      <td>Barbour County</td>\n",
       "      <td>01005</td>\n",
       "      <td>10390.0</td>\n",
       "    </tr>\n",
       "    <tr>\n",
       "      <th>3</th>\n",
       "      <td>AL</td>\n",
       "      <td>Bibb County</td>\n",
       "      <td>01007</td>\n",
       "      <td>8748.0</td>\n",
       "    </tr>\n",
       "    <tr>\n",
       "      <th>4</th>\n",
       "      <td>AL</td>\n",
       "      <td>Blount County</td>\n",
       "      <td>01009</td>\n",
       "      <td>25384.0</td>\n",
       "    </tr>\n",
       "  </tbody>\n",
       "</table>\n",
       "</div>"
      ],
      "text/plain": [
       "  stateAbbrev      countyName   FIPS  totalVotes\n",
       "0          AL  Autauga County  01001     24661.0\n",
       "1          AL  Baldwin County  01003     94090.0\n",
       "2          AL  Barbour County  01005     10390.0\n",
       "3          AL     Bibb County  01007      8748.0\n",
       "4          AL   Blount County  01009     25384.0"
      ]
     },
     "execution_count": 26,
     "metadata": {},
     "output_type": "execute_result"
    }
   ],
   "source": [
    "df.head()"
   ]
  },
  {
   "cell_type": "code",
   "execution_count": 27,
   "metadata": {},
   "outputs": [
    {
     "data": {
      "text/plain": [
       "94"
      ]
     },
     "execution_count": 27,
     "metadata": {},
     "output_type": "execute_result"
    }
   ],
   "source": [
    "df['totalVotes'].isnull().sum()"
   ]
  },
  {
   "cell_type": "markdown",
   "metadata": {},
   "source": [
    "## VAP"
   ]
  },
  {
   "cell_type": "code",
   "execution_count": 28,
   "metadata": {},
   "outputs": [],
   "source": [
    "df = df.merge(vap_df[['VAP', 'FIPS']], how='left', on='FIPS')"
   ]
  },
  {
   "cell_type": "code",
   "execution_count": 29,
   "metadata": {},
   "outputs": [
    {
     "data": {
      "text/html": [
       "<div>\n",
       "<style scoped>\n",
       "    .dataframe tbody tr th:only-of-type {\n",
       "        vertical-align: middle;\n",
       "    }\n",
       "\n",
       "    .dataframe tbody tr th {\n",
       "        vertical-align: top;\n",
       "    }\n",
       "\n",
       "    .dataframe thead th {\n",
       "        text-align: right;\n",
       "    }\n",
       "</style>\n",
       "<table border=\"1\" class=\"dataframe\">\n",
       "  <thead>\n",
       "    <tr style=\"text-align: right;\">\n",
       "      <th></th>\n",
       "      <th>stateAbbrev</th>\n",
       "      <th>countyName</th>\n",
       "      <th>FIPS</th>\n",
       "      <th>totalVotes</th>\n",
       "      <th>VAP</th>\n",
       "    </tr>\n",
       "  </thead>\n",
       "  <tbody>\n",
       "    <tr>\n",
       "      <th>0</th>\n",
       "      <td>AL</td>\n",
       "      <td>Autauga County</td>\n",
       "      <td>01001</td>\n",
       "      <td>24661.0</td>\n",
       "      <td>40690.0</td>\n",
       "    </tr>\n",
       "    <tr>\n",
       "      <th>1</th>\n",
       "      <td>AL</td>\n",
       "      <td>Baldwin County</td>\n",
       "      <td>01003</td>\n",
       "      <td>94090.0</td>\n",
       "      <td>151770.0</td>\n",
       "    </tr>\n",
       "    <tr>\n",
       "      <th>2</th>\n",
       "      <td>AL</td>\n",
       "      <td>Barbour County</td>\n",
       "      <td>01005</td>\n",
       "      <td>10390.0</td>\n",
       "      <td>20375.0</td>\n",
       "    </tr>\n",
       "    <tr>\n",
       "      <th>3</th>\n",
       "      <td>AL</td>\n",
       "      <td>Bibb County</td>\n",
       "      <td>01007</td>\n",
       "      <td>8748.0</td>\n",
       "      <td>17590.0</td>\n",
       "    </tr>\n",
       "    <tr>\n",
       "      <th>4</th>\n",
       "      <td>AL</td>\n",
       "      <td>Blount County</td>\n",
       "      <td>01009</td>\n",
       "      <td>25384.0</td>\n",
       "      <td>42430.0</td>\n",
       "    </tr>\n",
       "  </tbody>\n",
       "</table>\n",
       "</div>"
      ],
      "text/plain": [
       "  stateAbbrev      countyName   FIPS  totalVotes       VAP\n",
       "0          AL  Autauga County  01001     24661.0   40690.0\n",
       "1          AL  Baldwin County  01003     94090.0  151770.0\n",
       "2          AL  Barbour County  01005     10390.0   20375.0\n",
       "3          AL     Bibb County  01007      8748.0   17590.0\n",
       "4          AL   Blount County  01009     25384.0   42430.0"
      ]
     },
     "execution_count": 29,
     "metadata": {},
     "output_type": "execute_result"
    }
   ],
   "source": [
    "df.head()"
   ]
  },
  {
   "cell_type": "code",
   "execution_count": 30,
   "metadata": {},
   "outputs": [
    {
     "data": {
      "text/plain": [
       "17"
      ]
     },
     "execution_count": 30,
     "metadata": {},
     "output_type": "execute_result"
    }
   ],
   "source": [
    "df['VAP'].isnull().sum()"
   ]
  },
  {
   "cell_type": "markdown",
   "metadata": {},
   "source": [
    "# Calculate Voter Turnout Rates"
   ]
  },
  {
   "cell_type": "code",
   "execution_count": 31,
   "metadata": {},
   "outputs": [],
   "source": [
    "def turnout(row):\n",
    "    votes = row['totalVotes']\n",
    "    vap = row['VAP']\n",
    "    \n",
    "    return votes/vap * 100"
   ]
  },
  {
   "cell_type": "code",
   "execution_count": 32,
   "metadata": {},
   "outputs": [],
   "source": [
    "df['turnoutPerc'] = df.apply(turnout, axis=1)"
   ]
  },
  {
   "cell_type": "code",
   "execution_count": 33,
   "metadata": {},
   "outputs": [
    {
     "data": {
      "text/html": [
       "<div>\n",
       "<style scoped>\n",
       "    .dataframe tbody tr th:only-of-type {\n",
       "        vertical-align: middle;\n",
       "    }\n",
       "\n",
       "    .dataframe tbody tr th {\n",
       "        vertical-align: top;\n",
       "    }\n",
       "\n",
       "    .dataframe thead th {\n",
       "        text-align: right;\n",
       "    }\n",
       "</style>\n",
       "<table border=\"1\" class=\"dataframe\">\n",
       "  <thead>\n",
       "    <tr style=\"text-align: right;\">\n",
       "      <th></th>\n",
       "      <th>stateAbbrev</th>\n",
       "      <th>countyName</th>\n",
       "      <th>FIPS</th>\n",
       "      <th>totalVotes</th>\n",
       "      <th>VAP</th>\n",
       "      <th>turnoutPerc</th>\n",
       "    </tr>\n",
       "  </thead>\n",
       "  <tbody>\n",
       "    <tr>\n",
       "      <th>0</th>\n",
       "      <td>AL</td>\n",
       "      <td>Autauga County</td>\n",
       "      <td>01001</td>\n",
       "      <td>24661.0</td>\n",
       "      <td>40690.0</td>\n",
       "      <td>60.607029</td>\n",
       "    </tr>\n",
       "    <tr>\n",
       "      <th>1</th>\n",
       "      <td>AL</td>\n",
       "      <td>Baldwin County</td>\n",
       "      <td>01003</td>\n",
       "      <td>94090.0</td>\n",
       "      <td>151770.0</td>\n",
       "      <td>61.995124</td>\n",
       "    </tr>\n",
       "    <tr>\n",
       "      <th>2</th>\n",
       "      <td>AL</td>\n",
       "      <td>Barbour County</td>\n",
       "      <td>01005</td>\n",
       "      <td>10390.0</td>\n",
       "      <td>20375.0</td>\n",
       "      <td>50.993865</td>\n",
       "    </tr>\n",
       "    <tr>\n",
       "      <th>3</th>\n",
       "      <td>AL</td>\n",
       "      <td>Bibb County</td>\n",
       "      <td>01007</td>\n",
       "      <td>8748.0</td>\n",
       "      <td>17590.0</td>\n",
       "      <td>49.732803</td>\n",
       "    </tr>\n",
       "    <tr>\n",
       "      <th>4</th>\n",
       "      <td>AL</td>\n",
       "      <td>Blount County</td>\n",
       "      <td>01009</td>\n",
       "      <td>25384.0</td>\n",
       "      <td>42430.0</td>\n",
       "      <td>59.825595</td>\n",
       "    </tr>\n",
       "  </tbody>\n",
       "</table>\n",
       "</div>"
      ],
      "text/plain": [
       "  stateAbbrev      countyName   FIPS  totalVotes       VAP  turnoutPerc\n",
       "0          AL  Autauga County  01001     24661.0   40690.0    60.607029\n",
       "1          AL  Baldwin County  01003     94090.0  151770.0    61.995124\n",
       "2          AL  Barbour County  01005     10390.0   20375.0    50.993865\n",
       "3          AL     Bibb County  01007      8748.0   17590.0    49.732803\n",
       "4          AL   Blount County  01009     25384.0   42430.0    59.825595"
      ]
     },
     "execution_count": 33,
     "metadata": {},
     "output_type": "execute_result"
    }
   ],
   "source": [
    "df.head()"
   ]
  },
  {
   "cell_type": "code",
   "execution_count": 35,
   "metadata": {},
   "outputs": [],
   "source": [
    "# calculate non voters\n",
    "df['nNonVote'] = df['VAP'] - df['totalVotes']"
   ]
  },
  {
   "cell_type": "code",
   "execution_count": 36,
   "metadata": {},
   "outputs": [
    {
     "data": {
      "text/html": [
       "<div>\n",
       "<style scoped>\n",
       "    .dataframe tbody tr th:only-of-type {\n",
       "        vertical-align: middle;\n",
       "    }\n",
       "\n",
       "    .dataframe tbody tr th {\n",
       "        vertical-align: top;\n",
       "    }\n",
       "\n",
       "    .dataframe thead th {\n",
       "        text-align: right;\n",
       "    }\n",
       "</style>\n",
       "<table border=\"1\" class=\"dataframe\">\n",
       "  <thead>\n",
       "    <tr style=\"text-align: right;\">\n",
       "      <th></th>\n",
       "      <th>stateAbbrev</th>\n",
       "      <th>countyName</th>\n",
       "      <th>FIPS</th>\n",
       "      <th>totalVotes</th>\n",
       "      <th>VAP</th>\n",
       "      <th>turnoutPerc</th>\n",
       "      <th>nNonVote</th>\n",
       "    </tr>\n",
       "  </thead>\n",
       "  <tbody>\n",
       "    <tr>\n",
       "      <th>0</th>\n",
       "      <td>AL</td>\n",
       "      <td>Autauga County</td>\n",
       "      <td>01001</td>\n",
       "      <td>24661.0</td>\n",
       "      <td>40690.0</td>\n",
       "      <td>60.607029</td>\n",
       "      <td>16029.0</td>\n",
       "    </tr>\n",
       "    <tr>\n",
       "      <th>1</th>\n",
       "      <td>AL</td>\n",
       "      <td>Baldwin County</td>\n",
       "      <td>01003</td>\n",
       "      <td>94090.0</td>\n",
       "      <td>151770.0</td>\n",
       "      <td>61.995124</td>\n",
       "      <td>57680.0</td>\n",
       "    </tr>\n",
       "    <tr>\n",
       "      <th>2</th>\n",
       "      <td>AL</td>\n",
       "      <td>Barbour County</td>\n",
       "      <td>01005</td>\n",
       "      <td>10390.0</td>\n",
       "      <td>20375.0</td>\n",
       "      <td>50.993865</td>\n",
       "      <td>9985.0</td>\n",
       "    </tr>\n",
       "    <tr>\n",
       "      <th>3</th>\n",
       "      <td>AL</td>\n",
       "      <td>Bibb County</td>\n",
       "      <td>01007</td>\n",
       "      <td>8748.0</td>\n",
       "      <td>17590.0</td>\n",
       "      <td>49.732803</td>\n",
       "      <td>8842.0</td>\n",
       "    </tr>\n",
       "    <tr>\n",
       "      <th>4</th>\n",
       "      <td>AL</td>\n",
       "      <td>Blount County</td>\n",
       "      <td>01009</td>\n",
       "      <td>25384.0</td>\n",
       "      <td>42430.0</td>\n",
       "      <td>59.825595</td>\n",
       "      <td>17046.0</td>\n",
       "    </tr>\n",
       "  </tbody>\n",
       "</table>\n",
       "</div>"
      ],
      "text/plain": [
       "  stateAbbrev      countyName   FIPS  totalVotes       VAP  turnoutPerc  \\\n",
       "0          AL  Autauga County  01001     24661.0   40690.0    60.607029   \n",
       "1          AL  Baldwin County  01003     94090.0  151770.0    61.995124   \n",
       "2          AL  Barbour County  01005     10390.0   20375.0    50.993865   \n",
       "3          AL     Bibb County  01007      8748.0   17590.0    49.732803   \n",
       "4          AL   Blount County  01009     25384.0   42430.0    59.825595   \n",
       "\n",
       "   nNonVote  \n",
       "0   16029.0  \n",
       "1   57680.0  \n",
       "2    9985.0  \n",
       "3    8842.0  \n",
       "4   17046.0  "
      ]
     },
     "execution_count": 36,
     "metadata": {},
     "output_type": "execute_result"
    }
   ],
   "source": [
    "df.head()"
   ]
  },
  {
   "cell_type": "markdown",
   "metadata": {},
   "source": [
    "# summary of data"
   ]
  },
  {
   "cell_type": "code",
   "execution_count": 41,
   "metadata": {},
   "outputs": [
    {
     "data": {
      "text/plain": [
       "<matplotlib.axes._subplots.AxesSubplot at 0x12452ca20>"
      ]
     },
     "execution_count": 41,
     "metadata": {},
     "output_type": "execute_result"
    },
    {
     "data": {
      "image/png": "[encoded data removed]",
      "text/plain": [
       "<Figure size 720x360 with 1 Axes>"
      ]
     },
     "metadata": {},
     "output_type": "display_data"
    }
   ],
   "source": [
    "plt.figure(figsize=(10,5))\n",
    "df['nNonVote'].hist(bins=100)"
   ]
  },
  {
   "cell_type": "code",
   "execution_count": 42,
   "metadata": {},
   "outputs": [
    {
     "data": {
      "text/plain": [
       "3471418.0"
      ]
     },
     "execution_count": 42,
     "metadata": {},
     "output_type": "execute_result"
    }
   ],
   "source": [
    "df['nNonVote'].max()"
   ]
  },
  {
   "cell_type": "code",
   "execution_count": 51,
   "metadata": {},
   "outputs": [
    {
     "data": {
      "text/plain": [
       "stateAbbrev                    CA\n",
       "countyName     Los Angeles County\n",
       "FIPS                        06037\n",
       "totalVotes            2.65207e+06\n",
       "VAP                   6.12349e+06\n",
       "turnoutPerc               43.3098\n",
       "nNonVote              3.47142e+06\n",
       "Name: 204, dtype: object"
      ]
     },
     "execution_count": 51,
     "metadata": {},
     "output_type": "execute_result"
    }
   ],
   "source": [
    "df.loc[df['nNonVote'].argmax()]"
   ]
  },
  {
   "cell_type": "markdown",
   "metadata": {},
   "source": [
    "# Write out data"
   ]
  },
  {
   "cell_type": "code",
   "execution_count": 53,
   "metadata": {},
   "outputs": [],
   "source": [
    "df.to_csv('data/voterTurnout.csv', index=False)"
   ]
  },
  {
   "cell_type": "code",
   "execution_count": null,
   "metadata": {},
   "outputs": [],
   "source": []
  }
 ],
 "metadata": {
  "kernelspec": {
   "display_name": "Python 3",
   "language": "python",
   "name": "python3"
  },
  "language_info": {
   "codemirror_mode": {
    "name": "ipython",
    "version": 3
   },
   "file_extension": ".py",
   "mimetype": "text/x-python",
   "name": "python",
   "nbconvert_exporter": "python",
   "pygments_lexer": "ipython3",
   "version": "3.6.4"
  }
 },
 "nbformat": 4,
 "nbformat_minor": 4
}
