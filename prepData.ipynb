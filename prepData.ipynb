{
 "cells": [
  {
   "cell_type": "markdown",
   "metadata": {},
   "source": [
    "# Prep Data\n",
    "\n",
    "Create a data table showing voter turnout rate by county for the 2016 Presidential election"
   ]
  },
  {
   "cell_type": "code",
   "execution_count": 1,
   "metadata": {},
   "outputs": [],
   "source": [
    "import os\n",
    "import sys\n",
    "\n",
    "import pandas as pd\n",
    "import numpy as np\n",
    "import matplotlib.pyplot as plt"
   ]
  },
  {
   "cell_type": "code",
   "execution_count": 2,
   "metadata": {},
   "outputs": [],
   "source": [
    "custom_style = {'axes.labelcolor': 'black',\n",
    "                'xtick.color': 'black',\n",
    "                'ytick.color': 'black'}\n",
    "sns.set_style(\"darkgrid\", rc=custom_style)"
   ]
  },
  {
   "cell_type": "markdown",
   "metadata": {},
   "source": [
    "## Total Votes by county\n",
    "\n",
    "The data was scraped from https://www.townhall.com/election/2016/president/  \n",
    "\n",
    "Found a github repo where much of this scraping has been done already: https://github.com/tonmcg/US_County_Level_Election_Results_08-16"
   ]
  },
  {
   "cell_type": "code",
   "execution_count": 3,
   "metadata": {},
   "outputs": [],
   "source": [
    "file_url = 'https://raw.githubusercontent.com/tonmcg/US_County_Level_Election_Results_08-16/master/2016_US_County_Level_Presidential_Results.csv'\n",
    "votes_df = pd.read_csv(file_url)"
   ]
  },
  {
   "cell_type": "code",
   "execution_count": 4,
   "metadata": {},
   "outputs": [
    {
     "data": {
      "text/html": [
       "<div>\n",
       "<style scoped>\n",
       "    .dataframe tbody tr th:only-of-type {\n",
       "        vertical-align: middle;\n",
       "    }\n",
       "\n",
       "    .dataframe tbody tr th {\n",
       "        vertical-align: top;\n",
       "    }\n",
       "\n",
       "    .dataframe thead th {\n",
       "        text-align: right;\n",
       "    }\n",
       "</style>\n",
       "<table border=\"1\" class=\"dataframe\">\n",
       "  <thead>\n",
       "    <tr style=\"text-align: right;\">\n",
       "      <th></th>\n",
       "      <th>Unnamed: 0</th>\n",
       "      <th>votes_dem</th>\n",
       "      <th>votes_gop</th>\n",
       "      <th>total_votes</th>\n",
       "      <th>per_dem</th>\n",
       "      <th>per_gop</th>\n",
       "      <th>diff</th>\n",
       "      <th>per_point_diff</th>\n",
       "      <th>state_abbr</th>\n",
       "      <th>county_name</th>\n",
       "      <th>combined_fips</th>\n",
       "    </tr>\n",
       "  </thead>\n",
       "  <tbody>\n",
       "    <tr>\n",
       "      <th>0</th>\n",
       "      <td>0</td>\n",
       "      <td>93003.0</td>\n",
       "      <td>130413.0</td>\n",
       "      <td>246588.0</td>\n",
       "      <td>0.377159</td>\n",
       "      <td>0.52887</td>\n",
       "      <td>37,410</td>\n",
       "      <td>15.17%</td>\n",
       "      <td>AK</td>\n",
       "      <td>Alaska</td>\n",
       "      <td>2013</td>\n",
       "    </tr>\n",
       "    <tr>\n",
       "      <th>1</th>\n",
       "      <td>1</td>\n",
       "      <td>93003.0</td>\n",
       "      <td>130413.0</td>\n",
       "      <td>246588.0</td>\n",
       "      <td>0.377159</td>\n",
       "      <td>0.52887</td>\n",
       "      <td>37,410</td>\n",
       "      <td>15.17%</td>\n",
       "      <td>AK</td>\n",
       "      <td>Alaska</td>\n",
       "      <td>2016</td>\n",
       "    </tr>\n",
       "    <tr>\n",
       "      <th>2</th>\n",
       "      <td>2</td>\n",
       "      <td>93003.0</td>\n",
       "      <td>130413.0</td>\n",
       "      <td>246588.0</td>\n",
       "      <td>0.377159</td>\n",
       "      <td>0.52887</td>\n",
       "      <td>37,410</td>\n",
       "      <td>15.17%</td>\n",
       "      <td>AK</td>\n",
       "      <td>Alaska</td>\n",
       "      <td>2020</td>\n",
       "    </tr>\n",
       "    <tr>\n",
       "      <th>3</th>\n",
       "      <td>3</td>\n",
       "      <td>93003.0</td>\n",
       "      <td>130413.0</td>\n",
       "      <td>246588.0</td>\n",
       "      <td>0.377159</td>\n",
       "      <td>0.52887</td>\n",
       "      <td>37,410</td>\n",
       "      <td>15.17%</td>\n",
       "      <td>AK</td>\n",
       "      <td>Alaska</td>\n",
       "      <td>2050</td>\n",
       "    </tr>\n",
       "    <tr>\n",
       "      <th>4</th>\n",
       "      <td>4</td>\n",
       "      <td>93003.0</td>\n",
       "      <td>130413.0</td>\n",
       "      <td>246588.0</td>\n",
       "      <td>0.377159</td>\n",
       "      <td>0.52887</td>\n",
       "      <td>37,410</td>\n",
       "      <td>15.17%</td>\n",
       "      <td>AK</td>\n",
       "      <td>Alaska</td>\n",
       "      <td>2060</td>\n",
       "    </tr>\n",
       "  </tbody>\n",
       "</table>\n",
       "</div>"
      ],
      "text/plain": [
       "   Unnamed: 0  votes_dem  votes_gop  total_votes   per_dem  per_gop    diff  \\\n",
       "0           0    93003.0   130413.0     246588.0  0.377159  0.52887  37,410   \n",
       "1           1    93003.0   130413.0     246588.0  0.377159  0.52887  37,410   \n",
       "2           2    93003.0   130413.0     246588.0  0.377159  0.52887  37,410   \n",
       "3           3    93003.0   130413.0     246588.0  0.377159  0.52887  37,410   \n",
       "4           4    93003.0   130413.0     246588.0  0.377159  0.52887  37,410   \n",
       "\n",
       "  per_point_diff state_abbr county_name  combined_fips  \n",
       "0         15.17%         AK      Alaska           2013  \n",
       "1         15.17%         AK      Alaska           2016  \n",
       "2         15.17%         AK      Alaska           2020  \n",
       "3         15.17%         AK      Alaska           2050  \n",
       "4         15.17%         AK      Alaska           2060  "
      ]
     },
     "execution_count": 4,
     "metadata": {},
     "output_type": "execute_result"
    }
   ],
   "source": [
    "votes_df.head()"
   ]
  },
  {
   "cell_type": "code",
   "execution_count": 5,
   "metadata": {},
   "outputs": [],
   "source": [
    "votes_df = votes_df[['total_votes', 'state_abbr', 'county_name', 'combined_fips']]"
   ]
  },
  {
   "cell_type": "code",
   "execution_count": 6,
   "metadata": {},
   "outputs": [],
   "source": [
    "votes_df.rename(columns={'total_votes': 'totalVotes', 'combined_fips': 'FIPS'}, inplace=True)"
   ]
  },
  {
   "cell_type": "code",
   "execution_count": 7,
   "metadata": {},
   "outputs": [],
   "source": [
    "votes_df['FIPS'] = votes_df['FIPS'].apply(lambda x: str(x).zfill(5))"
   ]
  },
  {
   "cell_type": "code",
   "execution_count": 8,
   "metadata": {},
   "outputs": [
    {
     "data": {
      "text/html": [
       "<div>\n",
       "<style scoped>\n",
       "    .dataframe tbody tr th:only-of-type {\n",
       "        vertical-align: middle;\n",
       "    }\n",
       "\n",
       "    .dataframe tbody tr th {\n",
       "        vertical-align: top;\n",
       "    }\n",
       "\n",
       "    .dataframe thead th {\n",
       "        text-align: right;\n",
       "    }\n",
       "</style>\n",
       "<table border=\"1\" class=\"dataframe\">\n",
       "  <thead>\n",
       "    <tr style=\"text-align: right;\">\n",
       "      <th></th>\n",
       "      <th>totalVotes</th>\n",
       "      <th>state_abbr</th>\n",
       "      <th>county_name</th>\n",
       "      <th>FIPS</th>\n",
       "    </tr>\n",
       "  </thead>\n",
       "  <tbody>\n",
       "    <tr>\n",
       "      <th>3136</th>\n",
       "      <td>16661.0</td>\n",
       "      <td>WY</td>\n",
       "      <td>Sweetwater County</td>\n",
       "      <td>56037</td>\n",
       "    </tr>\n",
       "    <tr>\n",
       "      <th>3137</th>\n",
       "      <td>12176.0</td>\n",
       "      <td>WY</td>\n",
       "      <td>Teton County</td>\n",
       "      <td>56039</td>\n",
       "    </tr>\n",
       "    <tr>\n",
       "      <th>3138</th>\n",
       "      <td>8053.0</td>\n",
       "      <td>WY</td>\n",
       "      <td>Uinta County</td>\n",
       "      <td>56041</td>\n",
       "    </tr>\n",
       "    <tr>\n",
       "      <th>3139</th>\n",
       "      <td>3715.0</td>\n",
       "      <td>WY</td>\n",
       "      <td>Washakie County</td>\n",
       "      <td>56043</td>\n",
       "    </tr>\n",
       "    <tr>\n",
       "      <th>3140</th>\n",
       "      <td>3334.0</td>\n",
       "      <td>WY</td>\n",
       "      <td>Weston County</td>\n",
       "      <td>56045</td>\n",
       "    </tr>\n",
       "  </tbody>\n",
       "</table>\n",
       "</div>"
      ],
      "text/plain": [
       "      totalVotes state_abbr        county_name   FIPS\n",
       "3136     16661.0         WY  Sweetwater County  56037\n",
       "3137     12176.0         WY       Teton County  56039\n",
       "3138      8053.0         WY       Uinta County  56041\n",
       "3139      3715.0         WY    Washakie County  56043\n",
       "3140      3334.0         WY      Weston County  56045"
      ]
     },
     "execution_count": 8,
     "metadata": {},
     "output_type": "execute_result"
    }
   ],
   "source": [
    "votes_df.tail()"
   ]
  },
  {
   "cell_type": "code",
   "execution_count": 9,
   "metadata": {},
   "outputs": [
    {
     "data": {
      "text/plain": [
       "(3141, 4)"
      ]
     },
     "execution_count": 9,
     "metadata": {},
     "output_type": "execute_result"
    }
   ],
   "source": [
    "votes_df.shape"
   ]
  },
  {
   "cell_type": "markdown",
   "metadata": {},
   "source": [
    "# Voting Age Population by county\n",
    "\n",
    "County level data from US Census, 2012-2016 American Community Survey 5 year estimates https://www.census.gov/programs-surveys/decennial-census/about/voting-rights/cvap.2016.html\n",
    "\n",
    "**Note:** had to download, and resave the County.csv file with encoding as utf-8 "
   ]
  },
  {
   "cell_type": "code",
   "execution_count": 10,
   "metadata": {},
   "outputs": [
    {
     "name": "stdout",
     "output_type": "stream",
     "text": [
      "ACS_CVAP_County.csv  usCounties.csv\n"
     ]
    }
   ],
   "source": [
    "ls data/raw"
   ]
  },
  {
   "cell_type": "code",
   "execution_count": 11,
   "metadata": {},
   "outputs": [],
   "source": [
    "vap_df = pd.read_csv('data/raw/ACS_CVAP_County.csv')"
   ]
  },
  {
   "cell_type": "code",
   "execution_count": 12,
   "metadata": {},
   "outputs": [
    {
     "data": {
      "text/html": [
       "<div>\n",
       "<style scoped>\n",
       "    .dataframe tbody tr th:only-of-type {\n",
       "        vertical-align: middle;\n",
       "    }\n",
       "\n",
       "    .dataframe tbody tr th {\n",
       "        vertical-align: top;\n",
       "    }\n",
       "\n",
       "    .dataframe thead th {\n",
       "        text-align: right;\n",
       "    }\n",
       "</style>\n",
       "<table border=\"1\" class=\"dataframe\">\n",
       "  <thead>\n",
       "    <tr style=\"text-align: right;\">\n",
       "      <th></th>\n",
       "      <th>GEONAME</th>\n",
       "      <th>LNTITLE</th>\n",
       "      <th>GEOID</th>\n",
       "      <th>LNNUMBER</th>\n",
       "      <th>TOT_EST</th>\n",
       "      <th>TOT_MOE</th>\n",
       "      <th>ADU_EST</th>\n",
       "      <th>ADU_MOE</th>\n",
       "      <th>CIT_EST</th>\n",
       "      <th>CIT_MOE</th>\n",
       "      <th>CVAP_EST</th>\n",
       "      <th>CVAP_MOE</th>\n",
       "    </tr>\n",
       "  </thead>\n",
       "  <tbody>\n",
       "    <tr>\n",
       "      <th>0</th>\n",
       "      <td>Autauga County, Alabama</td>\n",
       "      <td>Total</td>\n",
       "      <td>05000US01001</td>\n",
       "      <td>1</td>\n",
       "      <td>55050</td>\n",
       "      <td>NaN</td>\n",
       "      <td>41195</td>\n",
       "      <td>34.0</td>\n",
       "      <td>54510</td>\n",
       "      <td>263</td>\n",
       "      <td>40690</td>\n",
       "      <td>236</td>\n",
       "    </tr>\n",
       "    <tr>\n",
       "      <th>1</th>\n",
       "      <td>Autauga County, Alabama</td>\n",
       "      <td>Not Hispanic or Latino</td>\n",
       "      <td>05000US01001</td>\n",
       "      <td>2</td>\n",
       "      <td>53635</td>\n",
       "      <td>NaN</td>\n",
       "      <td>40290</td>\n",
       "      <td>35.0</td>\n",
       "      <td>53325</td>\n",
       "      <td>220</td>\n",
       "      <td>40015</td>\n",
       "      <td>184</td>\n",
       "    </tr>\n",
       "    <tr>\n",
       "      <th>2</th>\n",
       "      <td>Autauga County, Alabama</td>\n",
       "      <td>American Indian or Alaska Native Alone</td>\n",
       "      <td>05000US01001</td>\n",
       "      <td>3</td>\n",
       "      <td>225</td>\n",
       "      <td>74.0</td>\n",
       "      <td>125</td>\n",
       "      <td>55.0</td>\n",
       "      <td>225</td>\n",
       "      <td>74</td>\n",
       "      <td>125</td>\n",
       "      <td>55</td>\n",
       "    </tr>\n",
       "    <tr>\n",
       "      <th>3</th>\n",
       "      <td>Autauga County, Alabama</td>\n",
       "      <td>Asian Alone</td>\n",
       "      <td>05000US01001</td>\n",
       "      <td>4</td>\n",
       "      <td>485</td>\n",
       "      <td>165.0</td>\n",
       "      <td>390</td>\n",
       "      <td>106.0</td>\n",
       "      <td>340</td>\n",
       "      <td>200</td>\n",
       "      <td>245</td>\n",
       "      <td>161</td>\n",
       "    </tr>\n",
       "    <tr>\n",
       "      <th>4</th>\n",
       "      <td>Autauga County, Alabama</td>\n",
       "      <td>Black or African American Alone</td>\n",
       "      <td>05000US01001</td>\n",
       "      <td>5</td>\n",
       "      <td>10115</td>\n",
       "      <td>242.0</td>\n",
       "      <td>7470</td>\n",
       "      <td>75.0</td>\n",
       "      <td>10115</td>\n",
       "      <td>242</td>\n",
       "      <td>7470</td>\n",
       "      <td>75</td>\n",
       "    </tr>\n",
       "  </tbody>\n",
       "</table>\n",
       "</div>"
      ],
      "text/plain": [
       "                   GEONAME                                 LNTITLE  \\\n",
       "0  Autauga County, Alabama                                   Total   \n",
       "1  Autauga County, Alabama                  Not Hispanic or Latino   \n",
       "2  Autauga County, Alabama  American Indian or Alaska Native Alone   \n",
       "3  Autauga County, Alabama                             Asian Alone   \n",
       "4  Autauga County, Alabama         Black or African American Alone   \n",
       "\n",
       "          GEOID  LNNUMBER  TOT_EST  TOT_MOE  ADU_EST  ADU_MOE  CIT_EST  \\\n",
       "0  05000US01001         1    55050      NaN    41195     34.0    54510   \n",
       "1  05000US01001         2    53635      NaN    40290     35.0    53325   \n",
       "2  05000US01001         3      225     74.0      125     55.0      225   \n",
       "3  05000US01001         4      485    165.0      390    106.0      340   \n",
       "4  05000US01001         5    10115    242.0     7470     75.0    10115   \n",
       "\n",
       "   CIT_MOE  CVAP_EST  CVAP_MOE  \n",
       "0      263     40690       236  \n",
       "1      220     40015       184  \n",
       "2       74       125        55  \n",
       "3      200       245       161  \n",
       "4      242      7470        75  "
      ]
     },
     "execution_count": 12,
     "metadata": {},
     "output_type": "execute_result"
    }
   ],
   "source": [
    "vap_df.head()"
   ]
  },
  {
   "cell_type": "markdown",
   "metadata": {},
   "source": [
    "We want only the **TOTAL** rows"
   ]
  },
  {
   "cell_type": "code",
   "execution_count": 13,
   "metadata": {},
   "outputs": [],
   "source": [
    "vap_df = vap_df[vap_df['LNNUMBER'] == 1]  # LNNUMBER = 1 is code for LNTITLE = Total"
   ]
  },
  {
   "cell_type": "code",
   "execution_count": 14,
   "metadata": {},
   "outputs": [
    {
     "data": {
      "text/plain": [
       "(3220, 12)"
      ]
     },
     "execution_count": 14,
     "metadata": {},
     "output_type": "execute_result"
    }
   ],
   "source": [
    "vap_df.shape"
   ]
  },
  {
   "cell_type": "code",
   "execution_count": 15,
   "metadata": {},
   "outputs": [],
   "source": [
    "vap_df = vap_df[['GEONAME', 'GEOID', 'CVAP_EST', 'CVAP_MOE']]"
   ]
  },
  {
   "cell_type": "code",
   "execution_count": 16,
   "metadata": {},
   "outputs": [],
   "source": [
    "vap_df.rename(\n",
    "    columns = {\n",
    "        'GEOID': 'FIPS',\n",
    "        'CVAP_EST': 'VAP', \n",
    "        'CVAP_MOE':'VAP_MOE'}, \n",
    "    inplace=True)\n"
   ]
  },
  {
   "cell_type": "code",
   "execution_count": 17,
   "metadata": {},
   "outputs": [],
   "source": [
    "vap_df['FIPS'] = vap_df['FIPS'].apply(lambda x: x[-5:])"
   ]
  },
  {
   "cell_type": "code",
   "execution_count": 18,
   "metadata": {},
   "outputs": [],
   "source": [
    "vap_df['STATE'] = vap_df['GEONAME'].apply(lambda x: x.split(',')[1])"
   ]
  },
  {
   "cell_type": "code",
   "execution_count": 19,
   "metadata": {},
   "outputs": [
    {
     "data": {
      "text/html": [
       "<div>\n",
       "<style scoped>\n",
       "    .dataframe tbody tr th:only-of-type {\n",
       "        vertical-align: middle;\n",
       "    }\n",
       "\n",
       "    .dataframe tbody tr th {\n",
       "        vertical-align: top;\n",
       "    }\n",
       "\n",
       "    .dataframe thead th {\n",
       "        text-align: right;\n",
       "    }\n",
       "</style>\n",
       "<table border=\"1\" class=\"dataframe\">\n",
       "  <thead>\n",
       "    <tr style=\"text-align: right;\">\n",
       "      <th></th>\n",
       "      <th>GEONAME</th>\n",
       "      <th>FIPS</th>\n",
       "      <th>VAP</th>\n",
       "      <th>VAP_MOE</th>\n",
       "      <th>STATE</th>\n",
       "    </tr>\n",
       "  </thead>\n",
       "  <tbody>\n",
       "    <tr>\n",
       "      <th>0</th>\n",
       "      <td>Autauga County, Alabama</td>\n",
       "      <td>01001</td>\n",
       "      <td>40690</td>\n",
       "      <td>236</td>\n",
       "      <td>Alabama</td>\n",
       "    </tr>\n",
       "    <tr>\n",
       "      <th>13</th>\n",
       "      <td>Baldwin County, Alabama</td>\n",
       "      <td>01003</td>\n",
       "      <td>151770</td>\n",
       "      <td>680</td>\n",
       "      <td>Alabama</td>\n",
       "    </tr>\n",
       "    <tr>\n",
       "      <th>26</th>\n",
       "      <td>Barbour County, Alabama</td>\n",
       "      <td>01005</td>\n",
       "      <td>20375</td>\n",
       "      <td>113</td>\n",
       "      <td>Alabama</td>\n",
       "    </tr>\n",
       "    <tr>\n",
       "      <th>39</th>\n",
       "      <td>Bibb County, Alabama</td>\n",
       "      <td>01007</td>\n",
       "      <td>17590</td>\n",
       "      <td>81</td>\n",
       "      <td>Alabama</td>\n",
       "    </tr>\n",
       "    <tr>\n",
       "      <th>52</th>\n",
       "      <td>Blount County, Alabama</td>\n",
       "      <td>01009</td>\n",
       "      <td>42430</td>\n",
       "      <td>314</td>\n",
       "      <td>Alabama</td>\n",
       "    </tr>\n",
       "    <tr>\n",
       "      <th>...</th>\n",
       "      <td>...</td>\n",
       "      <td>...</td>\n",
       "      <td>...</td>\n",
       "      <td>...</td>\n",
       "      <td>...</td>\n",
       "    </tr>\n",
       "    <tr>\n",
       "      <th>41795</th>\n",
       "      <td>Vega Baja Municipio, Puerto Rico</td>\n",
       "      <td>72145</td>\n",
       "      <td>43335</td>\n",
       "      <td>90</td>\n",
       "      <td>Puerto Rico</td>\n",
       "    </tr>\n",
       "    <tr>\n",
       "      <th>41808</th>\n",
       "      <td>Vieques Municipio, Puerto Rico</td>\n",
       "      <td>72147</td>\n",
       "      <td>7075</td>\n",
       "      <td>16</td>\n",
       "      <td>Puerto Rico</td>\n",
       "    </tr>\n",
       "    <tr>\n",
       "      <th>41821</th>\n",
       "      <td>Villalba Municipio, Puerto Rico</td>\n",
       "      <td>72149</td>\n",
       "      <td>18270</td>\n",
       "      <td>52</td>\n",
       "      <td>Puerto Rico</td>\n",
       "    </tr>\n",
       "    <tr>\n",
       "      <th>41834</th>\n",
       "      <td>Yabucoa Municipio, Puerto Rico</td>\n",
       "      <td>72151</td>\n",
       "      <td>27785</td>\n",
       "      <td>44</td>\n",
       "      <td>Puerto Rico</td>\n",
       "    </tr>\n",
       "    <tr>\n",
       "      <th>41847</th>\n",
       "      <td>Yauco Municipio, Puerto Rico</td>\n",
       "      <td>72153</td>\n",
       "      <td>30220</td>\n",
       "      <td>34</td>\n",
       "      <td>Puerto Rico</td>\n",
       "    </tr>\n",
       "  </tbody>\n",
       "</table>\n",
       "<p>3220 rows × 5 columns</p>\n",
       "</div>"
      ],
      "text/plain": [
       "                                GEONAME   FIPS     VAP  VAP_MOE         STATE\n",
       "0               Autauga County, Alabama  01001   40690      236       Alabama\n",
       "13              Baldwin County, Alabama  01003  151770      680       Alabama\n",
       "26              Barbour County, Alabama  01005   20375      113       Alabama\n",
       "39                 Bibb County, Alabama  01007   17590       81       Alabama\n",
       "52               Blount County, Alabama  01009   42430      314       Alabama\n",
       "...                                 ...    ...     ...      ...           ...\n",
       "41795  Vega Baja Municipio, Puerto Rico  72145   43335       90   Puerto Rico\n",
       "41808    Vieques Municipio, Puerto Rico  72147    7075       16   Puerto Rico\n",
       "41821   Villalba Municipio, Puerto Rico  72149   18270       52   Puerto Rico\n",
       "41834    Yabucoa Municipio, Puerto Rico  72151   27785       44   Puerto Rico\n",
       "41847      Yauco Municipio, Puerto Rico  72153   30220       34   Puerto Rico\n",
       "\n",
       "[3220 rows x 5 columns]"
      ]
     },
     "execution_count": 19,
     "metadata": {},
     "output_type": "execute_result"
    }
   ],
   "source": [
    "vap_df"
   ]
  },
  {
   "cell_type": "markdown",
   "metadata": {},
   "source": [
    "# Master list of all Counties"
   ]
  },
  {
   "cell_type": "code",
   "execution_count": 20,
   "metadata": {},
   "outputs": [],
   "source": [
    "counties_df = pd.read_csv('data/raw/usCounties.csv')"
   ]
  },
  {
   "cell_type": "code",
   "execution_count": 21,
   "metadata": {},
   "outputs": [
    {
     "data": {
      "text/html": [
       "<div>\n",
       "<style scoped>\n",
       "    .dataframe tbody tr th:only-of-type {\n",
       "        vertical-align: middle;\n",
       "    }\n",
       "\n",
       "    .dataframe tbody tr th {\n",
       "        vertical-align: top;\n",
       "    }\n",
       "\n",
       "    .dataframe thead th {\n",
       "        text-align: right;\n",
       "    }\n",
       "</style>\n",
       "<table border=\"1\" class=\"dataframe\">\n",
       "  <thead>\n",
       "    <tr style=\"text-align: right;\">\n",
       "      <th></th>\n",
       "      <th>stateAbbrev</th>\n",
       "      <th>stateFIPS</th>\n",
       "      <th>countyFIPS</th>\n",
       "      <th>countyName</th>\n",
       "      <th>huh</th>\n",
       "    </tr>\n",
       "  </thead>\n",
       "  <tbody>\n",
       "    <tr>\n",
       "      <th>0</th>\n",
       "      <td>AL</td>\n",
       "      <td>1</td>\n",
       "      <td>1</td>\n",
       "      <td>Autauga County</td>\n",
       "      <td>H1</td>\n",
       "    </tr>\n",
       "    <tr>\n",
       "      <th>1</th>\n",
       "      <td>AL</td>\n",
       "      <td>1</td>\n",
       "      <td>3</td>\n",
       "      <td>Baldwin County</td>\n",
       "      <td>H1</td>\n",
       "    </tr>\n",
       "    <tr>\n",
       "      <th>2</th>\n",
       "      <td>AL</td>\n",
       "      <td>1</td>\n",
       "      <td>5</td>\n",
       "      <td>Barbour County</td>\n",
       "      <td>H1</td>\n",
       "    </tr>\n",
       "    <tr>\n",
       "      <th>3</th>\n",
       "      <td>AL</td>\n",
       "      <td>1</td>\n",
       "      <td>7</td>\n",
       "      <td>Bibb County</td>\n",
       "      <td>H1</td>\n",
       "    </tr>\n",
       "    <tr>\n",
       "      <th>4</th>\n",
       "      <td>AL</td>\n",
       "      <td>1</td>\n",
       "      <td>9</td>\n",
       "      <td>Blount County</td>\n",
       "      <td>H1</td>\n",
       "    </tr>\n",
       "  </tbody>\n",
       "</table>\n",
       "</div>"
      ],
      "text/plain": [
       "  stateAbbrev  stateFIPS  countyFIPS      countyName huh\n",
       "0          AL          1           1  Autauga County  H1\n",
       "1          AL          1           3  Baldwin County  H1\n",
       "2          AL          1           5  Barbour County  H1\n",
       "3          AL          1           7     Bibb County  H1\n",
       "4          AL          1           9   Blount County  H1"
      ]
     },
     "execution_count": 21,
     "metadata": {},
     "output_type": "execute_result"
    }
   ],
   "source": [
    "counties_df.head()"
   ]
  },
  {
   "cell_type": "code",
   "execution_count": 22,
   "metadata": {},
   "outputs": [],
   "source": [
    "def combineFIPS(row):\n",
    "    state = str(row['stateFIPS']).zfill(2)\n",
    "    county = str(row['countyFIPS']).zfill(3)\n",
    "    \n",
    "    return '{}{}'.format(state,county)"
   ]
  },
  {
   "cell_type": "code",
   "execution_count": 23,
   "metadata": {},
   "outputs": [],
   "source": [
    "counties_df['FIPS'] = counties_df.apply(combineFIPS, axis=1)"
   ]
  },
  {
   "cell_type": "code",
   "execution_count": 24,
   "metadata": {},
   "outputs": [],
   "source": [
    "counties_df = counties_df[['stateAbbrev', 'countyName', 'FIPS']]"
   ]
  },
  {
   "cell_type": "code",
   "execution_count": 25,
   "metadata": {},
   "outputs": [
    {
     "data": {
      "text/html": [
       "<div>\n",
       "<style scoped>\n",
       "    .dataframe tbody tr th:only-of-type {\n",
       "        vertical-align: middle;\n",
       "    }\n",
       "\n",
       "    .dataframe tbody tr th {\n",
       "        vertical-align: top;\n",
       "    }\n",
       "\n",
       "    .dataframe thead th {\n",
       "        text-align: right;\n",
       "    }\n",
       "</style>\n",
       "<table border=\"1\" class=\"dataframe\">\n",
       "  <thead>\n",
       "    <tr style=\"text-align: right;\">\n",
       "      <th></th>\n",
       "      <th>stateAbbrev</th>\n",
       "      <th>countyName</th>\n",
       "      <th>FIPS</th>\n",
       "    </tr>\n",
       "  </thead>\n",
       "  <tbody>\n",
       "    <tr>\n",
       "      <th>0</th>\n",
       "      <td>AL</td>\n",
       "      <td>Autauga County</td>\n",
       "      <td>01001</td>\n",
       "    </tr>\n",
       "    <tr>\n",
       "      <th>1</th>\n",
       "      <td>AL</td>\n",
       "      <td>Baldwin County</td>\n",
       "      <td>01003</td>\n",
       "    </tr>\n",
       "    <tr>\n",
       "      <th>2</th>\n",
       "      <td>AL</td>\n",
       "      <td>Barbour County</td>\n",
       "      <td>01005</td>\n",
       "    </tr>\n",
       "    <tr>\n",
       "      <th>3</th>\n",
       "      <td>AL</td>\n",
       "      <td>Bibb County</td>\n",
       "      <td>01007</td>\n",
       "    </tr>\n",
       "    <tr>\n",
       "      <th>4</th>\n",
       "      <td>AL</td>\n",
       "      <td>Blount County</td>\n",
       "      <td>01009</td>\n",
       "    </tr>\n",
       "  </tbody>\n",
       "</table>\n",
       "</div>"
      ],
      "text/plain": [
       "  stateAbbrev      countyName   FIPS\n",
       "0          AL  Autauga County  01001\n",
       "1          AL  Baldwin County  01003\n",
       "2          AL  Barbour County  01005\n",
       "3          AL     Bibb County  01007\n",
       "4          AL   Blount County  01009"
      ]
     },
     "execution_count": 25,
     "metadata": {},
     "output_type": "execute_result"
    }
   ],
   "source": [
    "counties_df.head()"
   ]
  },
  {
   "cell_type": "code",
   "execution_count": 26,
   "metadata": {},
   "outputs": [
    {
     "data": {
      "text/plain": [
       "(3235, 3)"
      ]
     },
     "execution_count": 26,
     "metadata": {},
     "output_type": "execute_result"
    }
   ],
   "source": [
    "counties_df.shape"
   ]
  },
  {
   "cell_type": "markdown",
   "metadata": {},
   "source": [
    "# Combine\n",
    "\n",
    "combined the vote tallies and vap for each county in the master county list"
   ]
  },
  {
   "cell_type": "markdown",
   "metadata": {},
   "source": [
    "### total votes"
   ]
  },
  {
   "cell_type": "code",
   "execution_count": 27,
   "metadata": {},
   "outputs": [],
   "source": [
    "df = counties_df.merge(votes_df[['totalVotes', 'FIPS']], how='left', on='FIPS')"
   ]
  },
  {
   "cell_type": "code",
   "execution_count": 28,
   "metadata": {},
   "outputs": [
    {
     "data": {
      "text/html": [
       "<div>\n",
       "<style scoped>\n",
       "    .dataframe tbody tr th:only-of-type {\n",
       "        vertical-align: middle;\n",
       "    }\n",
       "\n",
       "    .dataframe tbody tr th {\n",
       "        vertical-align: top;\n",
       "    }\n",
       "\n",
       "    .dataframe thead th {\n",
       "        text-align: right;\n",
       "    }\n",
       "</style>\n",
       "<table border=\"1\" class=\"dataframe\">\n",
       "  <thead>\n",
       "    <tr style=\"text-align: right;\">\n",
       "      <th></th>\n",
       "      <th>stateAbbrev</th>\n",
       "      <th>countyName</th>\n",
       "      <th>FIPS</th>\n",
       "      <th>totalVotes</th>\n",
       "    </tr>\n",
       "  </thead>\n",
       "  <tbody>\n",
       "    <tr>\n",
       "      <th>0</th>\n",
       "      <td>AL</td>\n",
       "      <td>Autauga County</td>\n",
       "      <td>01001</td>\n",
       "      <td>24661.0</td>\n",
       "    </tr>\n",
       "    <tr>\n",
       "      <th>1</th>\n",
       "      <td>AL</td>\n",
       "      <td>Baldwin County</td>\n",
       "      <td>01003</td>\n",
       "      <td>94090.0</td>\n",
       "    </tr>\n",
       "    <tr>\n",
       "      <th>2</th>\n",
       "      <td>AL</td>\n",
       "      <td>Barbour County</td>\n",
       "      <td>01005</td>\n",
       "      <td>10390.0</td>\n",
       "    </tr>\n",
       "    <tr>\n",
       "      <th>3</th>\n",
       "      <td>AL</td>\n",
       "      <td>Bibb County</td>\n",
       "      <td>01007</td>\n",
       "      <td>8748.0</td>\n",
       "    </tr>\n",
       "    <tr>\n",
       "      <th>4</th>\n",
       "      <td>AL</td>\n",
       "      <td>Blount County</td>\n",
       "      <td>01009</td>\n",
       "      <td>25384.0</td>\n",
       "    </tr>\n",
       "  </tbody>\n",
       "</table>\n",
       "</div>"
      ],
      "text/plain": [
       "  stateAbbrev      countyName   FIPS  totalVotes\n",
       "0          AL  Autauga County  01001     24661.0\n",
       "1          AL  Baldwin County  01003     94090.0\n",
       "2          AL  Barbour County  01005     10390.0\n",
       "3          AL     Bibb County  01007      8748.0\n",
       "4          AL   Blount County  01009     25384.0"
      ]
     },
     "execution_count": 28,
     "metadata": {},
     "output_type": "execute_result"
    }
   ],
   "source": [
    "df.head()"
   ]
  },
  {
   "cell_type": "code",
   "execution_count": 29,
   "metadata": {},
   "outputs": [
    {
     "data": {
      "text/plain": [
       "94"
      ]
     },
     "execution_count": 29,
     "metadata": {},
     "output_type": "execute_result"
    }
   ],
   "source": [
    "df['totalVotes'].isnull().sum()"
   ]
  },
  {
   "cell_type": "code",
   "execution_count": 30,
   "metadata": {},
   "outputs": [],
   "source": [
    "df.dropna(inplace=True)"
   ]
  },
  {
   "cell_type": "markdown",
   "metadata": {},
   "source": [
    "## VAP"
   ]
  },
  {
   "cell_type": "code",
   "execution_count": 31,
   "metadata": {},
   "outputs": [],
   "source": [
    "df = df.merge(vap_df[['VAP', 'STATE', 'FIPS']], how='left', on='FIPS')"
   ]
  },
  {
   "cell_type": "code",
   "execution_count": 32,
   "metadata": {},
   "outputs": [
    {
     "data": {
      "text/html": [
       "<div>\n",
       "<style scoped>\n",
       "    .dataframe tbody tr th:only-of-type {\n",
       "        vertical-align: middle;\n",
       "    }\n",
       "\n",
       "    .dataframe tbody tr th {\n",
       "        vertical-align: top;\n",
       "    }\n",
       "\n",
       "    .dataframe thead th {\n",
       "        text-align: right;\n",
       "    }\n",
       "</style>\n",
       "<table border=\"1\" class=\"dataframe\">\n",
       "  <thead>\n",
       "    <tr style=\"text-align: right;\">\n",
       "      <th></th>\n",
       "      <th>stateAbbrev</th>\n",
       "      <th>countyName</th>\n",
       "      <th>FIPS</th>\n",
       "      <th>totalVotes</th>\n",
       "      <th>VAP</th>\n",
       "      <th>STATE</th>\n",
       "    </tr>\n",
       "  </thead>\n",
       "  <tbody>\n",
       "    <tr>\n",
       "      <th>0</th>\n",
       "      <td>AL</td>\n",
       "      <td>Autauga County</td>\n",
       "      <td>01001</td>\n",
       "      <td>24661.0</td>\n",
       "      <td>40690.0</td>\n",
       "      <td>Alabama</td>\n",
       "    </tr>\n",
       "    <tr>\n",
       "      <th>1</th>\n",
       "      <td>AL</td>\n",
       "      <td>Baldwin County</td>\n",
       "      <td>01003</td>\n",
       "      <td>94090.0</td>\n",
       "      <td>151770.0</td>\n",
       "      <td>Alabama</td>\n",
       "    </tr>\n",
       "    <tr>\n",
       "      <th>2</th>\n",
       "      <td>AL</td>\n",
       "      <td>Barbour County</td>\n",
       "      <td>01005</td>\n",
       "      <td>10390.0</td>\n",
       "      <td>20375.0</td>\n",
       "      <td>Alabama</td>\n",
       "    </tr>\n",
       "    <tr>\n",
       "      <th>3</th>\n",
       "      <td>AL</td>\n",
       "      <td>Bibb County</td>\n",
       "      <td>01007</td>\n",
       "      <td>8748.0</td>\n",
       "      <td>17590.0</td>\n",
       "      <td>Alabama</td>\n",
       "    </tr>\n",
       "    <tr>\n",
       "      <th>4</th>\n",
       "      <td>AL</td>\n",
       "      <td>Blount County</td>\n",
       "      <td>01009</td>\n",
       "      <td>25384.0</td>\n",
       "      <td>42430.0</td>\n",
       "      <td>Alabama</td>\n",
       "    </tr>\n",
       "  </tbody>\n",
       "</table>\n",
       "</div>"
      ],
      "text/plain": [
       "  stateAbbrev      countyName   FIPS  totalVotes       VAP     STATE\n",
       "0          AL  Autauga County  01001     24661.0   40690.0   Alabama\n",
       "1          AL  Baldwin County  01003     94090.0  151770.0   Alabama\n",
       "2          AL  Barbour County  01005     10390.0   20375.0   Alabama\n",
       "3          AL     Bibb County  01007      8748.0   17590.0   Alabama\n",
       "4          AL   Blount County  01009     25384.0   42430.0   Alabama"
      ]
     },
     "execution_count": 32,
     "metadata": {},
     "output_type": "execute_result"
    }
   ],
   "source": [
    "df.head()"
   ]
  },
  {
   "cell_type": "code",
   "execution_count": 33,
   "metadata": {},
   "outputs": [
    {
     "data": {
      "text/plain": [
       "2"
      ]
     },
     "execution_count": 33,
     "metadata": {},
     "output_type": "execute_result"
    }
   ],
   "source": [
    "df['VAP'].isnull().sum()"
   ]
  },
  {
   "cell_type": "markdown",
   "metadata": {},
   "source": [
    "# Clean up Alaska. Alaska reports at the state and precint level, not county. Use same value for every county in Alaska"
   ]
  },
  {
   "cell_type": "code",
   "execution_count": 34,
   "metadata": {},
   "outputs": [
    {
     "data": {
      "text/plain": [
       "nan"
      ]
     },
     "execution_count": 34,
     "metadata": {},
     "output_type": "execute_result"
    }
   ],
   "source": [
    "np.nan/43"
   ]
  },
  {
   "cell_type": "markdown",
   "metadata": {},
   "source": [
    "# Calculate Voter Turnout Rates"
   ]
  },
  {
   "cell_type": "code",
   "execution_count": 35,
   "metadata": {},
   "outputs": [],
   "source": [
    "totalVAP_AK = df[df['stateAbbrev'] == 'AK']['VAP'].sum()\n",
    "df.loc[df['stateAbbrev'] == 'AK', 'VAP']= totalVAP_AK"
   ]
  },
  {
   "cell_type": "code",
   "execution_count": 36,
   "metadata": {},
   "outputs": [],
   "source": [
    "def turnout(row):\n",
    "    votes = row['totalVotes']\n",
    "    vap = row['VAP']\n",
    "    \n",
    "    return votes/vap * 100"
   ]
  },
  {
   "cell_type": "code",
   "execution_count": 37,
   "metadata": {},
   "outputs": [],
   "source": [
    "df['turnoutPerc'] = df.apply(turnout, axis=1)"
   ]
  },
  {
   "cell_type": "code",
   "execution_count": 38,
   "metadata": {},
   "outputs": [
    {
     "data": {
      "text/html": [
       "<div>\n",
       "<style scoped>\n",
       "    .dataframe tbody tr th:only-of-type {\n",
       "        vertical-align: middle;\n",
       "    }\n",
       "\n",
       "    .dataframe tbody tr th {\n",
       "        vertical-align: top;\n",
       "    }\n",
       "\n",
       "    .dataframe thead th {\n",
       "        text-align: right;\n",
       "    }\n",
       "</style>\n",
       "<table border=\"1\" class=\"dataframe\">\n",
       "  <thead>\n",
       "    <tr style=\"text-align: right;\">\n",
       "      <th></th>\n",
       "      <th>stateAbbrev</th>\n",
       "      <th>countyName</th>\n",
       "      <th>FIPS</th>\n",
       "      <th>totalVotes</th>\n",
       "      <th>VAP</th>\n",
       "      <th>STATE</th>\n",
       "      <th>turnoutPerc</th>\n",
       "    </tr>\n",
       "  </thead>\n",
       "  <tbody>\n",
       "    <tr>\n",
       "      <th>0</th>\n",
       "      <td>AL</td>\n",
       "      <td>Autauga County</td>\n",
       "      <td>01001</td>\n",
       "      <td>24661.0</td>\n",
       "      <td>40690.0</td>\n",
       "      <td>Alabama</td>\n",
       "      <td>60.607029</td>\n",
       "    </tr>\n",
       "    <tr>\n",
       "      <th>1</th>\n",
       "      <td>AL</td>\n",
       "      <td>Baldwin County</td>\n",
       "      <td>01003</td>\n",
       "      <td>94090.0</td>\n",
       "      <td>151770.0</td>\n",
       "      <td>Alabama</td>\n",
       "      <td>61.995124</td>\n",
       "    </tr>\n",
       "    <tr>\n",
       "      <th>2</th>\n",
       "      <td>AL</td>\n",
       "      <td>Barbour County</td>\n",
       "      <td>01005</td>\n",
       "      <td>10390.0</td>\n",
       "      <td>20375.0</td>\n",
       "      <td>Alabama</td>\n",
       "      <td>50.993865</td>\n",
       "    </tr>\n",
       "    <tr>\n",
       "      <th>3</th>\n",
       "      <td>AL</td>\n",
       "      <td>Bibb County</td>\n",
       "      <td>01007</td>\n",
       "      <td>8748.0</td>\n",
       "      <td>17590.0</td>\n",
       "      <td>Alabama</td>\n",
       "      <td>49.732803</td>\n",
       "    </tr>\n",
       "    <tr>\n",
       "      <th>4</th>\n",
       "      <td>AL</td>\n",
       "      <td>Blount County</td>\n",
       "      <td>01009</td>\n",
       "      <td>25384.0</td>\n",
       "      <td>42430.0</td>\n",
       "      <td>Alabama</td>\n",
       "      <td>59.825595</td>\n",
       "    </tr>\n",
       "  </tbody>\n",
       "</table>\n",
       "</div>"
      ],
      "text/plain": [
       "  stateAbbrev      countyName   FIPS  totalVotes       VAP     STATE  \\\n",
       "0          AL  Autauga County  01001     24661.0   40690.0   Alabama   \n",
       "1          AL  Baldwin County  01003     94090.0  151770.0   Alabama   \n",
       "2          AL  Barbour County  01005     10390.0   20375.0   Alabama   \n",
       "3          AL     Bibb County  01007      8748.0   17590.0   Alabama   \n",
       "4          AL   Blount County  01009     25384.0   42430.0   Alabama   \n",
       "\n",
       "   turnoutPerc  \n",
       "0    60.607029  \n",
       "1    61.995124  \n",
       "2    50.993865  \n",
       "3    49.732803  \n",
       "4    59.825595  "
      ]
     },
     "execution_count": 38,
     "metadata": {},
     "output_type": "execute_result"
    }
   ],
   "source": [
    "df.head()"
   ]
  },
  {
   "cell_type": "code",
   "execution_count": 39,
   "metadata": {},
   "outputs": [],
   "source": [
    "# calculate non voters\n",
    "df['nNonVote'] = df['VAP'] - df['totalVotes']"
   ]
  },
  {
   "cell_type": "code",
   "execution_count": 40,
   "metadata": {},
   "outputs": [
    {
     "data": {
      "text/html": [
       "<div>\n",
       "<style scoped>\n",
       "    .dataframe tbody tr th:only-of-type {\n",
       "        vertical-align: middle;\n",
       "    }\n",
       "\n",
       "    .dataframe tbody tr th {\n",
       "        vertical-align: top;\n",
       "    }\n",
       "\n",
       "    .dataframe thead th {\n",
       "        text-align: right;\n",
       "    }\n",
       "</style>\n",
       "<table border=\"1\" class=\"dataframe\">\n",
       "  <thead>\n",
       "    <tr style=\"text-align: right;\">\n",
       "      <th></th>\n",
       "      <th>stateAbbrev</th>\n",
       "      <th>countyName</th>\n",
       "      <th>FIPS</th>\n",
       "      <th>totalVotes</th>\n",
       "      <th>VAP</th>\n",
       "      <th>STATE</th>\n",
       "      <th>turnoutPerc</th>\n",
       "      <th>nNonVote</th>\n",
       "    </tr>\n",
       "  </thead>\n",
       "  <tbody>\n",
       "    <tr>\n",
       "      <th>0</th>\n",
       "      <td>AL</td>\n",
       "      <td>Autauga County</td>\n",
       "      <td>01001</td>\n",
       "      <td>24661.0</td>\n",
       "      <td>40690.0</td>\n",
       "      <td>Alabama</td>\n",
       "      <td>60.607029</td>\n",
       "      <td>16029.0</td>\n",
       "    </tr>\n",
       "    <tr>\n",
       "      <th>1</th>\n",
       "      <td>AL</td>\n",
       "      <td>Baldwin County</td>\n",
       "      <td>01003</td>\n",
       "      <td>94090.0</td>\n",
       "      <td>151770.0</td>\n",
       "      <td>Alabama</td>\n",
       "      <td>61.995124</td>\n",
       "      <td>57680.0</td>\n",
       "    </tr>\n",
       "    <tr>\n",
       "      <th>2</th>\n",
       "      <td>AL</td>\n",
       "      <td>Barbour County</td>\n",
       "      <td>01005</td>\n",
       "      <td>10390.0</td>\n",
       "      <td>20375.0</td>\n",
       "      <td>Alabama</td>\n",
       "      <td>50.993865</td>\n",
       "      <td>9985.0</td>\n",
       "    </tr>\n",
       "    <tr>\n",
       "      <th>3</th>\n",
       "      <td>AL</td>\n",
       "      <td>Bibb County</td>\n",
       "      <td>01007</td>\n",
       "      <td>8748.0</td>\n",
       "      <td>17590.0</td>\n",
       "      <td>Alabama</td>\n",
       "      <td>49.732803</td>\n",
       "      <td>8842.0</td>\n",
       "    </tr>\n",
       "    <tr>\n",
       "      <th>4</th>\n",
       "      <td>AL</td>\n",
       "      <td>Blount County</td>\n",
       "      <td>01009</td>\n",
       "      <td>25384.0</td>\n",
       "      <td>42430.0</td>\n",
       "      <td>Alabama</td>\n",
       "      <td>59.825595</td>\n",
       "      <td>17046.0</td>\n",
       "    </tr>\n",
       "  </tbody>\n",
       "</table>\n",
       "</div>"
      ],
      "text/plain": [
       "  stateAbbrev      countyName   FIPS  totalVotes       VAP     STATE  \\\n",
       "0          AL  Autauga County  01001     24661.0   40690.0   Alabama   \n",
       "1          AL  Baldwin County  01003     94090.0  151770.0   Alabama   \n",
       "2          AL  Barbour County  01005     10390.0   20375.0   Alabama   \n",
       "3          AL     Bibb County  01007      8748.0   17590.0   Alabama   \n",
       "4          AL   Blount County  01009     25384.0   42430.0   Alabama   \n",
       "\n",
       "   turnoutPerc  nNonVote  \n",
       "0    60.607029   16029.0  \n",
       "1    61.995124   57680.0  \n",
       "2    50.993865    9985.0  \n",
       "3    49.732803    8842.0  \n",
       "4    59.825595   17046.0  "
      ]
     },
     "execution_count": 40,
     "metadata": {},
     "output_type": "execute_result"
    }
   ],
   "source": [
    "df.head()"
   ]
  },
  {
   "cell_type": "code",
   "execution_count": 41,
   "metadata": {},
   "outputs": [],
   "source": [
    "# clear out the anomalous numbers\n",
    "df['turnoutPerc'] = df['turnoutPerc'].apply(lambda x: x if x < 100 else 100)\n",
    "df['nNonVote'] = df['nNonVote'].apply(lambda x: x if x >= 0 else 0)"
   ]
  },
  {
   "cell_type": "code",
   "execution_count": 42,
   "metadata": {},
   "outputs": [],
   "source": [
    "# calculate the percent different from the overall US mean (55.5% of VAP in 2016 (wikipedia))\n",
    "df['percFromMean'] = df['turnoutPerc'] - 55.5"
   ]
  },
  {
   "cell_type": "code",
   "execution_count": 44,
   "metadata": {},
   "outputs": [],
   "source": [
    "df['STATE'] = df['STATE'].apply(lambda x: str(x).strip())\n",
    "df.rename(columns={'STATE': 'state'}, inplace=True)"
   ]
  },
  {
   "cell_type": "markdown",
   "metadata": {},
   "source": [
    "# summary of data"
   ]
  },
  {
   "cell_type": "code",
   "execution_count": 45,
   "metadata": {},
   "outputs": [
    {
     "data": {
      "text/plain": [
       "<AxesSubplot:>"
      ]
     },
     "execution_count": 45,
     "metadata": {},
     "output_type": "execute_result"
    },
    {
     "data": {
      "image/png": "[encoded data removed]",
      "text/plain": [
       "<Figure size 720x360 with 1 Axes>"
      ]
     },
     "metadata": {},
     "output_type": "display_data"
    }
   ],
   "source": [
    "plt.figure(figsize=(10,5))\n",
    "df['nNonVote'].hist(bins=100)"
   ]
  },
  {
   "cell_type": "code",
   "execution_count": 46,
   "metadata": {},
   "outputs": [
    {
     "data": {
      "text/plain": [
       "3471418.0"
      ]
     },
     "execution_count": 46,
     "metadata": {},
     "output_type": "execute_result"
    }
   ],
   "source": [
    "df['nNonVote'].max()"
   ]
  },
  {
   "cell_type": "code",
   "execution_count": 47,
   "metadata": {},
   "outputs": [
    {
     "data": {
      "text/plain": [
       "stateAbbrev                     CA\n",
       "countyName      Los Angeles County\n",
       "FIPS                         06037\n",
       "totalVotes             2.65207e+06\n",
       "VAP                    6.12349e+06\n",
       "state                   California\n",
       "turnoutPerc                43.3098\n",
       "nNonVote               3.47142e+06\n",
       "percFromMean              -12.1902\n",
       "Name: 204, dtype: object"
      ]
     },
     "execution_count": 47,
     "metadata": {},
     "output_type": "execute_result"
    }
   ],
   "source": [
    "df.loc[df['nNonVote'].argmax()]"
   ]
  },
  {
   "cell_type": "code",
   "execution_count": 48,
   "metadata": {},
   "outputs": [
    {
     "data": {
      "text/html": [
       "<div>\n",
       "<style scoped>\n",
       "    .dataframe tbody tr th:only-of-type {\n",
       "        vertical-align: middle;\n",
       "    }\n",
       "\n",
       "    .dataframe tbody tr th {\n",
       "        vertical-align: top;\n",
       "    }\n",
       "\n",
       "    .dataframe thead th {\n",
       "        text-align: right;\n",
       "    }\n",
       "</style>\n",
       "<table border=\"1\" class=\"dataframe\">\n",
       "  <thead>\n",
       "    <tr style=\"text-align: right;\">\n",
       "      <th></th>\n",
       "      <th>stateAbbrev</th>\n",
       "      <th>countyName</th>\n",
       "      <th>FIPS</th>\n",
       "      <th>totalVotes</th>\n",
       "      <th>VAP</th>\n",
       "      <th>state</th>\n",
       "      <th>turnoutPerc</th>\n",
       "      <th>nNonVote</th>\n",
       "      <th>percFromMean</th>\n",
       "    </tr>\n",
       "  </thead>\n",
       "  <tbody>\n",
       "    <tr>\n",
       "      <th>0</th>\n",
       "      <td>AL</td>\n",
       "      <td>Autauga County</td>\n",
       "      <td>01001</td>\n",
       "      <td>24661.0</td>\n",
       "      <td>40690.0</td>\n",
       "      <td>Alabama</td>\n",
       "      <td>60.607029</td>\n",
       "      <td>16029.0</td>\n",
       "      <td>5.107029</td>\n",
       "    </tr>\n",
       "    <tr>\n",
       "      <th>1</th>\n",
       "      <td>AL</td>\n",
       "      <td>Baldwin County</td>\n",
       "      <td>01003</td>\n",
       "      <td>94090.0</td>\n",
       "      <td>151770.0</td>\n",
       "      <td>Alabama</td>\n",
       "      <td>61.995124</td>\n",
       "      <td>57680.0</td>\n",
       "      <td>6.495124</td>\n",
       "    </tr>\n",
       "    <tr>\n",
       "      <th>2</th>\n",
       "      <td>AL</td>\n",
       "      <td>Barbour County</td>\n",
       "      <td>01005</td>\n",
       "      <td>10390.0</td>\n",
       "      <td>20375.0</td>\n",
       "      <td>Alabama</td>\n",
       "      <td>50.993865</td>\n",
       "      <td>9985.0</td>\n",
       "      <td>-4.506135</td>\n",
       "    </tr>\n",
       "    <tr>\n",
       "      <th>3</th>\n",
       "      <td>AL</td>\n",
       "      <td>Bibb County</td>\n",
       "      <td>01007</td>\n",
       "      <td>8748.0</td>\n",
       "      <td>17590.0</td>\n",
       "      <td>Alabama</td>\n",
       "      <td>49.732803</td>\n",
       "      <td>8842.0</td>\n",
       "      <td>-5.767197</td>\n",
       "    </tr>\n",
       "    <tr>\n",
       "      <th>4</th>\n",
       "      <td>AL</td>\n",
       "      <td>Blount County</td>\n",
       "      <td>01009</td>\n",
       "      <td>25384.0</td>\n",
       "      <td>42430.0</td>\n",
       "      <td>Alabama</td>\n",
       "      <td>59.825595</td>\n",
       "      <td>17046.0</td>\n",
       "      <td>4.325595</td>\n",
       "    </tr>\n",
       "  </tbody>\n",
       "</table>\n",
       "</div>"
      ],
      "text/plain": [
       "  stateAbbrev      countyName   FIPS  totalVotes       VAP    state  \\\n",
       "0          AL  Autauga County  01001     24661.0   40690.0  Alabama   \n",
       "1          AL  Baldwin County  01003     94090.0  151770.0  Alabama   \n",
       "2          AL  Barbour County  01005     10390.0   20375.0  Alabama   \n",
       "3          AL     Bibb County  01007      8748.0   17590.0  Alabama   \n",
       "4          AL   Blount County  01009     25384.0   42430.0  Alabama   \n",
       "\n",
       "   turnoutPerc  nNonVote  percFromMean  \n",
       "0    60.607029   16029.0      5.107029  \n",
       "1    61.995124   57680.0      6.495124  \n",
       "2    50.993865    9985.0     -4.506135  \n",
       "3    49.732803    8842.0     -5.767197  \n",
       "4    59.825595   17046.0      4.325595  "
      ]
     },
     "execution_count": 48,
     "metadata": {},
     "output_type": "execute_result"
    }
   ],
   "source": [
    "df.head()"
   ]
  },
  {
   "cell_type": "code",
   "execution_count": 49,
   "metadata": {},
   "outputs": [
    {
     "data": {
      "text/html": [
       "<div>\n",
       "<style scoped>\n",
       "    .dataframe tbody tr th:only-of-type {\n",
       "        vertical-align: middle;\n",
       "    }\n",
       "\n",
       "    .dataframe tbody tr th {\n",
       "        vertical-align: top;\n",
       "    }\n",
       "\n",
       "    .dataframe thead th {\n",
       "        text-align: right;\n",
       "    }\n",
       "</style>\n",
       "<table border=\"1\" class=\"dataframe\">\n",
       "  <thead>\n",
       "    <tr style=\"text-align: right;\">\n",
       "      <th></th>\n",
       "      <th>stateAbbrev</th>\n",
       "      <th>countyName</th>\n",
       "      <th>FIPS</th>\n",
       "      <th>totalVotes</th>\n",
       "      <th>VAP</th>\n",
       "      <th>state</th>\n",
       "      <th>turnoutPerc</th>\n",
       "      <th>nNonVote</th>\n",
       "      <th>percFromMean</th>\n",
       "    </tr>\n",
       "  </thead>\n",
       "  <tbody>\n",
       "    <tr>\n",
       "      <th>67</th>\n",
       "      <td>AK</td>\n",
       "      <td>Aleutians East Borough</td>\n",
       "      <td>02013</td>\n",
       "      <td>246588.0</td>\n",
       "      <td>523095.0</td>\n",
       "      <td>Alaska</td>\n",
       "      <td>47.140194</td>\n",
       "      <td>276507.0</td>\n",
       "      <td>-8.359806</td>\n",
       "    </tr>\n",
       "    <tr>\n",
       "      <th>68</th>\n",
       "      <td>AK</td>\n",
       "      <td>Aleutians West Census Area</td>\n",
       "      <td>02016</td>\n",
       "      <td>246588.0</td>\n",
       "      <td>523095.0</td>\n",
       "      <td>Alaska</td>\n",
       "      <td>47.140194</td>\n",
       "      <td>276507.0</td>\n",
       "      <td>-8.359806</td>\n",
       "    </tr>\n",
       "    <tr>\n",
       "      <th>69</th>\n",
       "      <td>AK</td>\n",
       "      <td>Anchorage Municipality</td>\n",
       "      <td>02020</td>\n",
       "      <td>246588.0</td>\n",
       "      <td>523095.0</td>\n",
       "      <td>Alaska</td>\n",
       "      <td>47.140194</td>\n",
       "      <td>276507.0</td>\n",
       "      <td>-8.359806</td>\n",
       "    </tr>\n",
       "    <tr>\n",
       "      <th>70</th>\n",
       "      <td>AK</td>\n",
       "      <td>Bethel Census Area</td>\n",
       "      <td>02050</td>\n",
       "      <td>246588.0</td>\n",
       "      <td>523095.0</td>\n",
       "      <td>Alaska</td>\n",
       "      <td>47.140194</td>\n",
       "      <td>276507.0</td>\n",
       "      <td>-8.359806</td>\n",
       "    </tr>\n",
       "    <tr>\n",
       "      <th>71</th>\n",
       "      <td>AK</td>\n",
       "      <td>Bristol Bay Borough</td>\n",
       "      <td>02060</td>\n",
       "      <td>246588.0</td>\n",
       "      <td>523095.0</td>\n",
       "      <td>Alaska</td>\n",
       "      <td>47.140194</td>\n",
       "      <td>276507.0</td>\n",
       "      <td>-8.359806</td>\n",
       "    </tr>\n",
       "    <tr>\n",
       "      <th>72</th>\n",
       "      <td>AK</td>\n",
       "      <td>Denali Borough</td>\n",
       "      <td>02068</td>\n",
       "      <td>246588.0</td>\n",
       "      <td>523095.0</td>\n",
       "      <td>Alaska</td>\n",
       "      <td>47.140194</td>\n",
       "      <td>276507.0</td>\n",
       "      <td>-8.359806</td>\n",
       "    </tr>\n",
       "    <tr>\n",
       "      <th>73</th>\n",
       "      <td>AK</td>\n",
       "      <td>Dillingham Census Area</td>\n",
       "      <td>02070</td>\n",
       "      <td>246588.0</td>\n",
       "      <td>523095.0</td>\n",
       "      <td>Alaska</td>\n",
       "      <td>47.140194</td>\n",
       "      <td>276507.0</td>\n",
       "      <td>-8.359806</td>\n",
       "    </tr>\n",
       "    <tr>\n",
       "      <th>74</th>\n",
       "      <td>AK</td>\n",
       "      <td>Fairbanks North Star Borough</td>\n",
       "      <td>02090</td>\n",
       "      <td>246588.0</td>\n",
       "      <td>523095.0</td>\n",
       "      <td>Alaska</td>\n",
       "      <td>47.140194</td>\n",
       "      <td>276507.0</td>\n",
       "      <td>-8.359806</td>\n",
       "    </tr>\n",
       "    <tr>\n",
       "      <th>75</th>\n",
       "      <td>AK</td>\n",
       "      <td>Haines Borough</td>\n",
       "      <td>02100</td>\n",
       "      <td>246588.0</td>\n",
       "      <td>523095.0</td>\n",
       "      <td>Alaska</td>\n",
       "      <td>47.140194</td>\n",
       "      <td>276507.0</td>\n",
       "      <td>-8.359806</td>\n",
       "    </tr>\n",
       "    <tr>\n",
       "      <th>76</th>\n",
       "      <td>AK</td>\n",
       "      <td>Hoonah-Angoon Census Area</td>\n",
       "      <td>02105</td>\n",
       "      <td>246588.0</td>\n",
       "      <td>523095.0</td>\n",
       "      <td>Alaska</td>\n",
       "      <td>47.140194</td>\n",
       "      <td>276507.0</td>\n",
       "      <td>-8.359806</td>\n",
       "    </tr>\n",
       "    <tr>\n",
       "      <th>77</th>\n",
       "      <td>AK</td>\n",
       "      <td>Juneau City and Borough</td>\n",
       "      <td>02110</td>\n",
       "      <td>246588.0</td>\n",
       "      <td>523095.0</td>\n",
       "      <td>Alaska</td>\n",
       "      <td>47.140194</td>\n",
       "      <td>276507.0</td>\n",
       "      <td>-8.359806</td>\n",
       "    </tr>\n",
       "    <tr>\n",
       "      <th>78</th>\n",
       "      <td>AK</td>\n",
       "      <td>Kenai Peninsula Borough</td>\n",
       "      <td>02122</td>\n",
       "      <td>246588.0</td>\n",
       "      <td>523095.0</td>\n",
       "      <td>Alaska</td>\n",
       "      <td>47.140194</td>\n",
       "      <td>276507.0</td>\n",
       "      <td>-8.359806</td>\n",
       "    </tr>\n",
       "    <tr>\n",
       "      <th>79</th>\n",
       "      <td>AK</td>\n",
       "      <td>Ketchikan Gateway Borough</td>\n",
       "      <td>02130</td>\n",
       "      <td>246588.0</td>\n",
       "      <td>523095.0</td>\n",
       "      <td>Alaska</td>\n",
       "      <td>47.140194</td>\n",
       "      <td>276507.0</td>\n",
       "      <td>-8.359806</td>\n",
       "    </tr>\n",
       "    <tr>\n",
       "      <th>80</th>\n",
       "      <td>AK</td>\n",
       "      <td>Kodiak Island Borough</td>\n",
       "      <td>02150</td>\n",
       "      <td>246588.0</td>\n",
       "      <td>523095.0</td>\n",
       "      <td>Alaska</td>\n",
       "      <td>47.140194</td>\n",
       "      <td>276507.0</td>\n",
       "      <td>-8.359806</td>\n",
       "    </tr>\n",
       "    <tr>\n",
       "      <th>81</th>\n",
       "      <td>AK</td>\n",
       "      <td>Lake and Peninsula Borough</td>\n",
       "      <td>02164</td>\n",
       "      <td>246588.0</td>\n",
       "      <td>523095.0</td>\n",
       "      <td>Alaska</td>\n",
       "      <td>47.140194</td>\n",
       "      <td>276507.0</td>\n",
       "      <td>-8.359806</td>\n",
       "    </tr>\n",
       "    <tr>\n",
       "      <th>82</th>\n",
       "      <td>AK</td>\n",
       "      <td>Matanuska-Susitna Borough</td>\n",
       "      <td>02170</td>\n",
       "      <td>246588.0</td>\n",
       "      <td>523095.0</td>\n",
       "      <td>Alaska</td>\n",
       "      <td>47.140194</td>\n",
       "      <td>276507.0</td>\n",
       "      <td>-8.359806</td>\n",
       "    </tr>\n",
       "    <tr>\n",
       "      <th>83</th>\n",
       "      <td>AK</td>\n",
       "      <td>Nome Census Area</td>\n",
       "      <td>02180</td>\n",
       "      <td>246588.0</td>\n",
       "      <td>523095.0</td>\n",
       "      <td>Alaska</td>\n",
       "      <td>47.140194</td>\n",
       "      <td>276507.0</td>\n",
       "      <td>-8.359806</td>\n",
       "    </tr>\n",
       "    <tr>\n",
       "      <th>84</th>\n",
       "      <td>AK</td>\n",
       "      <td>North Slope Borough</td>\n",
       "      <td>02185</td>\n",
       "      <td>246588.0</td>\n",
       "      <td>523095.0</td>\n",
       "      <td>Alaska</td>\n",
       "      <td>47.140194</td>\n",
       "      <td>276507.0</td>\n",
       "      <td>-8.359806</td>\n",
       "    </tr>\n",
       "    <tr>\n",
       "      <th>85</th>\n",
       "      <td>AK</td>\n",
       "      <td>Northwest Arctic Borough</td>\n",
       "      <td>02188</td>\n",
       "      <td>246588.0</td>\n",
       "      <td>523095.0</td>\n",
       "      <td>Alaska</td>\n",
       "      <td>47.140194</td>\n",
       "      <td>276507.0</td>\n",
       "      <td>-8.359806</td>\n",
       "    </tr>\n",
       "    <tr>\n",
       "      <th>86</th>\n",
       "      <td>AK</td>\n",
       "      <td>Petersburg Census Area</td>\n",
       "      <td>02195</td>\n",
       "      <td>246588.0</td>\n",
       "      <td>523095.0</td>\n",
       "      <td>Alaska</td>\n",
       "      <td>47.140194</td>\n",
       "      <td>276507.0</td>\n",
       "      <td>-8.359806</td>\n",
       "    </tr>\n",
       "    <tr>\n",
       "      <th>87</th>\n",
       "      <td>AK</td>\n",
       "      <td>Prince of Wales-Hyder Census Area</td>\n",
       "      <td>02198</td>\n",
       "      <td>246588.0</td>\n",
       "      <td>523095.0</td>\n",
       "      <td>Alaska</td>\n",
       "      <td>47.140194</td>\n",
       "      <td>276507.0</td>\n",
       "      <td>-8.359806</td>\n",
       "    </tr>\n",
       "    <tr>\n",
       "      <th>88</th>\n",
       "      <td>AK</td>\n",
       "      <td>Sitka City and Borough</td>\n",
       "      <td>02220</td>\n",
       "      <td>246588.0</td>\n",
       "      <td>523095.0</td>\n",
       "      <td>Alaska</td>\n",
       "      <td>47.140194</td>\n",
       "      <td>276507.0</td>\n",
       "      <td>-8.359806</td>\n",
       "    </tr>\n",
       "    <tr>\n",
       "      <th>89</th>\n",
       "      <td>AK</td>\n",
       "      <td>Skagway Municipality</td>\n",
       "      <td>02230</td>\n",
       "      <td>246588.0</td>\n",
       "      <td>523095.0</td>\n",
       "      <td>Alaska</td>\n",
       "      <td>47.140194</td>\n",
       "      <td>276507.0</td>\n",
       "      <td>-8.359806</td>\n",
       "    </tr>\n",
       "    <tr>\n",
       "      <th>90</th>\n",
       "      <td>AK</td>\n",
       "      <td>Southeast Fairbanks Census Area</td>\n",
       "      <td>02240</td>\n",
       "      <td>246588.0</td>\n",
       "      <td>523095.0</td>\n",
       "      <td>Alaska</td>\n",
       "      <td>47.140194</td>\n",
       "      <td>276507.0</td>\n",
       "      <td>-8.359806</td>\n",
       "    </tr>\n",
       "    <tr>\n",
       "      <th>91</th>\n",
       "      <td>AK</td>\n",
       "      <td>Valdez-Cordova Census Area</td>\n",
       "      <td>02261</td>\n",
       "      <td>246588.0</td>\n",
       "      <td>523095.0</td>\n",
       "      <td>Alaska</td>\n",
       "      <td>47.140194</td>\n",
       "      <td>276507.0</td>\n",
       "      <td>-8.359806</td>\n",
       "    </tr>\n",
       "    <tr>\n",
       "      <th>92</th>\n",
       "      <td>AK</td>\n",
       "      <td>Wade Hampton Census Area</td>\n",
       "      <td>02270</td>\n",
       "      <td>246588.0</td>\n",
       "      <td>523095.0</td>\n",
       "      <td>nan</td>\n",
       "      <td>47.140194</td>\n",
       "      <td>276507.0</td>\n",
       "      <td>-8.359806</td>\n",
       "    </tr>\n",
       "    <tr>\n",
       "      <th>93</th>\n",
       "      <td>AK</td>\n",
       "      <td>Wrangell City and Borough</td>\n",
       "      <td>02275</td>\n",
       "      <td>246588.0</td>\n",
       "      <td>523095.0</td>\n",
       "      <td>Alaska</td>\n",
       "      <td>47.140194</td>\n",
       "      <td>276507.0</td>\n",
       "      <td>-8.359806</td>\n",
       "    </tr>\n",
       "    <tr>\n",
       "      <th>94</th>\n",
       "      <td>AK</td>\n",
       "      <td>Yakutat City and Borough</td>\n",
       "      <td>02282</td>\n",
       "      <td>246588.0</td>\n",
       "      <td>523095.0</td>\n",
       "      <td>Alaska</td>\n",
       "      <td>47.140194</td>\n",
       "      <td>276507.0</td>\n",
       "      <td>-8.359806</td>\n",
       "    </tr>\n",
       "    <tr>\n",
       "      <th>95</th>\n",
       "      <td>AK</td>\n",
       "      <td>Yukon-Koyukuk Census Area</td>\n",
       "      <td>02290</td>\n",
       "      <td>246588.0</td>\n",
       "      <td>523095.0</td>\n",
       "      <td>Alaska</td>\n",
       "      <td>47.140194</td>\n",
       "      <td>276507.0</td>\n",
       "      <td>-8.359806</td>\n",
       "    </tr>\n",
       "  </tbody>\n",
       "</table>\n",
       "</div>"
      ],
      "text/plain": [
       "   stateAbbrev                         countyName   FIPS  totalVotes  \\\n",
       "67          AK             Aleutians East Borough  02013    246588.0   \n",
       "68          AK         Aleutians West Census Area  02016    246588.0   \n",
       "69          AK             Anchorage Municipality  02020    246588.0   \n",
       "70          AK                 Bethel Census Area  02050    246588.0   \n",
       "71          AK                Bristol Bay Borough  02060    246588.0   \n",
       "72          AK                     Denali Borough  02068    246588.0   \n",
       "73          AK             Dillingham Census Area  02070    246588.0   \n",
       "74          AK       Fairbanks North Star Borough  02090    246588.0   \n",
       "75          AK                     Haines Borough  02100    246588.0   \n",
       "76          AK          Hoonah-Angoon Census Area  02105    246588.0   \n",
       "77          AK            Juneau City and Borough  02110    246588.0   \n",
       "78          AK            Kenai Peninsula Borough  02122    246588.0   \n",
       "79          AK          Ketchikan Gateway Borough  02130    246588.0   \n",
       "80          AK              Kodiak Island Borough  02150    246588.0   \n",
       "81          AK         Lake and Peninsula Borough  02164    246588.0   \n",
       "82          AK          Matanuska-Susitna Borough  02170    246588.0   \n",
       "83          AK                   Nome Census Area  02180    246588.0   \n",
       "84          AK                North Slope Borough  02185    246588.0   \n",
       "85          AK           Northwest Arctic Borough  02188    246588.0   \n",
       "86          AK             Petersburg Census Area  02195    246588.0   \n",
       "87          AK  Prince of Wales-Hyder Census Area  02198    246588.0   \n",
       "88          AK             Sitka City and Borough  02220    246588.0   \n",
       "89          AK               Skagway Municipality  02230    246588.0   \n",
       "90          AK    Southeast Fairbanks Census Area  02240    246588.0   \n",
       "91          AK         Valdez-Cordova Census Area  02261    246588.0   \n",
       "92          AK           Wade Hampton Census Area  02270    246588.0   \n",
       "93          AK          Wrangell City and Borough  02275    246588.0   \n",
       "94          AK           Yakutat City and Borough  02282    246588.0   \n",
       "95          AK          Yukon-Koyukuk Census Area  02290    246588.0   \n",
       "\n",
       "         VAP   state  turnoutPerc  nNonVote  percFromMean  \n",
       "67  523095.0  Alaska    47.140194  276507.0     -8.359806  \n",
       "68  523095.0  Alaska    47.140194  276507.0     -8.359806  \n",
       "69  523095.0  Alaska    47.140194  276507.0     -8.359806  \n",
       "70  523095.0  Alaska    47.140194  276507.0     -8.359806  \n",
       "71  523095.0  Alaska    47.140194  276507.0     -8.359806  \n",
       "72  523095.0  Alaska    47.140194  276507.0     -8.359806  \n",
       "73  523095.0  Alaska    47.140194  276507.0     -8.359806  \n",
       "74  523095.0  Alaska    47.140194  276507.0     -8.359806  \n",
       "75  523095.0  Alaska    47.140194  276507.0     -8.359806  \n",
       "76  523095.0  Alaska    47.140194  276507.0     -8.359806  \n",
       "77  523095.0  Alaska    47.140194  276507.0     -8.359806  \n",
       "78  523095.0  Alaska    47.140194  276507.0     -8.359806  \n",
       "79  523095.0  Alaska    47.140194  276507.0     -8.359806  \n",
       "80  523095.0  Alaska    47.140194  276507.0     -8.359806  \n",
       "81  523095.0  Alaska    47.140194  276507.0     -8.359806  \n",
       "82  523095.0  Alaska    47.140194  276507.0     -8.359806  \n",
       "83  523095.0  Alaska    47.140194  276507.0     -8.359806  \n",
       "84  523095.0  Alaska    47.140194  276507.0     -8.359806  \n",
       "85  523095.0  Alaska    47.140194  276507.0     -8.359806  \n",
       "86  523095.0  Alaska    47.140194  276507.0     -8.359806  \n",
       "87  523095.0  Alaska    47.140194  276507.0     -8.359806  \n",
       "88  523095.0  Alaska    47.140194  276507.0     -8.359806  \n",
       "89  523095.0  Alaska    47.140194  276507.0     -8.359806  \n",
       "90  523095.0  Alaska    47.140194  276507.0     -8.359806  \n",
       "91  523095.0  Alaska    47.140194  276507.0     -8.359806  \n",
       "92  523095.0     nan    47.140194  276507.0     -8.359806  \n",
       "93  523095.0  Alaska    47.140194  276507.0     -8.359806  \n",
       "94  523095.0  Alaska    47.140194  276507.0     -8.359806  \n",
       "95  523095.0  Alaska    47.140194  276507.0     -8.359806  "
      ]
     },
     "execution_count": 49,
     "metadata": {},
     "output_type": "execute_result"
    }
   ],
   "source": [
    "df[df['stateAbbrev'] == 'AK']"
   ]
  },
  {
   "cell_type": "markdown",
   "metadata": {},
   "source": [
    "# Write out data"
   ]
  },
  {
   "cell_type": "code",
   "execution_count": 50,
   "metadata": {},
   "outputs": [
    {
     "data": {
      "text/plain": [
       "(3141, 9)"
      ]
     },
     "execution_count": 50,
     "metadata": {},
     "output_type": "execute_result"
    }
   ],
   "source": [
    "df.shape"
   ]
  },
  {
   "cell_type": "code",
   "execution_count": 51,
   "metadata": {},
   "outputs": [],
   "source": [
    "df.dropna(inplace=True)"
   ]
  },
  {
   "cell_type": "code",
   "execution_count": 52,
   "metadata": {},
   "outputs": [
    {
     "data": {
      "text/plain": [
       "(3140, 9)"
      ]
     },
     "execution_count": 52,
     "metadata": {},
     "output_type": "execute_result"
    }
   ],
   "source": [
    "df.shape"
   ]
  },
  {
   "cell_type": "code",
   "execution_count": 53,
   "metadata": {},
   "outputs": [],
   "source": [
    "df.to_csv('data/voterTurnout.csv', index=False)"
   ]
  },
  {
   "cell_type": "markdown",
   "metadata": {},
   "source": [
    "## misc"
   ]
  },
  {
   "cell_type": "code",
   "execution_count": 54,
   "metadata": {},
   "outputs": [],
   "source": [
    "strLen = df['countyName'].apply(lambda x: len(x))"
   ]
  },
  {
   "cell_type": "code",
   "execution_count": 55,
   "metadata": {},
   "outputs": [
    {
     "data": {
      "text/plain": [
       "<AxesSubplot:>"
      ]
     },
     "execution_count": 55,
     "metadata": {},
     "output_type": "execute_result"
    },
    {
     "data": {
      "image/png": "[encoded data removed]",
      "text/plain": [
       "<Figure size 720x360 with 1 Axes>"
      ]
     },
     "metadata": {},
     "output_type": "display_data"
    }
   ],
   "source": [
    "plt.figure(figsize=(10,5))\n",
    "strLen.hist(bins=100)"
   ]
  },
  {
   "cell_type": "code",
   "execution_count": 56,
   "metadata": {},
   "outputs": [
    {
     "data": {
      "text/plain": [
       "33"
      ]
     },
     "execution_count": 56,
     "metadata": {},
     "output_type": "execute_result"
    }
   ],
   "source": [
    "strLen.max()"
   ]
  },
  {
   "cell_type": "code",
   "execution_count": 57,
   "metadata": {},
   "outputs": [
    {
     "data": {
      "text/plain": [
       "stateAbbrev                                    AK\n",
       "countyName      Prince of Wales-Hyder Census Area\n",
       "FIPS                                        02198\n",
       "totalVotes                                 246588\n",
       "VAP                                        523095\n",
       "state                                      Alaska\n",
       "turnoutPerc                               47.1402\n",
       "nNonVote                                   276507\n",
       "percFromMean                             -8.35981\n",
       "Name: 87, dtype: object"
      ]
     },
     "execution_count": 57,
     "metadata": {},
     "output_type": "execute_result"
    }
   ],
   "source": [
    "# county with the longest name\n",
    "df.loc[strLen.argmax()]"
   ]
  },
  {
   "cell_type": "code",
   "execution_count": 58,
   "metadata": {},
   "outputs": [
    {
     "data": {
      "text/plain": [
       "<AxesSubplot:>"
      ]
     },
     "execution_count": 58,
     "metadata": {},
     "output_type": "execute_result"
    },
    {
     "data": {
      "image/png": "[encoded data removed]",
      "text/plain": [
       "<Figure size 432x288 with 1 Axes>"
      ]
     },
     "metadata": {},
     "output_type": "display_data"
    }
   ],
   "source": [
    "df['turnoutPerc'].hist()"
   ]
  },
  {
   "cell_type": "code",
   "execution_count": 59,
   "metadata": {},
   "outputs": [
    {
     "data": {
      "text/html": [
       "<div>\n",
       "<style scoped>\n",
       "    .dataframe tbody tr th:only-of-type {\n",
       "        vertical-align: middle;\n",
       "    }\n",
       "\n",
       "    .dataframe tbody tr th {\n",
       "        vertical-align: top;\n",
       "    }\n",
       "\n",
       "    .dataframe thead th {\n",
       "        text-align: right;\n",
       "    }\n",
       "</style>\n",
       "<table border=\"1\" class=\"dataframe\">\n",
       "  <thead>\n",
       "    <tr style=\"text-align: right;\">\n",
       "      <th></th>\n",
       "      <th>stateAbbrev</th>\n",
       "      <th>countyName</th>\n",
       "      <th>FIPS</th>\n",
       "      <th>totalVotes</th>\n",
       "      <th>VAP</th>\n",
       "      <th>state</th>\n",
       "      <th>turnoutPerc</th>\n",
       "      <th>nNonVote</th>\n",
       "      <th>percFromMean</th>\n",
       "    </tr>\n",
       "  </thead>\n",
       "  <tbody>\n",
       "    <tr>\n",
       "      <th>300</th>\n",
       "      <td>CO</td>\n",
       "      <td>San Juan County</td>\n",
       "      <td>08111</td>\n",
       "      <td>506.0</td>\n",
       "      <td>495.0</td>\n",
       "      <td>Colorado</td>\n",
       "      <td>100.00000</td>\n",
       "      <td>0.0</td>\n",
       "      <td>44.50000</td>\n",
       "    </tr>\n",
       "    <tr>\n",
       "      <th>1805</th>\n",
       "      <td>NM</td>\n",
       "      <td>Harding County</td>\n",
       "      <td>35021</td>\n",
       "      <td>527.0</td>\n",
       "      <td>470.0</td>\n",
       "      <td>New Mexico</td>\n",
       "      <td>100.00000</td>\n",
       "      <td>0.0</td>\n",
       "      <td>44.50000</td>\n",
       "    </tr>\n",
       "    <tr>\n",
       "      <th>2672</th>\n",
       "      <td>TX</td>\n",
       "      <td>Loving County</td>\n",
       "      <td>48301</td>\n",
       "      <td>64.0</td>\n",
       "      <td>60.0</td>\n",
       "      <td>Texas</td>\n",
       "      <td>100.00000</td>\n",
       "      <td>0.0</td>\n",
       "      <td>44.50000</td>\n",
       "    </tr>\n",
       "    <tr>\n",
       "      <th>2677</th>\n",
       "      <td>TX</td>\n",
       "      <td>McMullen County</td>\n",
       "      <td>48311</td>\n",
       "      <td>497.0</td>\n",
       "      <td>460.0</td>\n",
       "      <td>Texas</td>\n",
       "      <td>100.00000</td>\n",
       "      <td>0.0</td>\n",
       "      <td>44.50000</td>\n",
       "    </tr>\n",
       "    <tr>\n",
       "      <th>2708</th>\n",
       "      <td>TX</td>\n",
       "      <td>Polk County</td>\n",
       "      <td>48373</td>\n",
       "      <td>34444.0</td>\n",
       "      <td>34770.0</td>\n",
       "      <td>Texas</td>\n",
       "      <td>99.06241</td>\n",
       "      <td>326.0</td>\n",
       "      <td>43.56241</td>\n",
       "    </tr>\n",
       "  </tbody>\n",
       "</table>\n",
       "</div>"
      ],
      "text/plain": [
       "     stateAbbrev       countyName   FIPS  totalVotes      VAP       state  \\\n",
       "300           CO  San Juan County  08111       506.0    495.0    Colorado   \n",
       "1805          NM   Harding County  35021       527.0    470.0  New Mexico   \n",
       "2672          TX    Loving County  48301        64.0     60.0       Texas   \n",
       "2677          TX  McMullen County  48311       497.0    460.0       Texas   \n",
       "2708          TX      Polk County  48373     34444.0  34770.0       Texas   \n",
       "\n",
       "      turnoutPerc  nNonVote  percFromMean  \n",
       "300     100.00000       0.0      44.50000  \n",
       "1805    100.00000       0.0      44.50000  \n",
       "2672    100.00000       0.0      44.50000  \n",
       "2677    100.00000       0.0      44.50000  \n",
       "2708     99.06241     326.0      43.56241  "
      ]
     },
     "execution_count": 59,
     "metadata": {},
     "output_type": "execute_result"
    }
   ],
   "source": [
    "df.query('turnoutPerc >= 99')"
   ]
  },
  {
   "cell_type": "code",
   "execution_count": 60,
   "metadata": {},
   "outputs": [
    {
     "data": {
      "text/plain": [
       "<AxesSubplot:>"
      ]
     },
     "execution_count": 60,
     "metadata": {},
     "output_type": "execute_result"
    },
    {
     "data": {
      "image/png": "[encoded data removed]",
      "text/plain": [
       "<Figure size 432x288 with 1 Axes>"
      ]
     },
     "metadata": {},
     "output_type": "display_data"
    }
   ],
   "source": [
    "df['turnoutPerc'].hist()"
   ]
  },
  {
   "cell_type": "code",
   "execution_count": 61,
   "metadata": {},
   "outputs": [
    {
     "data": {
      "text/plain": [
       "15.790074158585282"
      ]
     },
     "execution_count": 61,
     "metadata": {},
     "output_type": "execute_result"
    }
   ],
   "source": [
    "df['turnoutPerc'].min()"
   ]
  },
  {
   "cell_type": "code",
   "execution_count": null,
   "metadata": {},
   "outputs": [],
   "source": []
  }
 ],
 "metadata": {
  "kernelspec": {
   "display_name": "Python 3",
   "language": "python",
   "name": "python3"
  },
  "language_info": {
   "codemirror_mode": {
    "name": "ipython",
    "version": 3
   },
   "file_extension": ".py",
   "mimetype": "text/x-python",
   "name": "python",
   "nbconvert_exporter": "python",
   "pygments_lexer": "ipython3",
   "version": "3.6.4"
  }
 },
 "nbformat": 4,
 "nbformat_minor": 4
}
