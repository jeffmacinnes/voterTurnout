{
 "cells": [
  {
   "cell_type": "markdown",
   "metadata": {},
   "source": [
    "# Prep Data\n",
    "\n",
    "Create a data table showing voter turnout rate by county for the 2016 Presidential election"
   ]
  },
  {
   "cell_type": "code",
   "execution_count": 1,
   "metadata": {},
   "outputs": [],
   "source": [
    "import os\n",
    "import sys\n",
    "\n",
    "import pandas as pd\n",
    "import numpy as np\n",
    "import matplotlib.pyplot as plt"
   ]
  },
  {
   "cell_type": "code",
   "execution_count": 2,
   "metadata": {},
   "outputs": [],
   "source": [
    "custom_style = {'axes.labelcolor': 'black',\n",
    "                'xtick.color': 'black',\n",
    "                'ytick.color': 'black'}\n",
    "sns.set_style(\"darkgrid\", rc=custom_style)"
   ]
  },
  {
   "cell_type": "markdown",
   "metadata": {},
   "source": [
    "## Total Votes by County\n",
    "\n",
    "Data taken from MIT Election Lab: https://dataverse.harvard.edu/dataset.xhtml?persistentId=doi:10.7910/DVN/VOQCHQ"
   ]
  },
  {
   "cell_type": "code",
   "execution_count": 3,
   "metadata": {},
   "outputs": [
    {
     "data": {
      "text/plain": [
       "(50524, 11)"
      ]
     },
     "execution_count": 3,
     "metadata": {},
     "output_type": "execute_result"
    }
   ],
   "source": [
    "votes_df = pd.read_csv('data/raw/MIT_countypres_2000-2016.csv')\n",
    "votes_df.shape"
   ]
  },
  {
   "cell_type": "code",
   "execution_count": 4,
   "metadata": {},
   "outputs": [
    {
     "data": {
      "text/html": [
       "<div>\n",
       "<style scoped>\n",
       "    .dataframe tbody tr th:only-of-type {\n",
       "        vertical-align: middle;\n",
       "    }\n",
       "\n",
       "    .dataframe tbody tr th {\n",
       "        vertical-align: top;\n",
       "    }\n",
       "\n",
       "    .dataframe thead th {\n",
       "        text-align: right;\n",
       "    }\n",
       "</style>\n",
       "<table border=\"1\" class=\"dataframe\">\n",
       "  <thead>\n",
       "    <tr style=\"text-align: right;\">\n",
       "      <th></th>\n",
       "      <th>FIPS</th>\n",
       "      <th>totalVotes</th>\n",
       "      <th>county</th>\n",
       "      <th>state</th>\n",
       "    </tr>\n",
       "  </thead>\n",
       "  <tbody>\n",
       "    <tr>\n",
       "      <th>0</th>\n",
       "      <td>01001</td>\n",
       "      <td>24973</td>\n",
       "      <td>Autauga</td>\n",
       "      <td>Alabama</td>\n",
       "    </tr>\n",
       "    <tr>\n",
       "      <th>1</th>\n",
       "      <td>01003</td>\n",
       "      <td>95215</td>\n",
       "      <td>Baldwin</td>\n",
       "      <td>Alabama</td>\n",
       "    </tr>\n",
       "    <tr>\n",
       "      <th>2</th>\n",
       "      <td>01005</td>\n",
       "      <td>10469</td>\n",
       "      <td>Barbour</td>\n",
       "      <td>Alabama</td>\n",
       "    </tr>\n",
       "    <tr>\n",
       "      <th>3</th>\n",
       "      <td>01007</td>\n",
       "      <td>8819</td>\n",
       "      <td>Bibb</td>\n",
       "      <td>Alabama</td>\n",
       "    </tr>\n",
       "    <tr>\n",
       "      <th>4</th>\n",
       "      <td>01009</td>\n",
       "      <td>25588</td>\n",
       "      <td>Blount</td>\n",
       "      <td>Alabama</td>\n",
       "    </tr>\n",
       "  </tbody>\n",
       "</table>\n",
       "</div>"
      ],
      "text/plain": [
       "    FIPS  totalVotes   county    state\n",
       "0  01001       24973  Autauga  Alabama\n",
       "1  01003       95215  Baldwin  Alabama\n",
       "2  01005       10469  Barbour  Alabama\n",
       "3  01007        8819     Bibb  Alabama\n",
       "4  01009       25588   Blount  Alabama"
      ]
     },
     "execution_count": 4,
     "metadata": {},
     "output_type": "execute_result"
    }
   ],
   "source": [
    "# get 2016 only\n",
    "votes_df = votes_df.query('year == 2016')\n",
    "\n",
    "# get the county totals\n",
    "votes_df = votes_df.groupby('FIPS').first().reset_index()\n",
    "\n",
    "# convert FIPS to string\n",
    "votes_df['FIPS'] = votes_df['FIPS'].apply(lambda x: str(int(x)).zfill(5))\n",
    "votes_df.rename(columns={'totalvotes': 'totalVotes'}, inplace=True)\n",
    "\n",
    "# take only the cols we need\n",
    "votes_df = votes_df[['FIPS', 'totalVotes', 'county', 'state']]\n",
    "\n",
    "votes_df.head()"
   ]
  },
  {
   "cell_type": "code",
   "execution_count": 5,
   "metadata": {},
   "outputs": [
    {
     "data": {
      "text/plain": [
       "(3155, 4)"
      ]
     },
     "execution_count": 5,
     "metadata": {},
     "output_type": "execute_result"
    }
   ],
   "source": [
    "votes_df.shape"
   ]
  },
  {
   "cell_type": "markdown",
   "metadata": {},
   "source": [
    "# Voting Age Population by county\n",
    "\n",
    "County level data from US Census, 2012-2016 American Community Survey 5 year estimates https://www.census.gov/programs-surveys/decennial-census/about/voting-rights/cvap.2016.html\n",
    "\n",
    "**Note:** had to download, and resave the County.csv file with encoding as utf-8 "
   ]
  },
  {
   "cell_type": "code",
   "execution_count": 12,
   "metadata": {},
   "outputs": [
    {
     "name": "stdout",
     "output_type": "stream",
     "text": [
      "ACS_CVAP_County.csv           usCounties.csv\n",
      "MIT_countypres_2000-2016.csv\n"
     ]
    }
   ],
   "source": [
    "ls data/raw"
   ]
  },
  {
   "cell_type": "code",
   "execution_count": 13,
   "metadata": {},
   "outputs": [],
   "source": [
    "vap_df = pd.read_csv('data/raw/ACS_CVAP_County.csv')"
   ]
  },
  {
   "cell_type": "code",
   "execution_count": 14,
   "metadata": {},
   "outputs": [
    {
     "data": {
      "text/html": [
       "<div>\n",
       "<style scoped>\n",
       "    .dataframe tbody tr th:only-of-type {\n",
       "        vertical-align: middle;\n",
       "    }\n",
       "\n",
       "    .dataframe tbody tr th {\n",
       "        vertical-align: top;\n",
       "    }\n",
       "\n",
       "    .dataframe thead th {\n",
       "        text-align: right;\n",
       "    }\n",
       "</style>\n",
       "<table border=\"1\" class=\"dataframe\">\n",
       "  <thead>\n",
       "    <tr style=\"text-align: right;\">\n",
       "      <th></th>\n",
       "      <th>GEONAME</th>\n",
       "      <th>LNTITLE</th>\n",
       "      <th>GEOID</th>\n",
       "      <th>LNNUMBER</th>\n",
       "      <th>TOT_EST</th>\n",
       "      <th>TOT_MOE</th>\n",
       "      <th>ADU_EST</th>\n",
       "      <th>ADU_MOE</th>\n",
       "      <th>CIT_EST</th>\n",
       "      <th>CIT_MOE</th>\n",
       "      <th>CVAP_EST</th>\n",
       "      <th>CVAP_MOE</th>\n",
       "    </tr>\n",
       "  </thead>\n",
       "  <tbody>\n",
       "    <tr>\n",
       "      <th>0</th>\n",
       "      <td>Autauga County, Alabama</td>\n",
       "      <td>Total</td>\n",
       "      <td>05000US01001</td>\n",
       "      <td>1</td>\n",
       "      <td>55050</td>\n",
       "      <td>NaN</td>\n",
       "      <td>41195</td>\n",
       "      <td>34.0</td>\n",
       "      <td>54510</td>\n",
       "      <td>263</td>\n",
       "      <td>40690</td>\n",
       "      <td>236</td>\n",
       "    </tr>\n",
       "    <tr>\n",
       "      <th>1</th>\n",
       "      <td>Autauga County, Alabama</td>\n",
       "      <td>Not Hispanic or Latino</td>\n",
       "      <td>05000US01001</td>\n",
       "      <td>2</td>\n",
       "      <td>53635</td>\n",
       "      <td>NaN</td>\n",
       "      <td>40290</td>\n",
       "      <td>35.0</td>\n",
       "      <td>53325</td>\n",
       "      <td>220</td>\n",
       "      <td>40015</td>\n",
       "      <td>184</td>\n",
       "    </tr>\n",
       "    <tr>\n",
       "      <th>2</th>\n",
       "      <td>Autauga County, Alabama</td>\n",
       "      <td>American Indian or Alaska Native Alone</td>\n",
       "      <td>05000US01001</td>\n",
       "      <td>3</td>\n",
       "      <td>225</td>\n",
       "      <td>74.0</td>\n",
       "      <td>125</td>\n",
       "      <td>55.0</td>\n",
       "      <td>225</td>\n",
       "      <td>74</td>\n",
       "      <td>125</td>\n",
       "      <td>55</td>\n",
       "    </tr>\n",
       "    <tr>\n",
       "      <th>3</th>\n",
       "      <td>Autauga County, Alabama</td>\n",
       "      <td>Asian Alone</td>\n",
       "      <td>05000US01001</td>\n",
       "      <td>4</td>\n",
       "      <td>485</td>\n",
       "      <td>165.0</td>\n",
       "      <td>390</td>\n",
       "      <td>106.0</td>\n",
       "      <td>340</td>\n",
       "      <td>200</td>\n",
       "      <td>245</td>\n",
       "      <td>161</td>\n",
       "    </tr>\n",
       "    <tr>\n",
       "      <th>4</th>\n",
       "      <td>Autauga County, Alabama</td>\n",
       "      <td>Black or African American Alone</td>\n",
       "      <td>05000US01001</td>\n",
       "      <td>5</td>\n",
       "      <td>10115</td>\n",
       "      <td>242.0</td>\n",
       "      <td>7470</td>\n",
       "      <td>75.0</td>\n",
       "      <td>10115</td>\n",
       "      <td>242</td>\n",
       "      <td>7470</td>\n",
       "      <td>75</td>\n",
       "    </tr>\n",
       "  </tbody>\n",
       "</table>\n",
       "</div>"
      ],
      "text/plain": [
       "                   GEONAME                                 LNTITLE  \\\n",
       "0  Autauga County, Alabama                                   Total   \n",
       "1  Autauga County, Alabama                  Not Hispanic or Latino   \n",
       "2  Autauga County, Alabama  American Indian or Alaska Native Alone   \n",
       "3  Autauga County, Alabama                             Asian Alone   \n",
       "4  Autauga County, Alabama         Black or African American Alone   \n",
       "\n",
       "          GEOID  LNNUMBER  TOT_EST  TOT_MOE  ADU_EST  ADU_MOE  CIT_EST  \\\n",
       "0  05000US01001         1    55050      NaN    41195     34.0    54510   \n",
       "1  05000US01001         2    53635      NaN    40290     35.0    53325   \n",
       "2  05000US01001         3      225     74.0      125     55.0      225   \n",
       "3  05000US01001         4      485    165.0      390    106.0      340   \n",
       "4  05000US01001         5    10115    242.0     7470     75.0    10115   \n",
       "\n",
       "   CIT_MOE  CVAP_EST  CVAP_MOE  \n",
       "0      263     40690       236  \n",
       "1      220     40015       184  \n",
       "2       74       125        55  \n",
       "3      200       245       161  \n",
       "4      242      7470        75  "
      ]
     },
     "execution_count": 14,
     "metadata": {},
     "output_type": "execute_result"
    }
   ],
   "source": [
    "vap_df.head()"
   ]
  },
  {
   "cell_type": "markdown",
   "metadata": {},
   "source": [
    "We want only the **TOTAL** rows"
   ]
  },
  {
   "cell_type": "code",
   "execution_count": 15,
   "metadata": {},
   "outputs": [],
   "source": [
    "vap_df = vap_df[vap_df['LNNUMBER'] == 1]  # LNNUMBER = 1 is code for LNTITLE = Total"
   ]
  },
  {
   "cell_type": "code",
   "execution_count": 16,
   "metadata": {},
   "outputs": [
    {
     "data": {
      "text/plain": [
       "(3220, 12)"
      ]
     },
     "execution_count": 16,
     "metadata": {},
     "output_type": "execute_result"
    }
   ],
   "source": [
    "vap_df.shape"
   ]
  },
  {
   "cell_type": "code",
   "execution_count": 17,
   "metadata": {},
   "outputs": [],
   "source": [
    "vap_df = vap_df[['GEONAME', 'GEOID', 'CVAP_EST', 'CVAP_MOE']]"
   ]
  },
  {
   "cell_type": "code",
   "execution_count": 18,
   "metadata": {},
   "outputs": [],
   "source": [
    "vap_df.rename(\n",
    "    columns = {\n",
    "        'GEOID': 'FIPS',\n",
    "        'CVAP_EST': 'VAP', \n",
    "        'CVAP_MOE':'VAP_MOE'}, \n",
    "    inplace=True)\n"
   ]
  },
  {
   "cell_type": "code",
   "execution_count": 19,
   "metadata": {},
   "outputs": [],
   "source": [
    "vap_df['FIPS'] = vap_df['FIPS'].apply(lambda x: x[-5:])"
   ]
  },
  {
   "cell_type": "code",
   "execution_count": 20,
   "metadata": {},
   "outputs": [],
   "source": [
    "vap_df['STATE'] = vap_df['GEONAME'].apply(lambda x: x.split(',')[1])"
   ]
  },
  {
   "cell_type": "code",
   "execution_count": 21,
   "metadata": {},
   "outputs": [
    {
     "data": {
      "text/html": [
       "<div>\n",
       "<style scoped>\n",
       "    .dataframe tbody tr th:only-of-type {\n",
       "        vertical-align: middle;\n",
       "    }\n",
       "\n",
       "    .dataframe tbody tr th {\n",
       "        vertical-align: top;\n",
       "    }\n",
       "\n",
       "    .dataframe thead th {\n",
       "        text-align: right;\n",
       "    }\n",
       "</style>\n",
       "<table border=\"1\" class=\"dataframe\">\n",
       "  <thead>\n",
       "    <tr style=\"text-align: right;\">\n",
       "      <th></th>\n",
       "      <th>GEONAME</th>\n",
       "      <th>FIPS</th>\n",
       "      <th>VAP</th>\n",
       "      <th>VAP_MOE</th>\n",
       "      <th>STATE</th>\n",
       "    </tr>\n",
       "  </thead>\n",
       "  <tbody>\n",
       "    <tr>\n",
       "      <th>0</th>\n",
       "      <td>Autauga County, Alabama</td>\n",
       "      <td>01001</td>\n",
       "      <td>40690</td>\n",
       "      <td>236</td>\n",
       "      <td>Alabama</td>\n",
       "    </tr>\n",
       "    <tr>\n",
       "      <th>13</th>\n",
       "      <td>Baldwin County, Alabama</td>\n",
       "      <td>01003</td>\n",
       "      <td>151770</td>\n",
       "      <td>680</td>\n",
       "      <td>Alabama</td>\n",
       "    </tr>\n",
       "    <tr>\n",
       "      <th>26</th>\n",
       "      <td>Barbour County, Alabama</td>\n",
       "      <td>01005</td>\n",
       "      <td>20375</td>\n",
       "      <td>113</td>\n",
       "      <td>Alabama</td>\n",
       "    </tr>\n",
       "    <tr>\n",
       "      <th>39</th>\n",
       "      <td>Bibb County, Alabama</td>\n",
       "      <td>01007</td>\n",
       "      <td>17590</td>\n",
       "      <td>81</td>\n",
       "      <td>Alabama</td>\n",
       "    </tr>\n",
       "    <tr>\n",
       "      <th>52</th>\n",
       "      <td>Blount County, Alabama</td>\n",
       "      <td>01009</td>\n",
       "      <td>42430</td>\n",
       "      <td>314</td>\n",
       "      <td>Alabama</td>\n",
       "    </tr>\n",
       "    <tr>\n",
       "      <th>...</th>\n",
       "      <td>...</td>\n",
       "      <td>...</td>\n",
       "      <td>...</td>\n",
       "      <td>...</td>\n",
       "      <td>...</td>\n",
       "    </tr>\n",
       "    <tr>\n",
       "      <th>41795</th>\n",
       "      <td>Vega Baja Municipio, Puerto Rico</td>\n",
       "      <td>72145</td>\n",
       "      <td>43335</td>\n",
       "      <td>90</td>\n",
       "      <td>Puerto Rico</td>\n",
       "    </tr>\n",
       "    <tr>\n",
       "      <th>41808</th>\n",
       "      <td>Vieques Municipio, Puerto Rico</td>\n",
       "      <td>72147</td>\n",
       "      <td>7075</td>\n",
       "      <td>16</td>\n",
       "      <td>Puerto Rico</td>\n",
       "    </tr>\n",
       "    <tr>\n",
       "      <th>41821</th>\n",
       "      <td>Villalba Municipio, Puerto Rico</td>\n",
       "      <td>72149</td>\n",
       "      <td>18270</td>\n",
       "      <td>52</td>\n",
       "      <td>Puerto Rico</td>\n",
       "    </tr>\n",
       "    <tr>\n",
       "      <th>41834</th>\n",
       "      <td>Yabucoa Municipio, Puerto Rico</td>\n",
       "      <td>72151</td>\n",
       "      <td>27785</td>\n",
       "      <td>44</td>\n",
       "      <td>Puerto Rico</td>\n",
       "    </tr>\n",
       "    <tr>\n",
       "      <th>41847</th>\n",
       "      <td>Yauco Municipio, Puerto Rico</td>\n",
       "      <td>72153</td>\n",
       "      <td>30220</td>\n",
       "      <td>34</td>\n",
       "      <td>Puerto Rico</td>\n",
       "    </tr>\n",
       "  </tbody>\n",
       "</table>\n",
       "<p>3220 rows × 5 columns</p>\n",
       "</div>"
      ],
      "text/plain": [
       "                                GEONAME   FIPS     VAP  VAP_MOE         STATE\n",
       "0               Autauga County, Alabama  01001   40690      236       Alabama\n",
       "13              Baldwin County, Alabama  01003  151770      680       Alabama\n",
       "26              Barbour County, Alabama  01005   20375      113       Alabama\n",
       "39                 Bibb County, Alabama  01007   17590       81       Alabama\n",
       "52               Blount County, Alabama  01009   42430      314       Alabama\n",
       "...                                 ...    ...     ...      ...           ...\n",
       "41795  Vega Baja Municipio, Puerto Rico  72145   43335       90   Puerto Rico\n",
       "41808    Vieques Municipio, Puerto Rico  72147    7075       16   Puerto Rico\n",
       "41821   Villalba Municipio, Puerto Rico  72149   18270       52   Puerto Rico\n",
       "41834    Yabucoa Municipio, Puerto Rico  72151   27785       44   Puerto Rico\n",
       "41847      Yauco Municipio, Puerto Rico  72153   30220       34   Puerto Rico\n",
       "\n",
       "[3220 rows x 5 columns]"
      ]
     },
     "execution_count": 21,
     "metadata": {},
     "output_type": "execute_result"
    }
   ],
   "source": [
    "vap_df"
   ]
  },
  {
   "cell_type": "markdown",
   "metadata": {},
   "source": [
    "# Master list of all Counties"
   ]
  },
  {
   "cell_type": "code",
   "execution_count": 26,
   "metadata": {},
   "outputs": [],
   "source": [
    "counties_df = pd.read_csv('data/raw/usCounties.csv')"
   ]
  },
  {
   "cell_type": "code",
   "execution_count": 27,
   "metadata": {},
   "outputs": [
    {
     "data": {
      "text/html": [
       "<div>\n",
       "<style scoped>\n",
       "    .dataframe tbody tr th:only-of-type {\n",
       "        vertical-align: middle;\n",
       "    }\n",
       "\n",
       "    .dataframe tbody tr th {\n",
       "        vertical-align: top;\n",
       "    }\n",
       "\n",
       "    .dataframe thead th {\n",
       "        text-align: right;\n",
       "    }\n",
       "</style>\n",
       "<table border=\"1\" class=\"dataframe\">\n",
       "  <thead>\n",
       "    <tr style=\"text-align: right;\">\n",
       "      <th></th>\n",
       "      <th>stateAbbrev</th>\n",
       "      <th>stateFIPS</th>\n",
       "      <th>countyFIPS</th>\n",
       "      <th>countyName</th>\n",
       "      <th>huh</th>\n",
       "    </tr>\n",
       "  </thead>\n",
       "  <tbody>\n",
       "    <tr>\n",
       "      <th>0</th>\n",
       "      <td>AL</td>\n",
       "      <td>1</td>\n",
       "      <td>1</td>\n",
       "      <td>Autauga County</td>\n",
       "      <td>H1</td>\n",
       "    </tr>\n",
       "    <tr>\n",
       "      <th>1</th>\n",
       "      <td>AL</td>\n",
       "      <td>1</td>\n",
       "      <td>3</td>\n",
       "      <td>Baldwin County</td>\n",
       "      <td>H1</td>\n",
       "    </tr>\n",
       "    <tr>\n",
       "      <th>2</th>\n",
       "      <td>AL</td>\n",
       "      <td>1</td>\n",
       "      <td>5</td>\n",
       "      <td>Barbour County</td>\n",
       "      <td>H1</td>\n",
       "    </tr>\n",
       "    <tr>\n",
       "      <th>3</th>\n",
       "      <td>AL</td>\n",
       "      <td>1</td>\n",
       "      <td>7</td>\n",
       "      <td>Bibb County</td>\n",
       "      <td>H1</td>\n",
       "    </tr>\n",
       "    <tr>\n",
       "      <th>4</th>\n",
       "      <td>AL</td>\n",
       "      <td>1</td>\n",
       "      <td>9</td>\n",
       "      <td>Blount County</td>\n",
       "      <td>H1</td>\n",
       "    </tr>\n",
       "  </tbody>\n",
       "</table>\n",
       "</div>"
      ],
      "text/plain": [
       "  stateAbbrev  stateFIPS  countyFIPS      countyName huh\n",
       "0          AL          1           1  Autauga County  H1\n",
       "1          AL          1           3  Baldwin County  H1\n",
       "2          AL          1           5  Barbour County  H1\n",
       "3          AL          1           7     Bibb County  H1\n",
       "4          AL          1           9   Blount County  H1"
      ]
     },
     "execution_count": 27,
     "metadata": {},
     "output_type": "execute_result"
    }
   ],
   "source": [
    "counties_df.head()"
   ]
  },
  {
   "cell_type": "code",
   "execution_count": 28,
   "metadata": {},
   "outputs": [],
   "source": [
    "def combineFIPS(row):\n",
    "    state = str(row['stateFIPS']).zfill(2)\n",
    "    county = str(row['countyFIPS']).zfill(3)\n",
    "    \n",
    "    return '{}{}'.format(state,county)"
   ]
  },
  {
   "cell_type": "code",
   "execution_count": 29,
   "metadata": {},
   "outputs": [],
   "source": [
    "counties_df['FIPS'] = counties_df.apply(combineFIPS, axis=1)"
   ]
  },
  {
   "cell_type": "code",
   "execution_count": 30,
   "metadata": {},
   "outputs": [],
   "source": [
    "counties_df = counties_df[['stateAbbrev', 'countyName', 'FIPS']]"
   ]
  },
  {
   "cell_type": "code",
   "execution_count": 31,
   "metadata": {},
   "outputs": [
    {
     "data": {
      "text/html": [
       "<div>\n",
       "<style scoped>\n",
       "    .dataframe tbody tr th:only-of-type {\n",
       "        vertical-align: middle;\n",
       "    }\n",
       "\n",
       "    .dataframe tbody tr th {\n",
       "        vertical-align: top;\n",
       "    }\n",
       "\n",
       "    .dataframe thead th {\n",
       "        text-align: right;\n",
       "    }\n",
       "</style>\n",
       "<table border=\"1\" class=\"dataframe\">\n",
       "  <thead>\n",
       "    <tr style=\"text-align: right;\">\n",
       "      <th></th>\n",
       "      <th>stateAbbrev</th>\n",
       "      <th>countyName</th>\n",
       "      <th>FIPS</th>\n",
       "    </tr>\n",
       "  </thead>\n",
       "  <tbody>\n",
       "    <tr>\n",
       "      <th>0</th>\n",
       "      <td>AL</td>\n",
       "      <td>Autauga County</td>\n",
       "      <td>01001</td>\n",
       "    </tr>\n",
       "    <tr>\n",
       "      <th>1</th>\n",
       "      <td>AL</td>\n",
       "      <td>Baldwin County</td>\n",
       "      <td>01003</td>\n",
       "    </tr>\n",
       "    <tr>\n",
       "      <th>2</th>\n",
       "      <td>AL</td>\n",
       "      <td>Barbour County</td>\n",
       "      <td>01005</td>\n",
       "    </tr>\n",
       "    <tr>\n",
       "      <th>3</th>\n",
       "      <td>AL</td>\n",
       "      <td>Bibb County</td>\n",
       "      <td>01007</td>\n",
       "    </tr>\n",
       "    <tr>\n",
       "      <th>4</th>\n",
       "      <td>AL</td>\n",
       "      <td>Blount County</td>\n",
       "      <td>01009</td>\n",
       "    </tr>\n",
       "  </tbody>\n",
       "</table>\n",
       "</div>"
      ],
      "text/plain": [
       "  stateAbbrev      countyName   FIPS\n",
       "0          AL  Autauga County  01001\n",
       "1          AL  Baldwin County  01003\n",
       "2          AL  Barbour County  01005\n",
       "3          AL     Bibb County  01007\n",
       "4          AL   Blount County  01009"
      ]
     },
     "execution_count": 31,
     "metadata": {},
     "output_type": "execute_result"
    }
   ],
   "source": [
    "counties_df.head()"
   ]
  },
  {
   "cell_type": "code",
   "execution_count": 32,
   "metadata": {},
   "outputs": [
    {
     "data": {
      "text/plain": [
       "(3235, 3)"
      ]
     },
     "execution_count": 32,
     "metadata": {},
     "output_type": "execute_result"
    }
   ],
   "source": [
    "counties_df.shape"
   ]
  },
  {
   "cell_type": "markdown",
   "metadata": {},
   "source": [
    "# Combine\n",
    "\n",
    "combined the vote tallies and vap for each county in the master county list"
   ]
  },
  {
   "cell_type": "markdown",
   "metadata": {},
   "source": [
    "### total votes"
   ]
  },
  {
   "cell_type": "code",
   "execution_count": 34,
   "metadata": {},
   "outputs": [],
   "source": [
    "df = counties_df.merge(votes_df[['totalVotes', 'FIPS']], how='left', on='FIPS')"
   ]
  },
  {
   "cell_type": "code",
   "execution_count": 35,
   "metadata": {},
   "outputs": [
    {
     "data": {
      "text/html": [
       "<div>\n",
       "<style scoped>\n",
       "    .dataframe tbody tr th:only-of-type {\n",
       "        vertical-align: middle;\n",
       "    }\n",
       "\n",
       "    .dataframe tbody tr th {\n",
       "        vertical-align: top;\n",
       "    }\n",
       "\n",
       "    .dataframe thead th {\n",
       "        text-align: right;\n",
       "    }\n",
       "</style>\n",
       "<table border=\"1\" class=\"dataframe\">\n",
       "  <thead>\n",
       "    <tr style=\"text-align: right;\">\n",
       "      <th></th>\n",
       "      <th>stateAbbrev</th>\n",
       "      <th>countyName</th>\n",
       "      <th>FIPS</th>\n",
       "      <th>totalVotes</th>\n",
       "    </tr>\n",
       "  </thead>\n",
       "  <tbody>\n",
       "    <tr>\n",
       "      <th>0</th>\n",
       "      <td>AL</td>\n",
       "      <td>Autauga County</td>\n",
       "      <td>01001</td>\n",
       "      <td>24973.0</td>\n",
       "    </tr>\n",
       "    <tr>\n",
       "      <th>1</th>\n",
       "      <td>AL</td>\n",
       "      <td>Baldwin County</td>\n",
       "      <td>01003</td>\n",
       "      <td>95215.0</td>\n",
       "    </tr>\n",
       "    <tr>\n",
       "      <th>2</th>\n",
       "      <td>AL</td>\n",
       "      <td>Barbour County</td>\n",
       "      <td>01005</td>\n",
       "      <td>10469.0</td>\n",
       "    </tr>\n",
       "    <tr>\n",
       "      <th>3</th>\n",
       "      <td>AL</td>\n",
       "      <td>Bibb County</td>\n",
       "      <td>01007</td>\n",
       "      <td>8819.0</td>\n",
       "    </tr>\n",
       "    <tr>\n",
       "      <th>4</th>\n",
       "      <td>AL</td>\n",
       "      <td>Blount County</td>\n",
       "      <td>01009</td>\n",
       "      <td>25588.0</td>\n",
       "    </tr>\n",
       "  </tbody>\n",
       "</table>\n",
       "</div>"
      ],
      "text/plain": [
       "  stateAbbrev      countyName   FIPS  totalVotes\n",
       "0          AL  Autauga County  01001     24973.0\n",
       "1          AL  Baldwin County  01003     95215.0\n",
       "2          AL  Barbour County  01005     10469.0\n",
       "3          AL     Bibb County  01007      8819.0\n",
       "4          AL   Blount County  01009     25588.0"
      ]
     },
     "execution_count": 35,
     "metadata": {},
     "output_type": "execute_result"
    }
   ],
   "source": [
    "df.head()"
   ]
  },
  {
   "cell_type": "code",
   "execution_count": 36,
   "metadata": {},
   "outputs": [
    {
     "data": {
      "text/plain": [
       "119"
      ]
     },
     "execution_count": 36,
     "metadata": {},
     "output_type": "execute_result"
    }
   ],
   "source": [
    "df['totalVotes'].isnull().sum()"
   ]
  },
  {
   "cell_type": "code",
   "execution_count": 37,
   "metadata": {},
   "outputs": [],
   "source": [
    "df.dropna(inplace=True)"
   ]
  },
  {
   "cell_type": "markdown",
   "metadata": {},
   "source": [
    "## VAP"
   ]
  },
  {
   "cell_type": "code",
   "execution_count": 38,
   "metadata": {},
   "outputs": [],
   "source": [
    "df = df.merge(vap_df[['VAP', 'STATE', 'FIPS']], how='left', on='FIPS')"
   ]
  },
  {
   "cell_type": "code",
   "execution_count": 39,
   "metadata": {},
   "outputs": [
    {
     "data": {
      "text/html": [
       "<div>\n",
       "<style scoped>\n",
       "    .dataframe tbody tr th:only-of-type {\n",
       "        vertical-align: middle;\n",
       "    }\n",
       "\n",
       "    .dataframe tbody tr th {\n",
       "        vertical-align: top;\n",
       "    }\n",
       "\n",
       "    .dataframe thead th {\n",
       "        text-align: right;\n",
       "    }\n",
       "</style>\n",
       "<table border=\"1\" class=\"dataframe\">\n",
       "  <thead>\n",
       "    <tr style=\"text-align: right;\">\n",
       "      <th></th>\n",
       "      <th>stateAbbrev</th>\n",
       "      <th>countyName</th>\n",
       "      <th>FIPS</th>\n",
       "      <th>totalVotes</th>\n",
       "      <th>VAP</th>\n",
       "      <th>STATE</th>\n",
       "    </tr>\n",
       "  </thead>\n",
       "  <tbody>\n",
       "    <tr>\n",
       "      <th>0</th>\n",
       "      <td>AL</td>\n",
       "      <td>Autauga County</td>\n",
       "      <td>01001</td>\n",
       "      <td>24973.0</td>\n",
       "      <td>40690.0</td>\n",
       "      <td>Alabama</td>\n",
       "    </tr>\n",
       "    <tr>\n",
       "      <th>1</th>\n",
       "      <td>AL</td>\n",
       "      <td>Baldwin County</td>\n",
       "      <td>01003</td>\n",
       "      <td>95215.0</td>\n",
       "      <td>151770.0</td>\n",
       "      <td>Alabama</td>\n",
       "    </tr>\n",
       "    <tr>\n",
       "      <th>2</th>\n",
       "      <td>AL</td>\n",
       "      <td>Barbour County</td>\n",
       "      <td>01005</td>\n",
       "      <td>10469.0</td>\n",
       "      <td>20375.0</td>\n",
       "      <td>Alabama</td>\n",
       "    </tr>\n",
       "    <tr>\n",
       "      <th>3</th>\n",
       "      <td>AL</td>\n",
       "      <td>Bibb County</td>\n",
       "      <td>01007</td>\n",
       "      <td>8819.0</td>\n",
       "      <td>17590.0</td>\n",
       "      <td>Alabama</td>\n",
       "    </tr>\n",
       "    <tr>\n",
       "      <th>4</th>\n",
       "      <td>AL</td>\n",
       "      <td>Blount County</td>\n",
       "      <td>01009</td>\n",
       "      <td>25588.0</td>\n",
       "      <td>42430.0</td>\n",
       "      <td>Alabama</td>\n",
       "    </tr>\n",
       "  </tbody>\n",
       "</table>\n",
       "</div>"
      ],
      "text/plain": [
       "  stateAbbrev      countyName   FIPS  totalVotes       VAP     STATE\n",
       "0          AL  Autauga County  01001     24973.0   40690.0   Alabama\n",
       "1          AL  Baldwin County  01003     95215.0  151770.0   Alabama\n",
       "2          AL  Barbour County  01005     10469.0   20375.0   Alabama\n",
       "3          AL     Bibb County  01007      8819.0   17590.0   Alabama\n",
       "4          AL   Blount County  01009     25588.0   42430.0   Alabama"
      ]
     },
     "execution_count": 39,
     "metadata": {},
     "output_type": "execute_result"
    }
   ],
   "source": [
    "df.head()"
   ]
  },
  {
   "cell_type": "code",
   "execution_count": 40,
   "metadata": {},
   "outputs": [
    {
     "data": {
      "text/plain": [
       "2"
      ]
     },
     "execution_count": 40,
     "metadata": {},
     "output_type": "execute_result"
    }
   ],
   "source": [
    "df['VAP'].isnull().sum()"
   ]
  },
  {
   "cell_type": "markdown",
   "metadata": {},
   "source": [
    "## Fix Alaska\n",
    "\n",
    "Use the same VAP and totalVotes for each county in Alaska (which only reports at the state and precint level, not county). The total state values for Alaska come from MIT Elections Lab, returns by state: https://dataverse.harvard.edu/file.xhtml?persistentId=doi:10.7910/DVN/42MVDX/MFU99O&version=5.0"
   ]
  },
  {
   "cell_type": "code",
   "execution_count": 48,
   "metadata": {},
   "outputs": [
    {
     "name": "stderr",
     "output_type": "stream",
     "text": [
      "/usr/local/lib/python3.6/site-packages/ipykernel_launcher.py:3: SettingWithCopyWarning: \n",
      "A value is trying to be set on a copy of a slice from a DataFrame.\n",
      "Try using .loc[row_indexer,col_indexer] = value instead\n",
      "\n",
      "See the caveats in the documentation: https://pandas.pydata.org/pandas-docs/stable/user_guide/indexing.html#returning-a-view-versus-a-copy\n",
      "  This is separate from the ipykernel package so we can avoid doing imports until\n",
      "/usr/local/lib/python3.6/site-packages/ipykernel_launcher.py:4: SettingWithCopyWarning: \n",
      "A value is trying to be set on a copy of a slice from a DataFrame.\n",
      "Try using .loc[row_indexer,col_indexer] = value instead\n",
      "\n",
      "See the caveats in the documentation: https://pandas.pydata.org/pandas-docs/stable/user_guide/indexing.html#returning-a-view-versus-a-copy\n",
      "  after removing the cwd from sys.path.\n",
      "/usr/local/lib/python3.6/site-packages/ipykernel_launcher.py:5: SettingWithCopyWarning: \n",
      "A value is trying to be set on a copy of a slice from a DataFrame.\n",
      "Try using .loc[row_indexer,col_indexer] = value instead\n",
      "\n",
      "See the caveats in the documentation: https://pandas.pydata.org/pandas-docs/stable/user_guide/indexing.html#returning-a-view-versus-a-copy\n",
      "  \"\"\"\n"
     ]
    }
   ],
   "source": [
    "# Create a new set of counties for Alaska\n",
    "AK_counties = counties_df[counties_df['stateAbbrev'] == 'AK']\n",
    "AK_counties['STATE'] = 'Alaska'\n",
    "AK_counties['totalVotes'] = 318608\n",
    "AK_counties['VAP'] =  vap_df[vap_df['STATE'] == ' Alaska']['VAP'].sum()\n",
    "\n",
    "# drop any existing AK rows\n",
    "df = df[df['stateAbbrev'] != 'AK']\n",
    "\n",
    "df = pd.concat([df, AK_counties])\n",
    "\n"
   ]
  },
  {
   "cell_type": "markdown",
   "metadata": {},
   "source": [
    "# Calculate Voter Turnout Rates"
   ]
  },
  {
   "cell_type": "code",
   "execution_count": 50,
   "metadata": {},
   "outputs": [],
   "source": [
    "def turnout(row):\n",
    "    votes = row['totalVotes']\n",
    "    vap = row['VAP']\n",
    "    \n",
    "    return votes/vap * 100"
   ]
  },
  {
   "cell_type": "code",
   "execution_count": 51,
   "metadata": {},
   "outputs": [],
   "source": [
    "df['turnoutPerc'] = df.apply(turnout, axis=1)"
   ]
  },
  {
   "cell_type": "code",
   "execution_count": 52,
   "metadata": {},
   "outputs": [
    {
     "data": {
      "text/html": [
       "<div>\n",
       "<style scoped>\n",
       "    .dataframe tbody tr th:only-of-type {\n",
       "        vertical-align: middle;\n",
       "    }\n",
       "\n",
       "    .dataframe tbody tr th {\n",
       "        vertical-align: top;\n",
       "    }\n",
       "\n",
       "    .dataframe thead th {\n",
       "        text-align: right;\n",
       "    }\n",
       "</style>\n",
       "<table border=\"1\" class=\"dataframe\">\n",
       "  <thead>\n",
       "    <tr style=\"text-align: right;\">\n",
       "      <th></th>\n",
       "      <th>stateAbbrev</th>\n",
       "      <th>countyName</th>\n",
       "      <th>FIPS</th>\n",
       "      <th>totalVotes</th>\n",
       "      <th>VAP</th>\n",
       "      <th>STATE</th>\n",
       "      <th>turnoutPerc</th>\n",
       "    </tr>\n",
       "  </thead>\n",
       "  <tbody>\n",
       "    <tr>\n",
       "      <th>0</th>\n",
       "      <td>AL</td>\n",
       "      <td>Autauga County</td>\n",
       "      <td>01001</td>\n",
       "      <td>24973.0</td>\n",
       "      <td>40690.0</td>\n",
       "      <td>Alabama</td>\n",
       "      <td>61.373802</td>\n",
       "    </tr>\n",
       "    <tr>\n",
       "      <th>1</th>\n",
       "      <td>AL</td>\n",
       "      <td>Baldwin County</td>\n",
       "      <td>01003</td>\n",
       "      <td>95215.0</td>\n",
       "      <td>151770.0</td>\n",
       "      <td>Alabama</td>\n",
       "      <td>62.736377</td>\n",
       "    </tr>\n",
       "    <tr>\n",
       "      <th>2</th>\n",
       "      <td>AL</td>\n",
       "      <td>Barbour County</td>\n",
       "      <td>01005</td>\n",
       "      <td>10469.0</td>\n",
       "      <td>20375.0</td>\n",
       "      <td>Alabama</td>\n",
       "      <td>51.381595</td>\n",
       "    </tr>\n",
       "    <tr>\n",
       "      <th>3</th>\n",
       "      <td>AL</td>\n",
       "      <td>Bibb County</td>\n",
       "      <td>01007</td>\n",
       "      <td>8819.0</td>\n",
       "      <td>17590.0</td>\n",
       "      <td>Alabama</td>\n",
       "      <td>50.136441</td>\n",
       "    </tr>\n",
       "    <tr>\n",
       "      <th>4</th>\n",
       "      <td>AL</td>\n",
       "      <td>Blount County</td>\n",
       "      <td>01009</td>\n",
       "      <td>25588.0</td>\n",
       "      <td>42430.0</td>\n",
       "      <td>Alabama</td>\n",
       "      <td>60.306387</td>\n",
       "    </tr>\n",
       "  </tbody>\n",
       "</table>\n",
       "</div>"
      ],
      "text/plain": [
       "  stateAbbrev      countyName   FIPS  totalVotes       VAP     STATE  \\\n",
       "0          AL  Autauga County  01001     24973.0   40690.0   Alabama   \n",
       "1          AL  Baldwin County  01003     95215.0  151770.0   Alabama   \n",
       "2          AL  Barbour County  01005     10469.0   20375.0   Alabama   \n",
       "3          AL     Bibb County  01007      8819.0   17590.0   Alabama   \n",
       "4          AL   Blount County  01009     25588.0   42430.0   Alabama   \n",
       "\n",
       "   turnoutPerc  \n",
       "0    61.373802  \n",
       "1    62.736377  \n",
       "2    51.381595  \n",
       "3    50.136441  \n",
       "4    60.306387  "
      ]
     },
     "execution_count": 52,
     "metadata": {},
     "output_type": "execute_result"
    }
   ],
   "source": [
    "df.head()"
   ]
  },
  {
   "cell_type": "markdown",
   "metadata": {},
   "source": [
    "### Calculate Non voters and cleanup"
   ]
  },
  {
   "cell_type": "code",
   "execution_count": 53,
   "metadata": {},
   "outputs": [],
   "source": [
    "# calculate non voters\n",
    "df['nNonVote'] = df['VAP'] - df['totalVotes']"
   ]
  },
  {
   "cell_type": "code",
   "execution_count": 54,
   "metadata": {},
   "outputs": [
    {
     "data": {
      "text/html": [
       "<div>\n",
       "<style scoped>\n",
       "    .dataframe tbody tr th:only-of-type {\n",
       "        vertical-align: middle;\n",
       "    }\n",
       "\n",
       "    .dataframe tbody tr th {\n",
       "        vertical-align: top;\n",
       "    }\n",
       "\n",
       "    .dataframe thead th {\n",
       "        text-align: right;\n",
       "    }\n",
       "</style>\n",
       "<table border=\"1\" class=\"dataframe\">\n",
       "  <thead>\n",
       "    <tr style=\"text-align: right;\">\n",
       "      <th></th>\n",
       "      <th>stateAbbrev</th>\n",
       "      <th>countyName</th>\n",
       "      <th>FIPS</th>\n",
       "      <th>totalVotes</th>\n",
       "      <th>VAP</th>\n",
       "      <th>STATE</th>\n",
       "      <th>turnoutPerc</th>\n",
       "      <th>nNonVote</th>\n",
       "    </tr>\n",
       "  </thead>\n",
       "  <tbody>\n",
       "    <tr>\n",
       "      <th>0</th>\n",
       "      <td>AL</td>\n",
       "      <td>Autauga County</td>\n",
       "      <td>01001</td>\n",
       "      <td>24973.0</td>\n",
       "      <td>40690.0</td>\n",
       "      <td>Alabama</td>\n",
       "      <td>61.373802</td>\n",
       "      <td>15717.0</td>\n",
       "    </tr>\n",
       "    <tr>\n",
       "      <th>1</th>\n",
       "      <td>AL</td>\n",
       "      <td>Baldwin County</td>\n",
       "      <td>01003</td>\n",
       "      <td>95215.0</td>\n",
       "      <td>151770.0</td>\n",
       "      <td>Alabama</td>\n",
       "      <td>62.736377</td>\n",
       "      <td>56555.0</td>\n",
       "    </tr>\n",
       "    <tr>\n",
       "      <th>2</th>\n",
       "      <td>AL</td>\n",
       "      <td>Barbour County</td>\n",
       "      <td>01005</td>\n",
       "      <td>10469.0</td>\n",
       "      <td>20375.0</td>\n",
       "      <td>Alabama</td>\n",
       "      <td>51.381595</td>\n",
       "      <td>9906.0</td>\n",
       "    </tr>\n",
       "    <tr>\n",
       "      <th>3</th>\n",
       "      <td>AL</td>\n",
       "      <td>Bibb County</td>\n",
       "      <td>01007</td>\n",
       "      <td>8819.0</td>\n",
       "      <td>17590.0</td>\n",
       "      <td>Alabama</td>\n",
       "      <td>50.136441</td>\n",
       "      <td>8771.0</td>\n",
       "    </tr>\n",
       "    <tr>\n",
       "      <th>4</th>\n",
       "      <td>AL</td>\n",
       "      <td>Blount County</td>\n",
       "      <td>01009</td>\n",
       "      <td>25588.0</td>\n",
       "      <td>42430.0</td>\n",
       "      <td>Alabama</td>\n",
       "      <td>60.306387</td>\n",
       "      <td>16842.0</td>\n",
       "    </tr>\n",
       "  </tbody>\n",
       "</table>\n",
       "</div>"
      ],
      "text/plain": [
       "  stateAbbrev      countyName   FIPS  totalVotes       VAP     STATE  \\\n",
       "0          AL  Autauga County  01001     24973.0   40690.0   Alabama   \n",
       "1          AL  Baldwin County  01003     95215.0  151770.0   Alabama   \n",
       "2          AL  Barbour County  01005     10469.0   20375.0   Alabama   \n",
       "3          AL     Bibb County  01007      8819.0   17590.0   Alabama   \n",
       "4          AL   Blount County  01009     25588.0   42430.0   Alabama   \n",
       "\n",
       "   turnoutPerc  nNonVote  \n",
       "0    61.373802   15717.0  \n",
       "1    62.736377   56555.0  \n",
       "2    51.381595    9906.0  \n",
       "3    50.136441    8771.0  \n",
       "4    60.306387   16842.0  "
      ]
     },
     "execution_count": 54,
     "metadata": {},
     "output_type": "execute_result"
    }
   ],
   "source": [
    "df.head()"
   ]
  },
  {
   "cell_type": "code",
   "execution_count": 55,
   "metadata": {},
   "outputs": [],
   "source": [
    "# clear out the anomalous numbers\n",
    "df['turnoutPerc'] = df['turnoutPerc'].apply(lambda x: x if x < 100 else 100)\n",
    "df['nNonVote'] = df['nNonVote'].apply(lambda x: x if x >= 0 else 0)"
   ]
  },
  {
   "cell_type": "code",
   "execution_count": 56,
   "metadata": {},
   "outputs": [],
   "source": [
    "# calculate the percent different from the overall US mean (55.5% of VAP in 2016 (wikipedia))\n",
    "df['percFromMean'] = df['turnoutPerc'] - 55.5"
   ]
  },
  {
   "cell_type": "code",
   "execution_count": 57,
   "metadata": {},
   "outputs": [],
   "source": [
    "df['STATE'] = df['STATE'].apply(lambda x: str(x).strip())\n",
    "df.rename(columns={'STATE': 'state'}, inplace=True)"
   ]
  },
  {
   "cell_type": "markdown",
   "metadata": {},
   "source": [
    "# summary of data"
   ]
  },
  {
   "cell_type": "code",
   "execution_count": 58,
   "metadata": {},
   "outputs": [
    {
     "data": {
      "text/plain": [
       "<AxesSubplot:>"
      ]
     },
     "execution_count": 58,
     "metadata": {},
     "output_type": "execute_result"
    },
    {
     "data": {
      "image/png": "[encoded data removed]",
      "text/plain": [
       "<Figure size 720x360 with 1 Axes>"
      ]
     },
     "metadata": {},
     "output_type": "display_data"
    }
   ],
   "source": [
    "plt.figure(figsize=(10,5))\n",
    "df['nNonVote'].hist(bins=100)"
   ]
  },
  {
   "cell_type": "code",
   "execution_count": 59,
   "metadata": {},
   "outputs": [
    {
     "data": {
      "text/plain": [
       "2689182.0"
      ]
     },
     "execution_count": 59,
     "metadata": {},
     "output_type": "execute_result"
    }
   ],
   "source": [
    "df['nNonVote'].max()"
   ]
  },
  {
   "cell_type": "code",
   "execution_count": 60,
   "metadata": {},
   "outputs": [
    {
     "data": {
      "text/plain": [
       "stateAbbrev               CA\n",
       "countyName      Kings County\n",
       "FIPS                   06031\n",
       "totalVotes             33915\n",
       "VAP                    91830\n",
       "state             California\n",
       "turnoutPerc          36.9324\n",
       "nNonVote               57915\n",
       "percFromMean        -18.5676\n",
       "Name: 175, dtype: object"
      ]
     },
     "execution_count": 60,
     "metadata": {},
     "output_type": "execute_result"
    }
   ],
   "source": [
    "df.loc[df['nNonVote'].argmax()]"
   ]
  },
  {
   "cell_type": "code",
   "execution_count": 61,
   "metadata": {},
   "outputs": [
    {
     "data": {
      "text/html": [
       "<div>\n",
       "<style scoped>\n",
       "    .dataframe tbody tr th:only-of-type {\n",
       "        vertical-align: middle;\n",
       "    }\n",
       "\n",
       "    .dataframe tbody tr th {\n",
       "        vertical-align: top;\n",
       "    }\n",
       "\n",
       "    .dataframe thead th {\n",
       "        text-align: right;\n",
       "    }\n",
       "</style>\n",
       "<table border=\"1\" class=\"dataframe\">\n",
       "  <thead>\n",
       "    <tr style=\"text-align: right;\">\n",
       "      <th></th>\n",
       "      <th>stateAbbrev</th>\n",
       "      <th>countyName</th>\n",
       "      <th>FIPS</th>\n",
       "      <th>totalVotes</th>\n",
       "      <th>VAP</th>\n",
       "      <th>state</th>\n",
       "      <th>turnoutPerc</th>\n",
       "      <th>nNonVote</th>\n",
       "      <th>percFromMean</th>\n",
       "    </tr>\n",
       "  </thead>\n",
       "  <tbody>\n",
       "    <tr>\n",
       "      <th>0</th>\n",
       "      <td>AL</td>\n",
       "      <td>Autauga County</td>\n",
       "      <td>01001</td>\n",
       "      <td>24973.0</td>\n",
       "      <td>40690.0</td>\n",
       "      <td>Alabama</td>\n",
       "      <td>61.373802</td>\n",
       "      <td>15717.0</td>\n",
       "      <td>5.873802</td>\n",
       "    </tr>\n",
       "    <tr>\n",
       "      <th>1</th>\n",
       "      <td>AL</td>\n",
       "      <td>Baldwin County</td>\n",
       "      <td>01003</td>\n",
       "      <td>95215.0</td>\n",
       "      <td>151770.0</td>\n",
       "      <td>Alabama</td>\n",
       "      <td>62.736377</td>\n",
       "      <td>56555.0</td>\n",
       "      <td>7.236377</td>\n",
       "    </tr>\n",
       "    <tr>\n",
       "      <th>2</th>\n",
       "      <td>AL</td>\n",
       "      <td>Barbour County</td>\n",
       "      <td>01005</td>\n",
       "      <td>10469.0</td>\n",
       "      <td>20375.0</td>\n",
       "      <td>Alabama</td>\n",
       "      <td>51.381595</td>\n",
       "      <td>9906.0</td>\n",
       "      <td>-4.118405</td>\n",
       "    </tr>\n",
       "    <tr>\n",
       "      <th>3</th>\n",
       "      <td>AL</td>\n",
       "      <td>Bibb County</td>\n",
       "      <td>01007</td>\n",
       "      <td>8819.0</td>\n",
       "      <td>17590.0</td>\n",
       "      <td>Alabama</td>\n",
       "      <td>50.136441</td>\n",
       "      <td>8771.0</td>\n",
       "      <td>-5.363559</td>\n",
       "    </tr>\n",
       "    <tr>\n",
       "      <th>4</th>\n",
       "      <td>AL</td>\n",
       "      <td>Blount County</td>\n",
       "      <td>01009</td>\n",
       "      <td>25588.0</td>\n",
       "      <td>42430.0</td>\n",
       "      <td>Alabama</td>\n",
       "      <td>60.306387</td>\n",
       "      <td>16842.0</td>\n",
       "      <td>4.806387</td>\n",
       "    </tr>\n",
       "  </tbody>\n",
       "</table>\n",
       "</div>"
      ],
      "text/plain": [
       "  stateAbbrev      countyName   FIPS  totalVotes       VAP    state  \\\n",
       "0          AL  Autauga County  01001     24973.0   40690.0  Alabama   \n",
       "1          AL  Baldwin County  01003     95215.0  151770.0  Alabama   \n",
       "2          AL  Barbour County  01005     10469.0   20375.0  Alabama   \n",
       "3          AL     Bibb County  01007      8819.0   17590.0  Alabama   \n",
       "4          AL   Blount County  01009     25588.0   42430.0  Alabama   \n",
       "\n",
       "   turnoutPerc  nNonVote  percFromMean  \n",
       "0    61.373802   15717.0      5.873802  \n",
       "1    62.736377   56555.0      7.236377  \n",
       "2    51.381595    9906.0     -4.118405  \n",
       "3    50.136441    8771.0     -5.363559  \n",
       "4    60.306387   16842.0      4.806387  "
      ]
     },
     "execution_count": 61,
     "metadata": {},
     "output_type": "execute_result"
    }
   ],
   "source": [
    "df.head()"
   ]
  },
  {
   "cell_type": "code",
   "execution_count": 62,
   "metadata": {},
   "outputs": [
    {
     "data": {
      "text/html": [
       "<div>\n",
       "<style scoped>\n",
       "    .dataframe tbody tr th:only-of-type {\n",
       "        vertical-align: middle;\n",
       "    }\n",
       "\n",
       "    .dataframe tbody tr th {\n",
       "        vertical-align: top;\n",
       "    }\n",
       "\n",
       "    .dataframe thead th {\n",
       "        text-align: right;\n",
       "    }\n",
       "</style>\n",
       "<table border=\"1\" class=\"dataframe\">\n",
       "  <thead>\n",
       "    <tr style=\"text-align: right;\">\n",
       "      <th></th>\n",
       "      <th>stateAbbrev</th>\n",
       "      <th>countyName</th>\n",
       "      <th>FIPS</th>\n",
       "      <th>totalVotes</th>\n",
       "      <th>VAP</th>\n",
       "      <th>state</th>\n",
       "      <th>turnoutPerc</th>\n",
       "      <th>nNonVote</th>\n",
       "      <th>percFromMean</th>\n",
       "    </tr>\n",
       "  </thead>\n",
       "  <tbody>\n",
       "    <tr>\n",
       "      <th>67</th>\n",
       "      <td>AK</td>\n",
       "      <td>Aleutians East Borough</td>\n",
       "      <td>02013</td>\n",
       "      <td>318608.0</td>\n",
       "      <td>527815.0</td>\n",
       "      <td>Alaska</td>\n",
       "      <td>60.363574</td>\n",
       "      <td>209207.0</td>\n",
       "      <td>4.863574</td>\n",
       "    </tr>\n",
       "    <tr>\n",
       "      <th>68</th>\n",
       "      <td>AK</td>\n",
       "      <td>Aleutians West Census Area</td>\n",
       "      <td>02016</td>\n",
       "      <td>318608.0</td>\n",
       "      <td>527815.0</td>\n",
       "      <td>Alaska</td>\n",
       "      <td>60.363574</td>\n",
       "      <td>209207.0</td>\n",
       "      <td>4.863574</td>\n",
       "    </tr>\n",
       "    <tr>\n",
       "      <th>69</th>\n",
       "      <td>AK</td>\n",
       "      <td>Anchorage Municipality</td>\n",
       "      <td>02020</td>\n",
       "      <td>318608.0</td>\n",
       "      <td>527815.0</td>\n",
       "      <td>Alaska</td>\n",
       "      <td>60.363574</td>\n",
       "      <td>209207.0</td>\n",
       "      <td>4.863574</td>\n",
       "    </tr>\n",
       "    <tr>\n",
       "      <th>70</th>\n",
       "      <td>AK</td>\n",
       "      <td>Bethel Census Area</td>\n",
       "      <td>02050</td>\n",
       "      <td>318608.0</td>\n",
       "      <td>527815.0</td>\n",
       "      <td>Alaska</td>\n",
       "      <td>60.363574</td>\n",
       "      <td>209207.0</td>\n",
       "      <td>4.863574</td>\n",
       "    </tr>\n",
       "    <tr>\n",
       "      <th>71</th>\n",
       "      <td>AK</td>\n",
       "      <td>Bristol Bay Borough</td>\n",
       "      <td>02060</td>\n",
       "      <td>318608.0</td>\n",
       "      <td>527815.0</td>\n",
       "      <td>Alaska</td>\n",
       "      <td>60.363574</td>\n",
       "      <td>209207.0</td>\n",
       "      <td>4.863574</td>\n",
       "    </tr>\n",
       "    <tr>\n",
       "      <th>72</th>\n",
       "      <td>AK</td>\n",
       "      <td>Denali Borough</td>\n",
       "      <td>02068</td>\n",
       "      <td>318608.0</td>\n",
       "      <td>527815.0</td>\n",
       "      <td>Alaska</td>\n",
       "      <td>60.363574</td>\n",
       "      <td>209207.0</td>\n",
       "      <td>4.863574</td>\n",
       "    </tr>\n",
       "    <tr>\n",
       "      <th>73</th>\n",
       "      <td>AK</td>\n",
       "      <td>Dillingham Census Area</td>\n",
       "      <td>02070</td>\n",
       "      <td>318608.0</td>\n",
       "      <td>527815.0</td>\n",
       "      <td>Alaska</td>\n",
       "      <td>60.363574</td>\n",
       "      <td>209207.0</td>\n",
       "      <td>4.863574</td>\n",
       "    </tr>\n",
       "    <tr>\n",
       "      <th>74</th>\n",
       "      <td>AK</td>\n",
       "      <td>Fairbanks North Star Borough</td>\n",
       "      <td>02090</td>\n",
       "      <td>318608.0</td>\n",
       "      <td>527815.0</td>\n",
       "      <td>Alaska</td>\n",
       "      <td>60.363574</td>\n",
       "      <td>209207.0</td>\n",
       "      <td>4.863574</td>\n",
       "    </tr>\n",
       "    <tr>\n",
       "      <th>75</th>\n",
       "      <td>AK</td>\n",
       "      <td>Haines Borough</td>\n",
       "      <td>02100</td>\n",
       "      <td>318608.0</td>\n",
       "      <td>527815.0</td>\n",
       "      <td>Alaska</td>\n",
       "      <td>60.363574</td>\n",
       "      <td>209207.0</td>\n",
       "      <td>4.863574</td>\n",
       "    </tr>\n",
       "    <tr>\n",
       "      <th>76</th>\n",
       "      <td>AK</td>\n",
       "      <td>Hoonah-Angoon Census Area</td>\n",
       "      <td>02105</td>\n",
       "      <td>318608.0</td>\n",
       "      <td>527815.0</td>\n",
       "      <td>Alaska</td>\n",
       "      <td>60.363574</td>\n",
       "      <td>209207.0</td>\n",
       "      <td>4.863574</td>\n",
       "    </tr>\n",
       "    <tr>\n",
       "      <th>77</th>\n",
       "      <td>AK</td>\n",
       "      <td>Juneau City and Borough</td>\n",
       "      <td>02110</td>\n",
       "      <td>318608.0</td>\n",
       "      <td>527815.0</td>\n",
       "      <td>Alaska</td>\n",
       "      <td>60.363574</td>\n",
       "      <td>209207.0</td>\n",
       "      <td>4.863574</td>\n",
       "    </tr>\n",
       "    <tr>\n",
       "      <th>78</th>\n",
       "      <td>AK</td>\n",
       "      <td>Kenai Peninsula Borough</td>\n",
       "      <td>02122</td>\n",
       "      <td>318608.0</td>\n",
       "      <td>527815.0</td>\n",
       "      <td>Alaska</td>\n",
       "      <td>60.363574</td>\n",
       "      <td>209207.0</td>\n",
       "      <td>4.863574</td>\n",
       "    </tr>\n",
       "    <tr>\n",
       "      <th>79</th>\n",
       "      <td>AK</td>\n",
       "      <td>Ketchikan Gateway Borough</td>\n",
       "      <td>02130</td>\n",
       "      <td>318608.0</td>\n",
       "      <td>527815.0</td>\n",
       "      <td>Alaska</td>\n",
       "      <td>60.363574</td>\n",
       "      <td>209207.0</td>\n",
       "      <td>4.863574</td>\n",
       "    </tr>\n",
       "    <tr>\n",
       "      <th>80</th>\n",
       "      <td>AK</td>\n",
       "      <td>Kodiak Island Borough</td>\n",
       "      <td>02150</td>\n",
       "      <td>318608.0</td>\n",
       "      <td>527815.0</td>\n",
       "      <td>Alaska</td>\n",
       "      <td>60.363574</td>\n",
       "      <td>209207.0</td>\n",
       "      <td>4.863574</td>\n",
       "    </tr>\n",
       "    <tr>\n",
       "      <th>81</th>\n",
       "      <td>AK</td>\n",
       "      <td>Lake and Peninsula Borough</td>\n",
       "      <td>02164</td>\n",
       "      <td>318608.0</td>\n",
       "      <td>527815.0</td>\n",
       "      <td>Alaska</td>\n",
       "      <td>60.363574</td>\n",
       "      <td>209207.0</td>\n",
       "      <td>4.863574</td>\n",
       "    </tr>\n",
       "    <tr>\n",
       "      <th>82</th>\n",
       "      <td>AK</td>\n",
       "      <td>Matanuska-Susitna Borough</td>\n",
       "      <td>02170</td>\n",
       "      <td>318608.0</td>\n",
       "      <td>527815.0</td>\n",
       "      <td>Alaska</td>\n",
       "      <td>60.363574</td>\n",
       "      <td>209207.0</td>\n",
       "      <td>4.863574</td>\n",
       "    </tr>\n",
       "    <tr>\n",
       "      <th>83</th>\n",
       "      <td>AK</td>\n",
       "      <td>Nome Census Area</td>\n",
       "      <td>02180</td>\n",
       "      <td>318608.0</td>\n",
       "      <td>527815.0</td>\n",
       "      <td>Alaska</td>\n",
       "      <td>60.363574</td>\n",
       "      <td>209207.0</td>\n",
       "      <td>4.863574</td>\n",
       "    </tr>\n",
       "    <tr>\n",
       "      <th>84</th>\n",
       "      <td>AK</td>\n",
       "      <td>North Slope Borough</td>\n",
       "      <td>02185</td>\n",
       "      <td>318608.0</td>\n",
       "      <td>527815.0</td>\n",
       "      <td>Alaska</td>\n",
       "      <td>60.363574</td>\n",
       "      <td>209207.0</td>\n",
       "      <td>4.863574</td>\n",
       "    </tr>\n",
       "    <tr>\n",
       "      <th>85</th>\n",
       "      <td>AK</td>\n",
       "      <td>Northwest Arctic Borough</td>\n",
       "      <td>02188</td>\n",
       "      <td>318608.0</td>\n",
       "      <td>527815.0</td>\n",
       "      <td>Alaska</td>\n",
       "      <td>60.363574</td>\n",
       "      <td>209207.0</td>\n",
       "      <td>4.863574</td>\n",
       "    </tr>\n",
       "    <tr>\n",
       "      <th>86</th>\n",
       "      <td>AK</td>\n",
       "      <td>Petersburg Census Area</td>\n",
       "      <td>02195</td>\n",
       "      <td>318608.0</td>\n",
       "      <td>527815.0</td>\n",
       "      <td>Alaska</td>\n",
       "      <td>60.363574</td>\n",
       "      <td>209207.0</td>\n",
       "      <td>4.863574</td>\n",
       "    </tr>\n",
       "    <tr>\n",
       "      <th>87</th>\n",
       "      <td>AK</td>\n",
       "      <td>Prince of Wales-Hyder Census Area</td>\n",
       "      <td>02198</td>\n",
       "      <td>318608.0</td>\n",
       "      <td>527815.0</td>\n",
       "      <td>Alaska</td>\n",
       "      <td>60.363574</td>\n",
       "      <td>209207.0</td>\n",
       "      <td>4.863574</td>\n",
       "    </tr>\n",
       "    <tr>\n",
       "      <th>88</th>\n",
       "      <td>AK</td>\n",
       "      <td>Sitka City and Borough</td>\n",
       "      <td>02220</td>\n",
       "      <td>318608.0</td>\n",
       "      <td>527815.0</td>\n",
       "      <td>Alaska</td>\n",
       "      <td>60.363574</td>\n",
       "      <td>209207.0</td>\n",
       "      <td>4.863574</td>\n",
       "    </tr>\n",
       "    <tr>\n",
       "      <th>89</th>\n",
       "      <td>AK</td>\n",
       "      <td>Skagway Municipality</td>\n",
       "      <td>02230</td>\n",
       "      <td>318608.0</td>\n",
       "      <td>527815.0</td>\n",
       "      <td>Alaska</td>\n",
       "      <td>60.363574</td>\n",
       "      <td>209207.0</td>\n",
       "      <td>4.863574</td>\n",
       "    </tr>\n",
       "    <tr>\n",
       "      <th>90</th>\n",
       "      <td>AK</td>\n",
       "      <td>Southeast Fairbanks Census Area</td>\n",
       "      <td>02240</td>\n",
       "      <td>318608.0</td>\n",
       "      <td>527815.0</td>\n",
       "      <td>Alaska</td>\n",
       "      <td>60.363574</td>\n",
       "      <td>209207.0</td>\n",
       "      <td>4.863574</td>\n",
       "    </tr>\n",
       "    <tr>\n",
       "      <th>91</th>\n",
       "      <td>AK</td>\n",
       "      <td>Valdez-Cordova Census Area</td>\n",
       "      <td>02261</td>\n",
       "      <td>318608.0</td>\n",
       "      <td>527815.0</td>\n",
       "      <td>Alaska</td>\n",
       "      <td>60.363574</td>\n",
       "      <td>209207.0</td>\n",
       "      <td>4.863574</td>\n",
       "    </tr>\n",
       "    <tr>\n",
       "      <th>92</th>\n",
       "      <td>AK</td>\n",
       "      <td>Wade Hampton Census Area</td>\n",
       "      <td>02270</td>\n",
       "      <td>318608.0</td>\n",
       "      <td>527815.0</td>\n",
       "      <td>Alaska</td>\n",
       "      <td>60.363574</td>\n",
       "      <td>209207.0</td>\n",
       "      <td>4.863574</td>\n",
       "    </tr>\n",
       "    <tr>\n",
       "      <th>93</th>\n",
       "      <td>AK</td>\n",
       "      <td>Wrangell City and Borough</td>\n",
       "      <td>02275</td>\n",
       "      <td>318608.0</td>\n",
       "      <td>527815.0</td>\n",
       "      <td>Alaska</td>\n",
       "      <td>60.363574</td>\n",
       "      <td>209207.0</td>\n",
       "      <td>4.863574</td>\n",
       "    </tr>\n",
       "    <tr>\n",
       "      <th>94</th>\n",
       "      <td>AK</td>\n",
       "      <td>Yakutat City and Borough</td>\n",
       "      <td>02282</td>\n",
       "      <td>318608.0</td>\n",
       "      <td>527815.0</td>\n",
       "      <td>Alaska</td>\n",
       "      <td>60.363574</td>\n",
       "      <td>209207.0</td>\n",
       "      <td>4.863574</td>\n",
       "    </tr>\n",
       "    <tr>\n",
       "      <th>95</th>\n",
       "      <td>AK</td>\n",
       "      <td>Yukon-Koyukuk Census Area</td>\n",
       "      <td>02290</td>\n",
       "      <td>318608.0</td>\n",
       "      <td>527815.0</td>\n",
       "      <td>Alaska</td>\n",
       "      <td>60.363574</td>\n",
       "      <td>209207.0</td>\n",
       "      <td>4.863574</td>\n",
       "    </tr>\n",
       "  </tbody>\n",
       "</table>\n",
       "</div>"
      ],
      "text/plain": [
       "   stateAbbrev                         countyName   FIPS  totalVotes  \\\n",
       "67          AK             Aleutians East Borough  02013    318608.0   \n",
       "68          AK         Aleutians West Census Area  02016    318608.0   \n",
       "69          AK             Anchorage Municipality  02020    318608.0   \n",
       "70          AK                 Bethel Census Area  02050    318608.0   \n",
       "71          AK                Bristol Bay Borough  02060    318608.0   \n",
       "72          AK                     Denali Borough  02068    318608.0   \n",
       "73          AK             Dillingham Census Area  02070    318608.0   \n",
       "74          AK       Fairbanks North Star Borough  02090    318608.0   \n",
       "75          AK                     Haines Borough  02100    318608.0   \n",
       "76          AK          Hoonah-Angoon Census Area  02105    318608.0   \n",
       "77          AK            Juneau City and Borough  02110    318608.0   \n",
       "78          AK            Kenai Peninsula Borough  02122    318608.0   \n",
       "79          AK          Ketchikan Gateway Borough  02130    318608.0   \n",
       "80          AK              Kodiak Island Borough  02150    318608.0   \n",
       "81          AK         Lake and Peninsula Borough  02164    318608.0   \n",
       "82          AK          Matanuska-Susitna Borough  02170    318608.0   \n",
       "83          AK                   Nome Census Area  02180    318608.0   \n",
       "84          AK                North Slope Borough  02185    318608.0   \n",
       "85          AK           Northwest Arctic Borough  02188    318608.0   \n",
       "86          AK             Petersburg Census Area  02195    318608.0   \n",
       "87          AK  Prince of Wales-Hyder Census Area  02198    318608.0   \n",
       "88          AK             Sitka City and Borough  02220    318608.0   \n",
       "89          AK               Skagway Municipality  02230    318608.0   \n",
       "90          AK    Southeast Fairbanks Census Area  02240    318608.0   \n",
       "91          AK         Valdez-Cordova Census Area  02261    318608.0   \n",
       "92          AK           Wade Hampton Census Area  02270    318608.0   \n",
       "93          AK          Wrangell City and Borough  02275    318608.0   \n",
       "94          AK           Yakutat City and Borough  02282    318608.0   \n",
       "95          AK          Yukon-Koyukuk Census Area  02290    318608.0   \n",
       "\n",
       "         VAP   state  turnoutPerc  nNonVote  percFromMean  \n",
       "67  527815.0  Alaska    60.363574  209207.0      4.863574  \n",
       "68  527815.0  Alaska    60.363574  209207.0      4.863574  \n",
       "69  527815.0  Alaska    60.363574  209207.0      4.863574  \n",
       "70  527815.0  Alaska    60.363574  209207.0      4.863574  \n",
       "71  527815.0  Alaska    60.363574  209207.0      4.863574  \n",
       "72  527815.0  Alaska    60.363574  209207.0      4.863574  \n",
       "73  527815.0  Alaska    60.363574  209207.0      4.863574  \n",
       "74  527815.0  Alaska    60.363574  209207.0      4.863574  \n",
       "75  527815.0  Alaska    60.363574  209207.0      4.863574  \n",
       "76  527815.0  Alaska    60.363574  209207.0      4.863574  \n",
       "77  527815.0  Alaska    60.363574  209207.0      4.863574  \n",
       "78  527815.0  Alaska    60.363574  209207.0      4.863574  \n",
       "79  527815.0  Alaska    60.363574  209207.0      4.863574  \n",
       "80  527815.0  Alaska    60.363574  209207.0      4.863574  \n",
       "81  527815.0  Alaska    60.363574  209207.0      4.863574  \n",
       "82  527815.0  Alaska    60.363574  209207.0      4.863574  \n",
       "83  527815.0  Alaska    60.363574  209207.0      4.863574  \n",
       "84  527815.0  Alaska    60.363574  209207.0      4.863574  \n",
       "85  527815.0  Alaska    60.363574  209207.0      4.863574  \n",
       "86  527815.0  Alaska    60.363574  209207.0      4.863574  \n",
       "87  527815.0  Alaska    60.363574  209207.0      4.863574  \n",
       "88  527815.0  Alaska    60.363574  209207.0      4.863574  \n",
       "89  527815.0  Alaska    60.363574  209207.0      4.863574  \n",
       "90  527815.0  Alaska    60.363574  209207.0      4.863574  \n",
       "91  527815.0  Alaska    60.363574  209207.0      4.863574  \n",
       "92  527815.0  Alaska    60.363574  209207.0      4.863574  \n",
       "93  527815.0  Alaska    60.363574  209207.0      4.863574  \n",
       "94  527815.0  Alaska    60.363574  209207.0      4.863574  \n",
       "95  527815.0  Alaska    60.363574  209207.0      4.863574  "
      ]
     },
     "execution_count": 62,
     "metadata": {},
     "output_type": "execute_result"
    }
   ],
   "source": [
    "df[df['stateAbbrev'] == 'AK']"
   ]
  },
  {
   "cell_type": "markdown",
   "metadata": {},
   "source": [
    "# Write out data"
   ]
  },
  {
   "cell_type": "code",
   "execution_count": 63,
   "metadata": {},
   "outputs": [
    {
     "data": {
      "text/plain": [
       "(3142, 9)"
      ]
     },
     "execution_count": 63,
     "metadata": {},
     "output_type": "execute_result"
    }
   ],
   "source": [
    "df.shape"
   ]
  },
  {
   "cell_type": "code",
   "execution_count": 64,
   "metadata": {},
   "outputs": [],
   "source": [
    "df.dropna(inplace=True)"
   ]
  },
  {
   "cell_type": "code",
   "execution_count": 65,
   "metadata": {},
   "outputs": [
    {
     "data": {
      "text/plain": [
       "(3140, 9)"
      ]
     },
     "execution_count": 65,
     "metadata": {},
     "output_type": "execute_result"
    }
   ],
   "source": [
    "df.shape"
   ]
  },
  {
   "cell_type": "code",
   "execution_count": 66,
   "metadata": {},
   "outputs": [],
   "source": [
    "df.to_csv('data/voterTurnout.csv', index=False)"
   ]
  },
  {
   "cell_type": "markdown",
   "metadata": {},
   "source": [
    "## misc"
   ]
  },
  {
   "cell_type": "code",
   "execution_count": 48,
   "metadata": {},
   "outputs": [],
   "source": [
    "strLen = df['countyName'].apply(lambda x: len(x))"
   ]
  },
  {
   "cell_type": "code",
   "execution_count": 49,
   "metadata": {},
   "outputs": [
    {
     "data": {
      "text/plain": [
       "<AxesSubplot:>"
      ]
     },
     "execution_count": 49,
     "metadata": {},
     "output_type": "execute_result"
    },
    {
     "data": {
      "image/png": "[encoded data removed]",
      "text/plain": [
       "<Figure size 720x360 with 1 Axes>"
      ]
     },
     "metadata": {},
     "output_type": "display_data"
    }
   ],
   "source": [
    "plt.figure(figsize=(10,5))\n",
    "strLen.hist(bins=100)"
   ]
  },
  {
   "cell_type": "code",
   "execution_count": 50,
   "metadata": {},
   "outputs": [
    {
     "data": {
      "text/plain": [
       "27"
      ]
     },
     "execution_count": 50,
     "metadata": {},
     "output_type": "execute_result"
    }
   ],
   "source": [
    "strLen.max()"
   ]
  },
  {
   "cell_type": "code",
   "execution_count": 51,
   "metadata": {},
   "outputs": [
    {
     "data": {
      "text/plain": [
       "stateAbbrev                              LA\n",
       "countyName      St. John the Baptist Parish\n",
       "FIPS                                  22095\n",
       "totalVotes                            20743\n",
       "VAP                                   31995\n",
       "state                             Louisiana\n",
       "turnoutPerc                          64.832\n",
       "nNonVote                              11252\n",
       "percFromMean                        9.33201\n",
       "Name: 1133, dtype: object"
      ]
     },
     "execution_count": 51,
     "metadata": {},
     "output_type": "execute_result"
    }
   ],
   "source": [
    "# county with the longest name\n",
    "df.loc[strLen.argmax()]"
   ]
  },
  {
   "cell_type": "code",
   "execution_count": 52,
   "metadata": {},
   "outputs": [
    {
     "data": {
      "text/plain": [
       "<AxesSubplot:>"
      ]
     },
     "execution_count": 52,
     "metadata": {},
     "output_type": "execute_result"
    },
    {
     "data": {
      "image/png": "[encoded data removed]",
      "text/plain": [
       "<Figure size 432x288 with 1 Axes>"
      ]
     },
     "metadata": {},
     "output_type": "display_data"
    }
   ],
   "source": [
    "df['turnoutPerc'].hist()"
   ]
  },
  {
   "cell_type": "code",
   "execution_count": 53,
   "metadata": {},
   "outputs": [
    {
     "data": {
      "text/html": [
       "<div>\n",
       "<style scoped>\n",
       "    .dataframe tbody tr th:only-of-type {\n",
       "        vertical-align: middle;\n",
       "    }\n",
       "\n",
       "    .dataframe tbody tr th {\n",
       "        vertical-align: top;\n",
       "    }\n",
       "\n",
       "    .dataframe thead th {\n",
       "        text-align: right;\n",
       "    }\n",
       "</style>\n",
       "<table border=\"1\" class=\"dataframe\">\n",
       "  <thead>\n",
       "    <tr style=\"text-align: right;\">\n",
       "      <th></th>\n",
       "      <th>stateAbbrev</th>\n",
       "      <th>countyName</th>\n",
       "      <th>FIPS</th>\n",
       "      <th>totalVotes</th>\n",
       "      <th>VAP</th>\n",
       "      <th>state</th>\n",
       "      <th>turnoutPerc</th>\n",
       "      <th>nNonVote</th>\n",
       "      <th>percFromMean</th>\n",
       "    </tr>\n",
       "  </thead>\n",
       "  <tbody>\n",
       "    <tr>\n",
       "      <th>274</th>\n",
       "      <td>CO</td>\n",
       "      <td>San Juan County</td>\n",
       "      <td>08111</td>\n",
       "      <td>506.0</td>\n",
       "      <td>495.0</td>\n",
       "      <td>Colorado</td>\n",
       "      <td>100.0</td>\n",
       "      <td>0.0</td>\n",
       "      <td>44.5</td>\n",
       "    </tr>\n",
       "    <tr>\n",
       "      <th>1779</th>\n",
       "      <td>NM</td>\n",
       "      <td>Harding County</td>\n",
       "      <td>35021</td>\n",
       "      <td>527.0</td>\n",
       "      <td>470.0</td>\n",
       "      <td>New Mexico</td>\n",
       "      <td>100.0</td>\n",
       "      <td>0.0</td>\n",
       "      <td>44.5</td>\n",
       "    </tr>\n",
       "    <tr>\n",
       "      <th>2646</th>\n",
       "      <td>TX</td>\n",
       "      <td>Loving County</td>\n",
       "      <td>48301</td>\n",
       "      <td>65.0</td>\n",
       "      <td>60.0</td>\n",
       "      <td>Texas</td>\n",
       "      <td>100.0</td>\n",
       "      <td>0.0</td>\n",
       "      <td>44.5</td>\n",
       "    </tr>\n",
       "    <tr>\n",
       "      <th>2651</th>\n",
       "      <td>TX</td>\n",
       "      <td>McMullen County</td>\n",
       "      <td>48311</td>\n",
       "      <td>499.0</td>\n",
       "      <td>460.0</td>\n",
       "      <td>Texas</td>\n",
       "      <td>100.0</td>\n",
       "      <td>0.0</td>\n",
       "      <td>44.5</td>\n",
       "    </tr>\n",
       "  </tbody>\n",
       "</table>\n",
       "</div>"
      ],
      "text/plain": [
       "     stateAbbrev       countyName   FIPS  totalVotes    VAP       state  \\\n",
       "274           CO  San Juan County  08111       506.0  495.0    Colorado   \n",
       "1779          NM   Harding County  35021       527.0  470.0  New Mexico   \n",
       "2646          TX    Loving County  48301        65.0   60.0       Texas   \n",
       "2651          TX  McMullen County  48311       499.0  460.0       Texas   \n",
       "\n",
       "      turnoutPerc  nNonVote  percFromMean  \n",
       "274         100.0       0.0          44.5  \n",
       "1779        100.0       0.0          44.5  \n",
       "2646        100.0       0.0          44.5  \n",
       "2651        100.0       0.0          44.5  "
      ]
     },
     "execution_count": 53,
     "metadata": {},
     "output_type": "execute_result"
    }
   ],
   "source": [
    "df.query('turnoutPerc >= 99')"
   ]
  },
  {
   "cell_type": "code",
   "execution_count": 54,
   "metadata": {},
   "outputs": [
    {
     "data": {
      "text/plain": [
       "<AxesSubplot:>"
      ]
     },
     "execution_count": 54,
     "metadata": {},
     "output_type": "execute_result"
    },
    {
     "data": {
      "image/png": "[encoded data removed]",
      "text/plain": [
       "<Figure size 432x288 with 1 Axes>"
      ]
     },
     "metadata": {},
     "output_type": "display_data"
    }
   ],
   "source": [
    "df['turnoutPerc'].hist()"
   ]
  },
  {
   "cell_type": "code",
   "execution_count": 55,
   "metadata": {},
   "outputs": [
    {
     "data": {
      "text/plain": [
       "1.4512856719885212"
      ]
     },
     "execution_count": 55,
     "metadata": {},
     "output_type": "execute_result"
    }
   ],
   "source": [
    "df['turnoutPerc'].min()"
   ]
  },
  {
   "cell_type": "code",
   "execution_count": null,
   "metadata": {},
   "outputs": [],
   "source": []
  }
 ],
 "metadata": {
  "kernelspec": {
   "display_name": "Python 3",
   "language": "python",
   "name": "python3"
  },
  "language_info": {
   "codemirror_mode": {
    "name": "ipython",
    "version": 3
   },
   "file_extension": ".py",
   "mimetype": "text/x-python",
   "name": "python",
   "nbconvert_exporter": "python",
   "pygments_lexer": "ipython3",
   "version": "3.6.4"
  }
 },
 "nbformat": 4,
 "nbformat_minor": 4
}
